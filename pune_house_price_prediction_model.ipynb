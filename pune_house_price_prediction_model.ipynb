{
  "cells": [
    {
      "cell_type": "markdown",
      "id": "309ace52",
      "metadata": {
        "papermill": {
          "duration": 0.075399,
          "end_time": "2021-07-30T16:14:25.070716",
          "exception": false,
          "start_time": "2021-07-30T16:14:24.995317",
          "status": "completed"
        },
        "tags": [],
        "id": "309ace52"
      },
      "source": [
        "# PUNE HOUSE PRICE PREDICTION MODEL"
      ]
    },
    {
      "cell_type": "markdown",
      "id": "15587987",
      "metadata": {
        "papermill": {
          "duration": 0.074604,
          "end_time": "2021-07-30T16:14:25.363904",
          "exception": false,
          "start_time": "2021-07-30T16:14:25.289300",
          "status": "completed"
        },
        "tags": [],
        "id": "15587987"
      },
      "source": [
        "### IMPORT LIBRARIES"
      ]
    },
    {
      "cell_type": "code",
      "execution_count": 2,
      "id": "a59714a2",
      "metadata": {
        "execution": {
          "iopub.execute_input": "2021-07-30T16:14:25.524072Z",
          "iopub.status.busy": "2021-07-30T16:14:25.523386Z",
          "iopub.status.idle": "2021-07-30T16:14:25.526485Z",
          "shell.execute_reply": "2021-07-30T16:14:25.525846Z",
          "shell.execute_reply.started": "2021-07-30T15:36:46.749762Z"
        },
        "papermill": {
          "duration": 0.090175,
          "end_time": "2021-07-30T16:14:25.526701",
          "exception": false,
          "start_time": "2021-07-30T16:14:25.436526",
          "status": "completed"
        },
        "tags": [],
        "id": "a59714a2"
      },
      "outputs": [],
      "source": [
        "import pandas as pd\n",
        "import numpy as np\n",
        "from matplotlib import pyplot as plt\n",
        "%matplotlib inline\n",
        "import matplotlib \n",
        "matplotlib.rcParams[\"figure.figsize\"] = (20,10)"
      ]
    },
    {
      "cell_type": "code",
      "source": [],
      "metadata": {
        "id": "IKBPpInt9rgD"
      },
      "id": "IKBPpInt9rgD",
      "execution_count": null,
      "outputs": []
    },
    {
      "cell_type": "markdown",
      "id": "69eb397b",
      "metadata": {
        "papermill": {
          "duration": 0.072459,
          "end_time": "2021-07-30T16:14:25.672436",
          "exception": false,
          "start_time": "2021-07-30T16:14:25.599977",
          "status": "completed"
        },
        "tags": [],
        "id": "69eb397b"
      },
      "source": [
        "### LOAD DATASET"
      ]
    },
    {
      "cell_type": "code",
      "execution_count": 3,
      "id": "36bc1dbe",
      "metadata": {
        "execution": {
          "iopub.execute_input": "2021-07-30T16:14:25.827499Z",
          "iopub.status.busy": "2021-07-30T16:14:25.826699Z",
          "iopub.status.idle": "2021-07-30T16:14:26.000221Z",
          "shell.execute_reply": "2021-07-30T16:14:25.999679Z",
          "shell.execute_reply.started": "2021-07-30T15:36:46.759444Z"
        },
        "papermill": {
          "duration": 0.252507,
          "end_time": "2021-07-30T16:14:26.000375",
          "exception": false,
          "start_time": "2021-07-30T16:14:25.747868",
          "status": "completed"
        },
        "scrolled": true,
        "tags": [],
        "id": "36bc1dbe",
        "outputId": "5674ab12-b235-4eb3-e43a-f5becd7432f8",
        "colab": {
          "base_uri": "https://localhost:8080/",
          "height": 206
        }
      },
      "outputs": [
        {
          "output_type": "execute_result",
          "data": {
            "text/plain": [
              "              area_type   availability         location       size  society  \\\n",
              "0  Super built-up  Area         19-Dec      Alandi Road      2 BHK  Coomee    \n",
              "1            Plot  Area  Ready To Move  Ambegaon Budruk  4 Bedroom  Theanmp   \n",
              "2        Built-up  Area  Ready To Move       Anandnagar      3 BHK      NaN   \n",
              "3  Super built-up  Area  Ready To Move            Aundh      3 BHK  Soiewre   \n",
              "4  Super built-up  Area  Ready To Move       Aundh Road      2 BHK      NaN   \n",
              "\n",
              "  total_sqft  bath  balcony   price  \n",
              "0       1056   2.0      1.0   39.07  \n",
              "1       2600   5.0      3.0  120.00  \n",
              "2       1440   2.0      3.0   62.00  \n",
              "3       1521   3.0      1.0   95.00  \n",
              "4       1200   2.0      1.0   51.00  "
            ],
            "text/html": [
              "\n",
              "  <div id=\"df-776ae632-70e6-4f00-b068-a03e586a9a6a\">\n",
              "    <div class=\"colab-df-container\">\n",
              "      <div>\n",
              "<style scoped>\n",
              "    .dataframe tbody tr th:only-of-type {\n",
              "        vertical-align: middle;\n",
              "    }\n",
              "\n",
              "    .dataframe tbody tr th {\n",
              "        vertical-align: top;\n",
              "    }\n",
              "\n",
              "    .dataframe thead th {\n",
              "        text-align: right;\n",
              "    }\n",
              "</style>\n",
              "<table border=\"1\" class=\"dataframe\">\n",
              "  <thead>\n",
              "    <tr style=\"text-align: right;\">\n",
              "      <th></th>\n",
              "      <th>area_type</th>\n",
              "      <th>availability</th>\n",
              "      <th>location</th>\n",
              "      <th>size</th>\n",
              "      <th>society</th>\n",
              "      <th>total_sqft</th>\n",
              "      <th>bath</th>\n",
              "      <th>balcony</th>\n",
              "      <th>price</th>\n",
              "    </tr>\n",
              "  </thead>\n",
              "  <tbody>\n",
              "    <tr>\n",
              "      <th>0</th>\n",
              "      <td>Super built-up  Area</td>\n",
              "      <td>19-Dec</td>\n",
              "      <td>Alandi Road</td>\n",
              "      <td>2 BHK</td>\n",
              "      <td>Coomee</td>\n",
              "      <td>1056</td>\n",
              "      <td>2.0</td>\n",
              "      <td>1.0</td>\n",
              "      <td>39.07</td>\n",
              "    </tr>\n",
              "    <tr>\n",
              "      <th>1</th>\n",
              "      <td>Plot  Area</td>\n",
              "      <td>Ready To Move</td>\n",
              "      <td>Ambegaon Budruk</td>\n",
              "      <td>4 Bedroom</td>\n",
              "      <td>Theanmp</td>\n",
              "      <td>2600</td>\n",
              "      <td>5.0</td>\n",
              "      <td>3.0</td>\n",
              "      <td>120.00</td>\n",
              "    </tr>\n",
              "    <tr>\n",
              "      <th>2</th>\n",
              "      <td>Built-up  Area</td>\n",
              "      <td>Ready To Move</td>\n",
              "      <td>Anandnagar</td>\n",
              "      <td>3 BHK</td>\n",
              "      <td>NaN</td>\n",
              "      <td>1440</td>\n",
              "      <td>2.0</td>\n",
              "      <td>3.0</td>\n",
              "      <td>62.00</td>\n",
              "    </tr>\n",
              "    <tr>\n",
              "      <th>3</th>\n",
              "      <td>Super built-up  Area</td>\n",
              "      <td>Ready To Move</td>\n",
              "      <td>Aundh</td>\n",
              "      <td>3 BHK</td>\n",
              "      <td>Soiewre</td>\n",
              "      <td>1521</td>\n",
              "      <td>3.0</td>\n",
              "      <td>1.0</td>\n",
              "      <td>95.00</td>\n",
              "    </tr>\n",
              "    <tr>\n",
              "      <th>4</th>\n",
              "      <td>Super built-up  Area</td>\n",
              "      <td>Ready To Move</td>\n",
              "      <td>Aundh Road</td>\n",
              "      <td>2 BHK</td>\n",
              "      <td>NaN</td>\n",
              "      <td>1200</td>\n",
              "      <td>2.0</td>\n",
              "      <td>1.0</td>\n",
              "      <td>51.00</td>\n",
              "    </tr>\n",
              "  </tbody>\n",
              "</table>\n",
              "</div>\n",
              "      <button class=\"colab-df-convert\" onclick=\"convertToInteractive('df-776ae632-70e6-4f00-b068-a03e586a9a6a')\"\n",
              "              title=\"Convert this dataframe to an interactive table.\"\n",
              "              style=\"display:none;\">\n",
              "        \n",
              "  <svg xmlns=\"http://www.w3.org/2000/svg\" height=\"24px\"viewBox=\"0 0 24 24\"\n",
              "       width=\"24px\">\n",
              "    <path d=\"M0 0h24v24H0V0z\" fill=\"none\"/>\n",
              "    <path d=\"M18.56 5.44l.94 2.06.94-2.06 2.06-.94-2.06-.94-.94-2.06-.94 2.06-2.06.94zm-11 1L8.5 8.5l.94-2.06 2.06-.94-2.06-.94L8.5 2.5l-.94 2.06-2.06.94zm10 10l.94 2.06.94-2.06 2.06-.94-2.06-.94-.94-2.06-.94 2.06-2.06.94z\"/><path d=\"M17.41 7.96l-1.37-1.37c-.4-.4-.92-.59-1.43-.59-.52 0-1.04.2-1.43.59L10.3 9.45l-7.72 7.72c-.78.78-.78 2.05 0 2.83L4 21.41c.39.39.9.59 1.41.59.51 0 1.02-.2 1.41-.59l7.78-7.78 2.81-2.81c.8-.78.8-2.07 0-2.86zM5.41 20L4 18.59l7.72-7.72 1.47 1.35L5.41 20z\"/>\n",
              "  </svg>\n",
              "      </button>\n",
              "      \n",
              "  <style>\n",
              "    .colab-df-container {\n",
              "      display:flex;\n",
              "      flex-wrap:wrap;\n",
              "      gap: 12px;\n",
              "    }\n",
              "\n",
              "    .colab-df-convert {\n",
              "      background-color: #E8F0FE;\n",
              "      border: none;\n",
              "      border-radius: 50%;\n",
              "      cursor: pointer;\n",
              "      display: none;\n",
              "      fill: #1967D2;\n",
              "      height: 32px;\n",
              "      padding: 0 0 0 0;\n",
              "      width: 32px;\n",
              "    }\n",
              "\n",
              "    .colab-df-convert:hover {\n",
              "      background-color: #E2EBFA;\n",
              "      box-shadow: 0px 1px 2px rgba(60, 64, 67, 0.3), 0px 1px 3px 1px rgba(60, 64, 67, 0.15);\n",
              "      fill: #174EA6;\n",
              "    }\n",
              "\n",
              "    [theme=dark] .colab-df-convert {\n",
              "      background-color: #3B4455;\n",
              "      fill: #D2E3FC;\n",
              "    }\n",
              "\n",
              "    [theme=dark] .colab-df-convert:hover {\n",
              "      background-color: #434B5C;\n",
              "      box-shadow: 0px 1px 3px 1px rgba(0, 0, 0, 0.15);\n",
              "      filter: drop-shadow(0px 1px 2px rgba(0, 0, 0, 0.3));\n",
              "      fill: #FFFFFF;\n",
              "    }\n",
              "  </style>\n",
              "\n",
              "      <script>\n",
              "        const buttonEl =\n",
              "          document.querySelector('#df-776ae632-70e6-4f00-b068-a03e586a9a6a button.colab-df-convert');\n",
              "        buttonEl.style.display =\n",
              "          google.colab.kernel.accessAllowed ? 'block' : 'none';\n",
              "\n",
              "        async function convertToInteractive(key) {\n",
              "          const element = document.querySelector('#df-776ae632-70e6-4f00-b068-a03e586a9a6a');\n",
              "          const dataTable =\n",
              "            await google.colab.kernel.invokeFunction('convertToInteractive',\n",
              "                                                     [key], {});\n",
              "          if (!dataTable) return;\n",
              "\n",
              "          const docLinkHtml = 'Like what you see? Visit the ' +\n",
              "            '<a target=\"_blank\" href=https://colab.research.google.com/notebooks/data_table.ipynb>data table notebook</a>'\n",
              "            + ' to learn more about interactive tables.';\n",
              "          element.innerHTML = '';\n",
              "          dataTable['output_type'] = 'display_data';\n",
              "          await google.colab.output.renderOutput(dataTable, element);\n",
              "          const docLink = document.createElement('div');\n",
              "          docLink.innerHTML = docLinkHtml;\n",
              "          element.appendChild(docLink);\n",
              "        }\n",
              "      </script>\n",
              "    </div>\n",
              "  </div>\n",
              "  "
            ]
          },
          "metadata": {},
          "execution_count": 3
        }
      ],
      "source": [
        "df1 = pd.read_csv(\"/content/Pune_House_Data.csv\")\n",
        "df1.head()"
      ]
    },
    {
      "cell_type": "markdown",
      "id": "055c89b0",
      "metadata": {
        "papermill": {
          "duration": 0.073959,
          "end_time": "2021-07-30T16:14:26.148962",
          "exception": false,
          "start_time": "2021-07-30T16:14:26.075003",
          "status": "completed"
        },
        "tags": [],
        "id": "055c89b0"
      },
      "source": [
        "### EXPLORATORY DATA ANALYSIS"
      ]
    },
    {
      "cell_type": "code",
      "execution_count": 4,
      "id": "e7b7bfa4",
      "metadata": {
        "execution": {
          "iopub.execute_input": "2021-07-30T16:14:26.302925Z",
          "iopub.status.busy": "2021-07-30T16:14:26.302056Z",
          "iopub.status.idle": "2021-07-30T16:14:26.306856Z",
          "shell.execute_reply": "2021-07-30T16:14:26.306214Z",
          "shell.execute_reply.started": "2021-07-30T15:36:46.822430Z"
        },
        "papermill": {
          "duration": 0.084216,
          "end_time": "2021-07-30T16:14:26.307000",
          "exception": false,
          "start_time": "2021-07-30T16:14:26.222784",
          "status": "completed"
        },
        "tags": [],
        "id": "e7b7bfa4",
        "outputId": "7c2c85da-b54a-47e5-fed4-14e6d409ba25",
        "colab": {
          "base_uri": "https://localhost:8080/"
        }
      },
      "outputs": [
        {
          "output_type": "execute_result",
          "data": {
            "text/plain": [
              "(13320, 9)"
            ]
          },
          "metadata": {},
          "execution_count": 4
        }
      ],
      "source": [
        "df1.shape"
      ]
    },
    {
      "cell_type": "code",
      "execution_count": 5,
      "id": "d04730ec",
      "metadata": {
        "execution": {
          "iopub.execute_input": "2021-07-30T16:14:26.463172Z",
          "iopub.status.busy": "2021-07-30T16:14:26.462277Z",
          "iopub.status.idle": "2021-07-30T16:14:26.466282Z",
          "shell.execute_reply": "2021-07-30T16:14:26.466905Z",
          "shell.execute_reply.started": "2021-07-30T15:36:46.830157Z"
        },
        "papermill": {
          "duration": 0.086048,
          "end_time": "2021-07-30T16:14:26.467108",
          "exception": false,
          "start_time": "2021-07-30T16:14:26.381060",
          "status": "completed"
        },
        "tags": [],
        "id": "d04730ec",
        "outputId": "dd79a7ba-e4cb-472b-a82e-0b2db8b94037",
        "colab": {
          "base_uri": "https://localhost:8080/"
        }
      },
      "outputs": [
        {
          "output_type": "execute_result",
          "data": {
            "text/plain": [
              "Index(['area_type', 'availability', 'location', 'size', 'society',\n",
              "       'total_sqft', 'bath', 'balcony', 'price'],\n",
              "      dtype='object')"
            ]
          },
          "metadata": {},
          "execution_count": 5
        }
      ],
      "source": [
        "df1.columns"
      ]
    },
    {
      "cell_type": "code",
      "execution_count": 6,
      "id": "0e51b002",
      "metadata": {
        "execution": {
          "iopub.execute_input": "2021-07-30T16:14:26.618117Z",
          "iopub.status.busy": "2021-07-30T16:14:26.616925Z",
          "iopub.status.idle": "2021-07-30T16:14:26.628882Z",
          "shell.execute_reply": "2021-07-30T16:14:26.629608Z",
          "shell.execute_reply.started": "2021-07-30T15:36:46.843847Z"
        },
        "papermill": {
          "duration": 0.088982,
          "end_time": "2021-07-30T16:14:26.629797",
          "exception": false,
          "start_time": "2021-07-30T16:14:26.540815",
          "status": "completed"
        },
        "tags": [],
        "id": "0e51b002",
        "outputId": "ce170e47-d22a-4aff-d9c3-0911aebbf063",
        "colab": {
          "base_uri": "https://localhost:8080/"
        }
      },
      "outputs": [
        {
          "output_type": "execute_result",
          "data": {
            "text/plain": [
              "array(['Super built-up  Area', 'Plot  Area', 'Built-up  Area',\n",
              "       'Carpet  Area'], dtype=object)"
            ]
          },
          "metadata": {},
          "execution_count": 6
        }
      ],
      "source": [
        "df1['area_type'].unique()"
      ]
    },
    {
      "cell_type": "code",
      "execution_count": 7,
      "id": "36fc921c",
      "metadata": {
        "execution": {
          "iopub.execute_input": "2021-07-30T16:14:26.801329Z",
          "iopub.status.busy": "2021-07-30T16:14:26.800287Z",
          "iopub.status.idle": "2021-07-30T16:14:26.805282Z",
          "shell.execute_reply": "2021-07-30T16:14:26.804463Z",
          "shell.execute_reply.started": "2021-07-30T15:36:46.857817Z"
        },
        "papermill": {
          "duration": 0.09354,
          "end_time": "2021-07-30T16:14:26.805487",
          "exception": false,
          "start_time": "2021-07-30T16:14:26.711947",
          "status": "completed"
        },
        "tags": [],
        "id": "36fc921c",
        "outputId": "413d1ec4-1e44-47fa-9415-2022c682fbf5",
        "colab": {
          "base_uri": "https://localhost:8080/"
        }
      },
      "outputs": [
        {
          "output_type": "execute_result",
          "data": {
            "text/plain": [
              "Super built-up  Area    8790\n",
              "Built-up  Area          2418\n",
              "Plot  Area              2025\n",
              "Carpet  Area              87\n",
              "Name: area_type, dtype: int64"
            ]
          },
          "metadata": {},
          "execution_count": 7
        }
      ],
      "source": [
        "df1['area_type'].value_counts()"
      ]
    },
    {
      "cell_type": "markdown",
      "id": "7c598e3e",
      "metadata": {
        "papermill": {
          "duration": 0.076636,
          "end_time": "2021-07-30T16:14:26.958524",
          "exception": false,
          "start_time": "2021-07-30T16:14:26.881888",
          "status": "completed"
        },
        "tags": [],
        "id": "7c598e3e"
      },
      "source": [
        "**NOTE:** DROP UNNECESSARY FEATURES"
      ]
    },
    {
      "cell_type": "code",
      "execution_count": 8,
      "id": "c4ab12f4",
      "metadata": {
        "execution": {
          "iopub.execute_input": "2021-07-30T16:14:27.119395Z",
          "iopub.status.busy": "2021-07-30T16:14:27.118686Z",
          "iopub.status.idle": "2021-07-30T16:14:27.121914Z",
          "shell.execute_reply": "2021-07-30T16:14:27.122498Z",
          "shell.execute_reply.started": "2021-07-30T15:36:46.875470Z"
        },
        "papermill": {
          "duration": 0.086878,
          "end_time": "2021-07-30T16:14:27.122686",
          "exception": false,
          "start_time": "2021-07-30T16:14:27.035808",
          "status": "completed"
        },
        "tags": [],
        "id": "c4ab12f4",
        "outputId": "204fa298-443a-4fed-d494-8c26ca12445d",
        "colab": {
          "base_uri": "https://localhost:8080/"
        }
      },
      "outputs": [
        {
          "output_type": "execute_result",
          "data": {
            "text/plain": [
              "(13320, 5)"
            ]
          },
          "metadata": {},
          "execution_count": 8
        }
      ],
      "source": [
        "df2 = df1.drop(['area_type','society','balcony','availability'],axis='columns')\n",
        "df2.shape"
      ]
    },
    {
      "cell_type": "markdown",
      "id": "e0feb7b5",
      "metadata": {
        "papermill": {
          "duration": 0.075662,
          "end_time": "2021-07-30T16:14:27.273210",
          "exception": false,
          "start_time": "2021-07-30T16:14:27.197548",
          "status": "completed"
        },
        "tags": [],
        "id": "e0feb7b5"
      },
      "source": [
        "### DATA CLEANING"
      ]
    },
    {
      "cell_type": "code",
      "execution_count": 9,
      "id": "fd28a2d0",
      "metadata": {
        "execution": {
          "iopub.execute_input": "2021-07-30T16:14:27.431734Z",
          "iopub.status.busy": "2021-07-30T16:14:27.430938Z",
          "iopub.status.idle": "2021-07-30T16:14:27.444876Z",
          "shell.execute_reply": "2021-07-30T16:14:27.444257Z",
          "shell.execute_reply.started": "2021-07-30T15:36:46.890616Z"
        },
        "papermill": {
          "duration": 0.093621,
          "end_time": "2021-07-30T16:14:27.445030",
          "exception": false,
          "start_time": "2021-07-30T16:14:27.351409",
          "status": "completed"
        },
        "tags": [],
        "id": "fd28a2d0",
        "outputId": "b35ae864-0240-44d0-ecd1-55dd10536ca2",
        "colab": {
          "base_uri": "https://localhost:8080/"
        }
      },
      "outputs": [
        {
          "output_type": "execute_result",
          "data": {
            "text/plain": [
              "location       1\n",
              "size          16\n",
              "total_sqft     0\n",
              "bath          73\n",
              "price          0\n",
              "dtype: int64"
            ]
          },
          "metadata": {},
          "execution_count": 9
        }
      ],
      "source": [
        "df2.isnull().sum()"
      ]
    },
    {
      "cell_type": "code",
      "execution_count": 10,
      "id": "9e583895",
      "metadata": {
        "execution": {
          "iopub.execute_input": "2021-07-30T16:14:27.595958Z",
          "iopub.status.busy": "2021-07-30T16:14:27.595261Z",
          "iopub.status.idle": "2021-07-30T16:14:27.601506Z",
          "shell.execute_reply": "2021-07-30T16:14:27.601007Z",
          "shell.execute_reply.started": "2021-07-30T15:36:46.910358Z"
        },
        "papermill": {
          "duration": 0.082492,
          "end_time": "2021-07-30T16:14:27.601669",
          "exception": false,
          "start_time": "2021-07-30T16:14:27.519177",
          "status": "completed"
        },
        "tags": [],
        "id": "9e583895",
        "outputId": "b9283ec8-bd6e-4ea5-ffc1-87c4fbd42d43",
        "colab": {
          "base_uri": "https://localhost:8080/"
        }
      },
      "outputs": [
        {
          "output_type": "execute_result",
          "data": {
            "text/plain": [
              "(13320, 5)"
            ]
          },
          "metadata": {},
          "execution_count": 10
        }
      ],
      "source": [
        "df2.shape"
      ]
    },
    {
      "cell_type": "code",
      "execution_count": 11,
      "id": "181cf7b2",
      "metadata": {
        "execution": {
          "iopub.execute_input": "2021-07-30T16:14:27.759839Z",
          "iopub.status.busy": "2021-07-30T16:14:27.759105Z",
          "iopub.status.idle": "2021-07-30T16:14:27.796326Z",
          "shell.execute_reply": "2021-07-30T16:14:27.796805Z",
          "shell.execute_reply.started": "2021-07-30T15:36:46.921369Z"
        },
        "papermill": {
          "duration": 0.121936,
          "end_time": "2021-07-30T16:14:27.797013",
          "exception": false,
          "start_time": "2021-07-30T16:14:27.675077",
          "status": "completed"
        },
        "tags": [],
        "id": "181cf7b2",
        "outputId": "4ea36d82-45bf-488a-802b-5e5c296f88af",
        "colab": {
          "base_uri": "https://localhost:8080/"
        }
      },
      "outputs": [
        {
          "output_type": "execute_result",
          "data": {
            "text/plain": [
              "location      0\n",
              "size          0\n",
              "total_sqft    0\n",
              "bath          0\n",
              "price         0\n",
              "dtype: int64"
            ]
          },
          "metadata": {},
          "execution_count": 11
        }
      ],
      "source": [
        "df3 = df2.dropna()\n",
        "df3.isnull().sum()"
      ]
    },
    {
      "cell_type": "code",
      "execution_count": 12,
      "id": "cf4606e7",
      "metadata": {
        "execution": {
          "iopub.execute_input": "2021-07-30T16:14:27.951989Z",
          "iopub.status.busy": "2021-07-30T16:14:27.951225Z",
          "iopub.status.idle": "2021-07-30T16:14:27.955356Z",
          "shell.execute_reply": "2021-07-30T16:14:27.954647Z",
          "shell.execute_reply.started": "2021-07-30T15:36:46.964706Z"
        },
        "papermill": {
          "duration": 0.083152,
          "end_time": "2021-07-30T16:14:27.955509",
          "exception": false,
          "start_time": "2021-07-30T16:14:27.872357",
          "status": "completed"
        },
        "tags": [],
        "id": "cf4606e7",
        "outputId": "91b98d1a-75d7-4fc2-d410-bcd4ffa11f25",
        "colab": {
          "base_uri": "https://localhost:8080/"
        }
      },
      "outputs": [
        {
          "output_type": "execute_result",
          "data": {
            "text/plain": [
              "(13246, 5)"
            ]
          },
          "metadata": {},
          "execution_count": 12
        }
      ],
      "source": [
        "df3.shape"
      ]
    },
    {
      "cell_type": "markdown",
      "id": "24264508",
      "metadata": {
        "papermill": {
          "duration": 0.073757,
          "end_time": "2021-07-30T16:14:28.104259",
          "exception": false,
          "start_time": "2021-07-30T16:14:28.030502",
          "status": "completed"
        },
        "tags": [],
        "id": "24264508"
      },
      "source": [
        "### FEATURE ENGINEERING"
      ]
    },
    {
      "cell_type": "code",
      "execution_count": 13,
      "id": "f97c9022",
      "metadata": {
        "execution": {
          "iopub.execute_input": "2021-07-30T16:14:28.255217Z",
          "iopub.status.busy": "2021-07-30T16:14:28.254503Z",
          "iopub.status.idle": "2021-07-30T16:14:28.281231Z",
          "shell.execute_reply": "2021-07-30T16:14:28.280311Z",
          "shell.execute_reply.started": "2021-07-30T15:36:46.972550Z"
        },
        "papermill": {
          "duration": 0.103113,
          "end_time": "2021-07-30T16:14:28.281424",
          "exception": false,
          "start_time": "2021-07-30T16:14:28.178311",
          "status": "completed"
        },
        "tags": [],
        "id": "f97c9022",
        "outputId": "597762f8-2164-482e-e470-1df3ff12959b",
        "colab": {
          "base_uri": "https://localhost:8080/"
        }
      },
      "outputs": [
        {
          "output_type": "stream",
          "name": "stderr",
          "text": [
            "<ipython-input-13-681cf3aca53d>:1: SettingWithCopyWarning: \n",
            "A value is trying to be set on a copy of a slice from a DataFrame.\n",
            "Try using .loc[row_indexer,col_indexer] = value instead\n",
            "\n",
            "See the caveats in the documentation: https://pandas.pydata.org/pandas-docs/stable/user_guide/indexing.html#returning-a-view-versus-a-copy\n",
            "  df3['bhk'] = df3['size'].apply(lambda x: int(x.split(' ')[0]))\n"
          ]
        },
        {
          "output_type": "execute_result",
          "data": {
            "text/plain": [
              "array([ 2,  4,  3,  6,  1,  8,  7,  5, 11,  9, 27, 10, 19, 16, 43, 14, 12,\n",
              "       13, 18])"
            ]
          },
          "metadata": {},
          "execution_count": 13
        }
      ],
      "source": [
        "df3['bhk'] = df3['size'].apply(lambda x: int(x.split(' ')[0]))\n",
        "df3.bhk.unique()"
      ]
    },
    {
      "cell_type": "markdown",
      "id": "9a5701dc",
      "metadata": {
        "papermill": {
          "duration": 0.076372,
          "end_time": "2021-07-30T16:14:28.434921",
          "exception": false,
          "start_time": "2021-07-30T16:14:28.358549",
          "status": "completed"
        },
        "tags": [],
        "id": "9a5701dc"
      },
      "source": [
        "**EXPLORE TOTAL SQFT FEATURE**"
      ]
    },
    {
      "cell_type": "code",
      "execution_count": 14,
      "id": "a1fb79b1",
      "metadata": {
        "execution": {
          "iopub.execute_input": "2021-07-30T16:14:28.594656Z",
          "iopub.status.busy": "2021-07-30T16:14:28.593988Z",
          "iopub.status.idle": "2021-07-30T16:14:28.597190Z",
          "shell.execute_reply": "2021-07-30T16:14:28.596541Z",
          "shell.execute_reply.started": "2021-07-30T15:36:47.006351Z"
        },
        "papermill": {
          "duration": 0.084526,
          "end_time": "2021-07-30T16:14:28.597329",
          "exception": false,
          "start_time": "2021-07-30T16:14:28.512803",
          "status": "completed"
        },
        "tags": [],
        "id": "a1fb79b1"
      },
      "outputs": [],
      "source": [
        "def is_float(x):\n",
        "    try:\n",
        "        float(x)\n",
        "    except:\n",
        "        return False\n",
        "    return True"
      ]
    },
    {
      "cell_type": "code",
      "execution_count": 15,
      "id": "7895aea6",
      "metadata": {
        "execution": {
          "iopub.execute_input": "2021-07-30T16:14:28.752395Z",
          "iopub.status.busy": "2021-07-30T16:14:28.751480Z",
          "iopub.status.idle": "2021-07-30T16:14:28.755069Z",
          "shell.execute_reply": "2021-07-30T16:14:28.755615Z",
          "shell.execute_reply.started": "2021-07-30T15:36:47.013912Z"
        },
        "papermill": {
          "duration": 0.083864,
          "end_time": "2021-07-30T16:14:28.755805",
          "exception": false,
          "start_time": "2021-07-30T16:14:28.671941",
          "status": "completed"
        },
        "tags": [],
        "id": "7895aea6",
        "outputId": "1510a2ee-50ac-404f-dffc-b7670e516ef0",
        "colab": {
          "base_uri": "https://localhost:8080/"
        }
      },
      "outputs": [
        {
          "output_type": "execute_result",
          "data": {
            "text/plain": [
              "5"
            ]
          },
          "metadata": {},
          "execution_count": 15
        }
      ],
      "source": [
        "2+3"
      ]
    },
    {
      "cell_type": "code",
      "execution_count": 16,
      "id": "217801d9",
      "metadata": {
        "execution": {
          "iopub.execute_input": "2021-07-30T16:14:28.910637Z",
          "iopub.status.busy": "2021-07-30T16:14:28.909662Z",
          "iopub.status.idle": "2021-07-30T16:14:28.933677Z",
          "shell.execute_reply": "2021-07-30T16:14:28.934194Z",
          "shell.execute_reply.started": "2021-07-30T15:36:47.027654Z"
        },
        "papermill": {
          "duration": 0.10259,
          "end_time": "2021-07-30T16:14:28.934375",
          "exception": false,
          "start_time": "2021-07-30T16:14:28.831785",
          "status": "completed"
        },
        "scrolled": true,
        "tags": [],
        "id": "217801d9",
        "outputId": "fb128785-11f4-4490-cb16-e8ad02d1a978",
        "colab": {
          "base_uri": "https://localhost:8080/",
          "height": 363
        }
      },
      "outputs": [
        {
          "output_type": "execute_result",
          "data": {
            "text/plain": [
              "         location       size      total_sqft  bath    price  bhk\n",
              "30       Gultekdi      4 BHK     2100 - 2850   4.0  186.000    4\n",
              "122   Ganeshkhind      4 BHK     3067 - 8156   4.0  477.000    4\n",
              "137       Khadaki      2 BHK     1042 - 1105   2.0   54.005    2\n",
              "165  Prabhat Road      2 BHK     1145 - 1340   2.0   43.490    2\n",
              "188    Wakadewadi      2 BHK     1015 - 1540   2.0   56.800    2\n",
              "410   Ganeshkhind      1 BHK  34.46Sq. Meter   1.0   18.500    1\n",
              "549  Prabhat Road      2 BHK     1195 - 1440   2.0   63.770    2\n",
              "648  Raviwar Peth  9 Bedroom       4125Perch   9.0  265.000    9\n",
              "661    Tilak Road      2 BHK     1120 - 1145   2.0   48.130    2\n",
              "672   Alandi Road  4 Bedroom     3090 - 5002   4.0  445.000    4"
            ],
            "text/html": [
              "\n",
              "  <div id=\"df-bf9474bd-6e21-4c52-8091-70cde842d131\">\n",
              "    <div class=\"colab-df-container\">\n",
              "      <div>\n",
              "<style scoped>\n",
              "    .dataframe tbody tr th:only-of-type {\n",
              "        vertical-align: middle;\n",
              "    }\n",
              "\n",
              "    .dataframe tbody tr th {\n",
              "        vertical-align: top;\n",
              "    }\n",
              "\n",
              "    .dataframe thead th {\n",
              "        text-align: right;\n",
              "    }\n",
              "</style>\n",
              "<table border=\"1\" class=\"dataframe\">\n",
              "  <thead>\n",
              "    <tr style=\"text-align: right;\">\n",
              "      <th></th>\n",
              "      <th>location</th>\n",
              "      <th>size</th>\n",
              "      <th>total_sqft</th>\n",
              "      <th>bath</th>\n",
              "      <th>price</th>\n",
              "      <th>bhk</th>\n",
              "    </tr>\n",
              "  </thead>\n",
              "  <tbody>\n",
              "    <tr>\n",
              "      <th>30</th>\n",
              "      <td>Gultekdi</td>\n",
              "      <td>4 BHK</td>\n",
              "      <td>2100 - 2850</td>\n",
              "      <td>4.0</td>\n",
              "      <td>186.000</td>\n",
              "      <td>4</td>\n",
              "    </tr>\n",
              "    <tr>\n",
              "      <th>122</th>\n",
              "      <td>Ganeshkhind</td>\n",
              "      <td>4 BHK</td>\n",
              "      <td>3067 - 8156</td>\n",
              "      <td>4.0</td>\n",
              "      <td>477.000</td>\n",
              "      <td>4</td>\n",
              "    </tr>\n",
              "    <tr>\n",
              "      <th>137</th>\n",
              "      <td>Khadaki</td>\n",
              "      <td>2 BHK</td>\n",
              "      <td>1042 - 1105</td>\n",
              "      <td>2.0</td>\n",
              "      <td>54.005</td>\n",
              "      <td>2</td>\n",
              "    </tr>\n",
              "    <tr>\n",
              "      <th>165</th>\n",
              "      <td>Prabhat Road</td>\n",
              "      <td>2 BHK</td>\n",
              "      <td>1145 - 1340</td>\n",
              "      <td>2.0</td>\n",
              "      <td>43.490</td>\n",
              "      <td>2</td>\n",
              "    </tr>\n",
              "    <tr>\n",
              "      <th>188</th>\n",
              "      <td>Wakadewadi</td>\n",
              "      <td>2 BHK</td>\n",
              "      <td>1015 - 1540</td>\n",
              "      <td>2.0</td>\n",
              "      <td>56.800</td>\n",
              "      <td>2</td>\n",
              "    </tr>\n",
              "    <tr>\n",
              "      <th>410</th>\n",
              "      <td>Ganeshkhind</td>\n",
              "      <td>1 BHK</td>\n",
              "      <td>34.46Sq. Meter</td>\n",
              "      <td>1.0</td>\n",
              "      <td>18.500</td>\n",
              "      <td>1</td>\n",
              "    </tr>\n",
              "    <tr>\n",
              "      <th>549</th>\n",
              "      <td>Prabhat Road</td>\n",
              "      <td>2 BHK</td>\n",
              "      <td>1195 - 1440</td>\n",
              "      <td>2.0</td>\n",
              "      <td>63.770</td>\n",
              "      <td>2</td>\n",
              "    </tr>\n",
              "    <tr>\n",
              "      <th>648</th>\n",
              "      <td>Raviwar Peth</td>\n",
              "      <td>9 Bedroom</td>\n",
              "      <td>4125Perch</td>\n",
              "      <td>9.0</td>\n",
              "      <td>265.000</td>\n",
              "      <td>9</td>\n",
              "    </tr>\n",
              "    <tr>\n",
              "      <th>661</th>\n",
              "      <td>Tilak Road</td>\n",
              "      <td>2 BHK</td>\n",
              "      <td>1120 - 1145</td>\n",
              "      <td>2.0</td>\n",
              "      <td>48.130</td>\n",
              "      <td>2</td>\n",
              "    </tr>\n",
              "    <tr>\n",
              "      <th>672</th>\n",
              "      <td>Alandi Road</td>\n",
              "      <td>4 Bedroom</td>\n",
              "      <td>3090 - 5002</td>\n",
              "      <td>4.0</td>\n",
              "      <td>445.000</td>\n",
              "      <td>4</td>\n",
              "    </tr>\n",
              "  </tbody>\n",
              "</table>\n",
              "</div>\n",
              "      <button class=\"colab-df-convert\" onclick=\"convertToInteractive('df-bf9474bd-6e21-4c52-8091-70cde842d131')\"\n",
              "              title=\"Convert this dataframe to an interactive table.\"\n",
              "              style=\"display:none;\">\n",
              "        \n",
              "  <svg xmlns=\"http://www.w3.org/2000/svg\" height=\"24px\"viewBox=\"0 0 24 24\"\n",
              "       width=\"24px\">\n",
              "    <path d=\"M0 0h24v24H0V0z\" fill=\"none\"/>\n",
              "    <path d=\"M18.56 5.44l.94 2.06.94-2.06 2.06-.94-2.06-.94-.94-2.06-.94 2.06-2.06.94zm-11 1L8.5 8.5l.94-2.06 2.06-.94-2.06-.94L8.5 2.5l-.94 2.06-2.06.94zm10 10l.94 2.06.94-2.06 2.06-.94-2.06-.94-.94-2.06-.94 2.06-2.06.94z\"/><path d=\"M17.41 7.96l-1.37-1.37c-.4-.4-.92-.59-1.43-.59-.52 0-1.04.2-1.43.59L10.3 9.45l-7.72 7.72c-.78.78-.78 2.05 0 2.83L4 21.41c.39.39.9.59 1.41.59.51 0 1.02-.2 1.41-.59l7.78-7.78 2.81-2.81c.8-.78.8-2.07 0-2.86zM5.41 20L4 18.59l7.72-7.72 1.47 1.35L5.41 20z\"/>\n",
              "  </svg>\n",
              "      </button>\n",
              "      \n",
              "  <style>\n",
              "    .colab-df-container {\n",
              "      display:flex;\n",
              "      flex-wrap:wrap;\n",
              "      gap: 12px;\n",
              "    }\n",
              "\n",
              "    .colab-df-convert {\n",
              "      background-color: #E8F0FE;\n",
              "      border: none;\n",
              "      border-radius: 50%;\n",
              "      cursor: pointer;\n",
              "      display: none;\n",
              "      fill: #1967D2;\n",
              "      height: 32px;\n",
              "      padding: 0 0 0 0;\n",
              "      width: 32px;\n",
              "    }\n",
              "\n",
              "    .colab-df-convert:hover {\n",
              "      background-color: #E2EBFA;\n",
              "      box-shadow: 0px 1px 2px rgba(60, 64, 67, 0.3), 0px 1px 3px 1px rgba(60, 64, 67, 0.15);\n",
              "      fill: #174EA6;\n",
              "    }\n",
              "\n",
              "    [theme=dark] .colab-df-convert {\n",
              "      background-color: #3B4455;\n",
              "      fill: #D2E3FC;\n",
              "    }\n",
              "\n",
              "    [theme=dark] .colab-df-convert:hover {\n",
              "      background-color: #434B5C;\n",
              "      box-shadow: 0px 1px 3px 1px rgba(0, 0, 0, 0.15);\n",
              "      filter: drop-shadow(0px 1px 2px rgba(0, 0, 0, 0.3));\n",
              "      fill: #FFFFFF;\n",
              "    }\n",
              "  </style>\n",
              "\n",
              "      <script>\n",
              "        const buttonEl =\n",
              "          document.querySelector('#df-bf9474bd-6e21-4c52-8091-70cde842d131 button.colab-df-convert');\n",
              "        buttonEl.style.display =\n",
              "          google.colab.kernel.accessAllowed ? 'block' : 'none';\n",
              "\n",
              "        async function convertToInteractive(key) {\n",
              "          const element = document.querySelector('#df-bf9474bd-6e21-4c52-8091-70cde842d131');\n",
              "          const dataTable =\n",
              "            await google.colab.kernel.invokeFunction('convertToInteractive',\n",
              "                                                     [key], {});\n",
              "          if (!dataTable) return;\n",
              "\n",
              "          const docLinkHtml = 'Like what you see? Visit the ' +\n",
              "            '<a target=\"_blank\" href=https://colab.research.google.com/notebooks/data_table.ipynb>data table notebook</a>'\n",
              "            + ' to learn more about interactive tables.';\n",
              "          element.innerHTML = '';\n",
              "          dataTable['output_type'] = 'display_data';\n",
              "          await google.colab.output.renderOutput(dataTable, element);\n",
              "          const docLink = document.createElement('div');\n",
              "          docLink.innerHTML = docLinkHtml;\n",
              "          element.appendChild(docLink);\n",
              "        }\n",
              "      </script>\n",
              "    </div>\n",
              "  </div>\n",
              "  "
            ]
          },
          "metadata": {},
          "execution_count": 16
        }
      ],
      "source": [
        "df3[~df3['total_sqft'].apply(is_float)].head(10)"
      ]
    },
    {
      "cell_type": "markdown",
      "id": "0f068419",
      "metadata": {
        "papermill": {
          "duration": 0.074554,
          "end_time": "2021-07-30T16:14:29.084537",
          "exception": false,
          "start_time": "2021-07-30T16:14:29.009983",
          "status": "completed"
        },
        "tags": [],
        "id": "0f068419"
      },
      "source": [
        "**ABOVE DATA SHOWS THAT TOTAL SQFT CAN BE A RANGE (E.G. 2100-2850). FOR SUCH CASES WE CAN JUST TAKE AVERAGE OF MIN & MAX VALUE IN THE RANGE. THERE ARE OTHER CASES WHERE VALUES ARE IN SQM WHICH CAN BE CONVERTED TO SQFT USING UNIT CONVERSION.**"
      ]
    },
    {
      "cell_type": "code",
      "execution_count": 17,
      "id": "d0b483c9",
      "metadata": {
        "execution": {
          "iopub.execute_input": "2021-07-30T16:14:29.238205Z",
          "iopub.status.busy": "2021-07-30T16:14:29.237457Z",
          "iopub.status.idle": "2021-07-30T16:14:29.243920Z",
          "shell.execute_reply": "2021-07-30T16:14:29.243193Z",
          "shell.execute_reply.started": "2021-07-30T15:36:47.059019Z"
        },
        "papermill": {
          "duration": 0.084413,
          "end_time": "2021-07-30T16:14:29.244066",
          "exception": false,
          "start_time": "2021-07-30T16:14:29.159653",
          "status": "completed"
        },
        "tags": [],
        "id": "d0b483c9"
      },
      "outputs": [],
      "source": [
        "def convert_sqft_to_num(x):\n",
        "    tokens = x.split('-')\n",
        "    if len(tokens) == 2:\n",
        "        return (float(tokens[0])+float(tokens[1]))/2\n",
        "    try:\n",
        "        return float(x)\n",
        "    except:\n",
        "        return None   "
      ]
    },
    {
      "cell_type": "code",
      "execution_count": 18,
      "id": "579c20a9",
      "metadata": {
        "execution": {
          "iopub.execute_input": "2021-07-30T16:14:29.404026Z",
          "iopub.status.busy": "2021-07-30T16:14:29.403284Z",
          "iopub.status.idle": "2021-07-30T16:14:29.431705Z",
          "shell.execute_reply": "2021-07-30T16:14:29.431130Z",
          "shell.execute_reply.started": "2021-07-30T15:36:47.068274Z"
        },
        "papermill": {
          "duration": 0.111835,
          "end_time": "2021-07-30T16:14:29.431848",
          "exception": false,
          "start_time": "2021-07-30T16:14:29.320013",
          "status": "completed"
        },
        "tags": [],
        "id": "579c20a9",
        "outputId": "0543a746-958b-4b29-cc9b-dadb2bb3c272",
        "colab": {
          "base_uri": "https://localhost:8080/",
          "height": 112
        }
      },
      "outputs": [
        {
          "output_type": "execute_result",
          "data": {
            "text/plain": [
              "          location       size  total_sqft  bath   price  bhk\n",
              "0      Alandi Road      2 BHK      1056.0   2.0   39.07    2\n",
              "1  Ambegaon Budruk  4 Bedroom      2600.0   5.0  120.00    4"
            ],
            "text/html": [
              "\n",
              "  <div id=\"df-aee2dc9c-9f13-466b-8c95-2c4cb79c9eda\">\n",
              "    <div class=\"colab-df-container\">\n",
              "      <div>\n",
              "<style scoped>\n",
              "    .dataframe tbody tr th:only-of-type {\n",
              "        vertical-align: middle;\n",
              "    }\n",
              "\n",
              "    .dataframe tbody tr th {\n",
              "        vertical-align: top;\n",
              "    }\n",
              "\n",
              "    .dataframe thead th {\n",
              "        text-align: right;\n",
              "    }\n",
              "</style>\n",
              "<table border=\"1\" class=\"dataframe\">\n",
              "  <thead>\n",
              "    <tr style=\"text-align: right;\">\n",
              "      <th></th>\n",
              "      <th>location</th>\n",
              "      <th>size</th>\n",
              "      <th>total_sqft</th>\n",
              "      <th>bath</th>\n",
              "      <th>price</th>\n",
              "      <th>bhk</th>\n",
              "    </tr>\n",
              "  </thead>\n",
              "  <tbody>\n",
              "    <tr>\n",
              "      <th>0</th>\n",
              "      <td>Alandi Road</td>\n",
              "      <td>2 BHK</td>\n",
              "      <td>1056.0</td>\n",
              "      <td>2.0</td>\n",
              "      <td>39.07</td>\n",
              "      <td>2</td>\n",
              "    </tr>\n",
              "    <tr>\n",
              "      <th>1</th>\n",
              "      <td>Ambegaon Budruk</td>\n",
              "      <td>4 Bedroom</td>\n",
              "      <td>2600.0</td>\n",
              "      <td>5.0</td>\n",
              "      <td>120.00</td>\n",
              "      <td>4</td>\n",
              "    </tr>\n",
              "  </tbody>\n",
              "</table>\n",
              "</div>\n",
              "      <button class=\"colab-df-convert\" onclick=\"convertToInteractive('df-aee2dc9c-9f13-466b-8c95-2c4cb79c9eda')\"\n",
              "              title=\"Convert this dataframe to an interactive table.\"\n",
              "              style=\"display:none;\">\n",
              "        \n",
              "  <svg xmlns=\"http://www.w3.org/2000/svg\" height=\"24px\"viewBox=\"0 0 24 24\"\n",
              "       width=\"24px\">\n",
              "    <path d=\"M0 0h24v24H0V0z\" fill=\"none\"/>\n",
              "    <path d=\"M18.56 5.44l.94 2.06.94-2.06 2.06-.94-2.06-.94-.94-2.06-.94 2.06-2.06.94zm-11 1L8.5 8.5l.94-2.06 2.06-.94-2.06-.94L8.5 2.5l-.94 2.06-2.06.94zm10 10l.94 2.06.94-2.06 2.06-.94-2.06-.94-.94-2.06-.94 2.06-2.06.94z\"/><path d=\"M17.41 7.96l-1.37-1.37c-.4-.4-.92-.59-1.43-.59-.52 0-1.04.2-1.43.59L10.3 9.45l-7.72 7.72c-.78.78-.78 2.05 0 2.83L4 21.41c.39.39.9.59 1.41.59.51 0 1.02-.2 1.41-.59l7.78-7.78 2.81-2.81c.8-.78.8-2.07 0-2.86zM5.41 20L4 18.59l7.72-7.72 1.47 1.35L5.41 20z\"/>\n",
              "  </svg>\n",
              "      </button>\n",
              "      \n",
              "  <style>\n",
              "    .colab-df-container {\n",
              "      display:flex;\n",
              "      flex-wrap:wrap;\n",
              "      gap: 12px;\n",
              "    }\n",
              "\n",
              "    .colab-df-convert {\n",
              "      background-color: #E8F0FE;\n",
              "      border: none;\n",
              "      border-radius: 50%;\n",
              "      cursor: pointer;\n",
              "      display: none;\n",
              "      fill: #1967D2;\n",
              "      height: 32px;\n",
              "      padding: 0 0 0 0;\n",
              "      width: 32px;\n",
              "    }\n",
              "\n",
              "    .colab-df-convert:hover {\n",
              "      background-color: #E2EBFA;\n",
              "      box-shadow: 0px 1px 2px rgba(60, 64, 67, 0.3), 0px 1px 3px 1px rgba(60, 64, 67, 0.15);\n",
              "      fill: #174EA6;\n",
              "    }\n",
              "\n",
              "    [theme=dark] .colab-df-convert {\n",
              "      background-color: #3B4455;\n",
              "      fill: #D2E3FC;\n",
              "    }\n",
              "\n",
              "    [theme=dark] .colab-df-convert:hover {\n",
              "      background-color: #434B5C;\n",
              "      box-shadow: 0px 1px 3px 1px rgba(0, 0, 0, 0.15);\n",
              "      filter: drop-shadow(0px 1px 2px rgba(0, 0, 0, 0.3));\n",
              "      fill: #FFFFFF;\n",
              "    }\n",
              "  </style>\n",
              "\n",
              "      <script>\n",
              "        const buttonEl =\n",
              "          document.querySelector('#df-aee2dc9c-9f13-466b-8c95-2c4cb79c9eda button.colab-df-convert');\n",
              "        buttonEl.style.display =\n",
              "          google.colab.kernel.accessAllowed ? 'block' : 'none';\n",
              "\n",
              "        async function convertToInteractive(key) {\n",
              "          const element = document.querySelector('#df-aee2dc9c-9f13-466b-8c95-2c4cb79c9eda');\n",
              "          const dataTable =\n",
              "            await google.colab.kernel.invokeFunction('convertToInteractive',\n",
              "                                                     [key], {});\n",
              "          if (!dataTable) return;\n",
              "\n",
              "          const docLinkHtml = 'Like what you see? Visit the ' +\n",
              "            '<a target=\"_blank\" href=https://colab.research.google.com/notebooks/data_table.ipynb>data table notebook</a>'\n",
              "            + ' to learn more about interactive tables.';\n",
              "          element.innerHTML = '';\n",
              "          dataTable['output_type'] = 'display_data';\n",
              "          await google.colab.output.renderOutput(dataTable, element);\n",
              "          const docLink = document.createElement('div');\n",
              "          docLink.innerHTML = docLinkHtml;\n",
              "          element.appendChild(docLink);\n",
              "        }\n",
              "      </script>\n",
              "    </div>\n",
              "  </div>\n",
              "  "
            ]
          },
          "metadata": {},
          "execution_count": 18
        }
      ],
      "source": [
        "df4 = df3.copy()\n",
        "df4.total_sqft = df4.total_sqft.apply(convert_sqft_to_num)\n",
        "df4 = df4[df4.total_sqft.notnull()]\n",
        "df4.head(2)"
      ]
    },
    {
      "cell_type": "markdown",
      "id": "3c2756e2",
      "metadata": {
        "papermill": {
          "duration": 0.076172,
          "end_time": "2021-07-30T16:14:29.584563",
          "exception": false,
          "start_time": "2021-07-30T16:14:29.508391",
          "status": "completed"
        },
        "tags": [],
        "id": "3c2756e2"
      },
      "source": [
        "**FOR ROW BELOW, IT SHOWS TOTAL SQFT AS 2475 WHICH IS AN AVERAGE OF THE RANGE 2100-2850**"
      ]
    },
    {
      "cell_type": "code",
      "execution_count": 19,
      "id": "03b05c68",
      "metadata": {
        "execution": {
          "iopub.execute_input": "2021-07-30T16:14:29.740426Z",
          "iopub.status.busy": "2021-07-30T16:14:29.739391Z",
          "iopub.status.idle": "2021-07-30T16:14:29.747521Z",
          "shell.execute_reply": "2021-07-30T16:14:29.748064Z",
          "shell.execute_reply.started": "2021-07-30T15:36:47.103886Z"
        },
        "papermill": {
          "duration": 0.087687,
          "end_time": "2021-07-30T16:14:29.748249",
          "exception": false,
          "start_time": "2021-07-30T16:14:29.660562",
          "status": "completed"
        },
        "scrolled": true,
        "tags": [],
        "id": "03b05c68",
        "outputId": "35553f2d-d046-4547-ae8b-033f4b759730",
        "colab": {
          "base_uri": "https://localhost:8080/"
        }
      },
      "outputs": [
        {
          "output_type": "execute_result",
          "data": {
            "text/plain": [
              "location      Gultekdi\n",
              "size             4 BHK\n",
              "total_sqft      2475.0\n",
              "bath               4.0\n",
              "price            186.0\n",
              "bhk                  4\n",
              "Name: 30, dtype: object"
            ]
          },
          "metadata": {},
          "execution_count": 19
        }
      ],
      "source": [
        "df4.loc[30]"
      ]
    },
    {
      "cell_type": "code",
      "execution_count": 20,
      "id": "cf55e780",
      "metadata": {
        "execution": {
          "iopub.execute_input": "2021-07-30T16:14:29.908623Z",
          "iopub.status.busy": "2021-07-30T16:14:29.907903Z",
          "iopub.status.idle": "2021-07-30T16:14:29.910982Z",
          "shell.execute_reply": "2021-07-30T16:14:29.911470Z",
          "shell.execute_reply.started": "2021-07-30T15:36:47.113995Z"
        },
        "papermill": {
          "duration": 0.08718,
          "end_time": "2021-07-30T16:14:29.911668",
          "exception": false,
          "start_time": "2021-07-30T16:14:29.824488",
          "status": "completed"
        },
        "tags": [],
        "id": "cf55e780",
        "outputId": "d536e475-fcfb-4b26-f09a-0f8ee339483b",
        "colab": {
          "base_uri": "https://localhost:8080/"
        }
      },
      "outputs": [
        {
          "output_type": "execute_result",
          "data": {
            "text/plain": [
              "2475.0"
            ]
          },
          "metadata": {},
          "execution_count": 20
        }
      ],
      "source": [
        "(2100+2850)/2"
      ]
    },
    {
      "cell_type": "markdown",
      "id": "162ca5fb",
      "metadata": {
        "papermill": {
          "duration": 0.076783,
          "end_time": "2021-07-30T16:14:30.065525",
          "exception": false,
          "start_time": "2021-07-30T16:14:29.988742",
          "status": "completed"
        },
        "tags": [],
        "id": "162ca5fb"
      },
      "source": [
        "**ADD NEW FEATURE CALLED PRICE PER SQUARE FEET**"
      ]
    },
    {
      "cell_type": "code",
      "execution_count": 21,
      "id": "a816415b",
      "metadata": {
        "execution": {
          "iopub.execute_input": "2021-07-30T16:14:30.223039Z",
          "iopub.status.busy": "2021-07-30T16:14:30.222373Z",
          "iopub.status.idle": "2021-07-30T16:14:30.242478Z",
          "shell.execute_reply": "2021-07-30T16:14:30.241821Z",
          "shell.execute_reply.started": "2021-07-30T15:36:47.123883Z"
        },
        "papermill": {
          "duration": 0.099699,
          "end_time": "2021-07-30T16:14:30.242656",
          "exception": false,
          "start_time": "2021-07-30T16:14:30.142957",
          "status": "completed"
        },
        "tags": [],
        "id": "a816415b",
        "outputId": "ee2f07c3-8f4b-4d4c-9af3-4021482eae28",
        "colab": {
          "base_uri": "https://localhost:8080/",
          "height": 206
        }
      },
      "outputs": [
        {
          "output_type": "execute_result",
          "data": {
            "text/plain": [
              "          location       size  total_sqft  bath   price  bhk  price_per_sqft\n",
              "0      Alandi Road      2 BHK      1056.0   2.0   39.07    2     3699.810606\n",
              "1  Ambegaon Budruk  4 Bedroom      2600.0   5.0  120.00    4     4615.384615\n",
              "2       Anandnagar      3 BHK      1440.0   2.0   62.00    3     4305.555556\n",
              "3            Aundh      3 BHK      1521.0   3.0   95.00    3     6245.890861\n",
              "4       Aundh Road      2 BHK      1200.0   2.0   51.00    2     4250.000000"
            ],
            "text/html": [
              "\n",
              "  <div id=\"df-6ce51573-56fa-4bd6-b700-8986daa8f5d7\">\n",
              "    <div class=\"colab-df-container\">\n",
              "      <div>\n",
              "<style scoped>\n",
              "    .dataframe tbody tr th:only-of-type {\n",
              "        vertical-align: middle;\n",
              "    }\n",
              "\n",
              "    .dataframe tbody tr th {\n",
              "        vertical-align: top;\n",
              "    }\n",
              "\n",
              "    .dataframe thead th {\n",
              "        text-align: right;\n",
              "    }\n",
              "</style>\n",
              "<table border=\"1\" class=\"dataframe\">\n",
              "  <thead>\n",
              "    <tr style=\"text-align: right;\">\n",
              "      <th></th>\n",
              "      <th>location</th>\n",
              "      <th>size</th>\n",
              "      <th>total_sqft</th>\n",
              "      <th>bath</th>\n",
              "      <th>price</th>\n",
              "      <th>bhk</th>\n",
              "      <th>price_per_sqft</th>\n",
              "    </tr>\n",
              "  </thead>\n",
              "  <tbody>\n",
              "    <tr>\n",
              "      <th>0</th>\n",
              "      <td>Alandi Road</td>\n",
              "      <td>2 BHK</td>\n",
              "      <td>1056.0</td>\n",
              "      <td>2.0</td>\n",
              "      <td>39.07</td>\n",
              "      <td>2</td>\n",
              "      <td>3699.810606</td>\n",
              "    </tr>\n",
              "    <tr>\n",
              "      <th>1</th>\n",
              "      <td>Ambegaon Budruk</td>\n",
              "      <td>4 Bedroom</td>\n",
              "      <td>2600.0</td>\n",
              "      <td>5.0</td>\n",
              "      <td>120.00</td>\n",
              "      <td>4</td>\n",
              "      <td>4615.384615</td>\n",
              "    </tr>\n",
              "    <tr>\n",
              "      <th>2</th>\n",
              "      <td>Anandnagar</td>\n",
              "      <td>3 BHK</td>\n",
              "      <td>1440.0</td>\n",
              "      <td>2.0</td>\n",
              "      <td>62.00</td>\n",
              "      <td>3</td>\n",
              "      <td>4305.555556</td>\n",
              "    </tr>\n",
              "    <tr>\n",
              "      <th>3</th>\n",
              "      <td>Aundh</td>\n",
              "      <td>3 BHK</td>\n",
              "      <td>1521.0</td>\n",
              "      <td>3.0</td>\n",
              "      <td>95.00</td>\n",
              "      <td>3</td>\n",
              "      <td>6245.890861</td>\n",
              "    </tr>\n",
              "    <tr>\n",
              "      <th>4</th>\n",
              "      <td>Aundh Road</td>\n",
              "      <td>2 BHK</td>\n",
              "      <td>1200.0</td>\n",
              "      <td>2.0</td>\n",
              "      <td>51.00</td>\n",
              "      <td>2</td>\n",
              "      <td>4250.000000</td>\n",
              "    </tr>\n",
              "  </tbody>\n",
              "</table>\n",
              "</div>\n",
              "      <button class=\"colab-df-convert\" onclick=\"convertToInteractive('df-6ce51573-56fa-4bd6-b700-8986daa8f5d7')\"\n",
              "              title=\"Convert this dataframe to an interactive table.\"\n",
              "              style=\"display:none;\">\n",
              "        \n",
              "  <svg xmlns=\"http://www.w3.org/2000/svg\" height=\"24px\"viewBox=\"0 0 24 24\"\n",
              "       width=\"24px\">\n",
              "    <path d=\"M0 0h24v24H0V0z\" fill=\"none\"/>\n",
              "    <path d=\"M18.56 5.44l.94 2.06.94-2.06 2.06-.94-2.06-.94-.94-2.06-.94 2.06-2.06.94zm-11 1L8.5 8.5l.94-2.06 2.06-.94-2.06-.94L8.5 2.5l-.94 2.06-2.06.94zm10 10l.94 2.06.94-2.06 2.06-.94-2.06-.94-.94-2.06-.94 2.06-2.06.94z\"/><path d=\"M17.41 7.96l-1.37-1.37c-.4-.4-.92-.59-1.43-.59-.52 0-1.04.2-1.43.59L10.3 9.45l-7.72 7.72c-.78.78-.78 2.05 0 2.83L4 21.41c.39.39.9.59 1.41.59.51 0 1.02-.2 1.41-.59l7.78-7.78 2.81-2.81c.8-.78.8-2.07 0-2.86zM5.41 20L4 18.59l7.72-7.72 1.47 1.35L5.41 20z\"/>\n",
              "  </svg>\n",
              "      </button>\n",
              "      \n",
              "  <style>\n",
              "    .colab-df-container {\n",
              "      display:flex;\n",
              "      flex-wrap:wrap;\n",
              "      gap: 12px;\n",
              "    }\n",
              "\n",
              "    .colab-df-convert {\n",
              "      background-color: #E8F0FE;\n",
              "      border: none;\n",
              "      border-radius: 50%;\n",
              "      cursor: pointer;\n",
              "      display: none;\n",
              "      fill: #1967D2;\n",
              "      height: 32px;\n",
              "      padding: 0 0 0 0;\n",
              "      width: 32px;\n",
              "    }\n",
              "\n",
              "    .colab-df-convert:hover {\n",
              "      background-color: #E2EBFA;\n",
              "      box-shadow: 0px 1px 2px rgba(60, 64, 67, 0.3), 0px 1px 3px 1px rgba(60, 64, 67, 0.15);\n",
              "      fill: #174EA6;\n",
              "    }\n",
              "\n",
              "    [theme=dark] .colab-df-convert {\n",
              "      background-color: #3B4455;\n",
              "      fill: #D2E3FC;\n",
              "    }\n",
              "\n",
              "    [theme=dark] .colab-df-convert:hover {\n",
              "      background-color: #434B5C;\n",
              "      box-shadow: 0px 1px 3px 1px rgba(0, 0, 0, 0.15);\n",
              "      filter: drop-shadow(0px 1px 2px rgba(0, 0, 0, 0.3));\n",
              "      fill: #FFFFFF;\n",
              "    }\n",
              "  </style>\n",
              "\n",
              "      <script>\n",
              "        const buttonEl =\n",
              "          document.querySelector('#df-6ce51573-56fa-4bd6-b700-8986daa8f5d7 button.colab-df-convert');\n",
              "        buttonEl.style.display =\n",
              "          google.colab.kernel.accessAllowed ? 'block' : 'none';\n",
              "\n",
              "        async function convertToInteractive(key) {\n",
              "          const element = document.querySelector('#df-6ce51573-56fa-4bd6-b700-8986daa8f5d7');\n",
              "          const dataTable =\n",
              "            await google.colab.kernel.invokeFunction('convertToInteractive',\n",
              "                                                     [key], {});\n",
              "          if (!dataTable) return;\n",
              "\n",
              "          const docLinkHtml = 'Like what you see? Visit the ' +\n",
              "            '<a target=\"_blank\" href=https://colab.research.google.com/notebooks/data_table.ipynb>data table notebook</a>'\n",
              "            + ' to learn more about interactive tables.';\n",
              "          element.innerHTML = '';\n",
              "          dataTable['output_type'] = 'display_data';\n",
              "          await google.colab.output.renderOutput(dataTable, element);\n",
              "          const docLink = document.createElement('div');\n",
              "          docLink.innerHTML = docLinkHtml;\n",
              "          element.appendChild(docLink);\n",
              "        }\n",
              "      </script>\n",
              "    </div>\n",
              "  </div>\n",
              "  "
            ]
          },
          "metadata": {},
          "execution_count": 21
        }
      ],
      "source": [
        "df5 = df4.copy()\n",
        "df5['price_per_sqft'] = df5['price']*100000/df5['total_sqft']\n",
        "df5.head()"
      ]
    },
    {
      "cell_type": "code",
      "execution_count": 22,
      "id": "9f4fd62f",
      "metadata": {
        "execution": {
          "iopub.execute_input": "2021-07-30T16:14:30.404689Z",
          "iopub.status.busy": "2021-07-30T16:14:30.404006Z",
          "iopub.status.idle": "2021-07-30T16:14:30.416759Z",
          "shell.execute_reply": "2021-07-30T16:14:30.416136Z",
          "shell.execute_reply.started": "2021-07-30T15:36:47.149201Z"
        },
        "papermill": {
          "duration": 0.09634,
          "end_time": "2021-07-30T16:14:30.416982",
          "exception": false,
          "start_time": "2021-07-30T16:14:30.320642",
          "status": "completed"
        },
        "scrolled": true,
        "tags": [],
        "id": "9f4fd62f",
        "outputId": "c1aa46de-4ac5-4950-c148-b6f542f115a0",
        "colab": {
          "base_uri": "https://localhost:8080/"
        }
      },
      "outputs": [
        {
          "output_type": "execute_result",
          "data": {
            "text/plain": [
              "count    1.320000e+04\n",
              "mean     7.920878e+03\n",
              "std      1.067272e+05\n",
              "min      2.678298e+02\n",
              "25%      4.268165e+03\n",
              "50%      5.438331e+03\n",
              "75%      7.317073e+03\n",
              "max      1.200000e+07\n",
              "Name: price_per_sqft, dtype: float64"
            ]
          },
          "metadata": {},
          "execution_count": 22
        }
      ],
      "source": [
        "df5_stats = df5['price_per_sqft'].describe()\n",
        "df5_stats"
      ]
    },
    {
      "cell_type": "code",
      "execution_count": 23,
      "id": "8104c1b4",
      "metadata": {
        "execution": {
          "iopub.execute_input": "2021-07-30T16:14:30.575708Z",
          "iopub.status.busy": "2021-07-30T16:14:30.574744Z",
          "iopub.status.idle": "2021-07-30T16:14:30.680458Z",
          "shell.execute_reply": "2021-07-30T16:14:30.679251Z",
          "shell.execute_reply.started": "2021-07-30T15:36:47.166403Z"
        },
        "papermill": {
          "duration": 0.186214,
          "end_time": "2021-07-30T16:14:30.680638",
          "exception": false,
          "start_time": "2021-07-30T16:14:30.494424",
          "status": "completed"
        },
        "tags": [],
        "id": "8104c1b4"
      },
      "outputs": [],
      "source": [
        "df5.to_csv(\"bhp.csv\",index=False)"
      ]
    },
    {
      "cell_type": "markdown",
      "id": "8111d398",
      "metadata": {
        "papermill": {
          "duration": 0.077219,
          "end_time": "2021-07-30T16:14:30.835304",
          "exception": false,
          "start_time": "2021-07-30T16:14:30.758085",
          "status": "completed"
        },
        "tags": [],
        "id": "8111d398"
      },
      "source": [
        "**EXAMINE LOCATIONS WHICH IS A CATEGORICAL VARIABLE. WE NEED TO APPLY THE DIMENSIONALITY REDUCTION TECHNIQUE HERE TO REDUCE THE NUMBER OF LOCATIONS**"
      ]
    },
    {
      "cell_type": "code",
      "execution_count": 24,
      "id": "44020b18",
      "metadata": {
        "execution": {
          "iopub.execute_input": "2021-07-30T16:14:31.007412Z",
          "iopub.status.busy": "2021-07-30T16:14:31.006722Z",
          "iopub.status.idle": "2021-07-30T16:14:31.016607Z",
          "shell.execute_reply": "2021-07-30T16:14:31.016012Z",
          "shell.execute_reply.started": "2021-07-30T15:36:47.275342Z"
        },
        "papermill": {
          "duration": 0.102669,
          "end_time": "2021-07-30T16:14:31.016770",
          "exception": false,
          "start_time": "2021-07-30T16:14:30.914101",
          "status": "completed"
        },
        "tags": [],
        "id": "44020b18",
        "outputId": "f9c7cc32-eea7-4f0f-b213-3934ab2bd864",
        "colab": {
          "base_uri": "https://localhost:8080/"
        }
      },
      "outputs": [
        {
          "output_type": "execute_result",
          "data": {
            "text/plain": [
              "Kasba Peth         139\n",
              "Bibvewadi          139\n",
              "Laxmi Road         139\n",
              "Ambegaon Budruk    139\n",
              "Nana Peth          139\n",
              "                  ... \n",
              "Fatima Nagar       135\n",
              "Model colony       135\n",
              "Wakadewadi         134\n",
              "Vadgaon Budruk     133\n",
              "other                1\n",
              "Name: location, Length: 97, dtype: int64"
            ]
          },
          "metadata": {},
          "execution_count": 24
        }
      ],
      "source": [
        "df5.location = df5.location.apply(lambda x: x.strip())\n",
        "location_stats = df5['location'].value_counts(ascending=False)\n",
        "location_stats"
      ]
    },
    {
      "cell_type": "code",
      "execution_count": 25,
      "id": "2d90371c",
      "metadata": {
        "execution": {
          "iopub.execute_input": "2021-07-30T16:14:31.178470Z",
          "iopub.status.busy": "2021-07-30T16:14:31.177680Z",
          "iopub.status.idle": "2021-07-30T16:14:31.182110Z",
          "shell.execute_reply": "2021-07-30T16:14:31.181422Z",
          "shell.execute_reply.started": "2021-07-30T15:36:47.296347Z"
        },
        "papermill": {
          "duration": 0.087351,
          "end_time": "2021-07-30T16:14:31.182256",
          "exception": false,
          "start_time": "2021-07-30T16:14:31.094905",
          "status": "completed"
        },
        "tags": [],
        "id": "2d90371c",
        "outputId": "32fa25b8-8c98-470a-8385-e91c6eb9931f",
        "colab": {
          "base_uri": "https://localhost:8080/"
        }
      },
      "outputs": [
        {
          "output_type": "execute_result",
          "data": {
            "text/plain": [
              "13200"
            ]
          },
          "metadata": {},
          "execution_count": 25
        }
      ],
      "source": [
        "location_stats.values.sum()"
      ]
    },
    {
      "cell_type": "code",
      "execution_count": 26,
      "id": "3dccc379",
      "metadata": {
        "execution": {
          "iopub.execute_input": "2021-07-30T16:14:31.345161Z",
          "iopub.status.busy": "2021-07-30T16:14:31.344440Z",
          "iopub.status.idle": "2021-07-30T16:14:31.348307Z",
          "shell.execute_reply": "2021-07-30T16:14:31.347678Z",
          "shell.execute_reply.started": "2021-07-30T15:36:47.309353Z"
        },
        "papermill": {
          "duration": 0.087784,
          "end_time": "2021-07-30T16:14:31.348451",
          "exception": false,
          "start_time": "2021-07-30T16:14:31.260667",
          "status": "completed"
        },
        "scrolled": true,
        "tags": [],
        "id": "3dccc379",
        "outputId": "b07ef877-3168-47fe-a69f-0b890b0b48b2",
        "colab": {
          "base_uri": "https://localhost:8080/"
        }
      },
      "outputs": [
        {
          "output_type": "execute_result",
          "data": {
            "text/plain": [
              "96"
            ]
          },
          "metadata": {},
          "execution_count": 26
        }
      ],
      "source": [
        "len(location_stats[location_stats>10])"
      ]
    },
    {
      "cell_type": "code",
      "execution_count": 27,
      "id": "8e2ca85b",
      "metadata": {
        "execution": {
          "iopub.execute_input": "2021-07-30T16:14:31.508116Z",
          "iopub.status.busy": "2021-07-30T16:14:31.507435Z",
          "iopub.status.idle": "2021-07-30T16:14:31.513386Z",
          "shell.execute_reply": "2021-07-30T16:14:31.512885Z",
          "shell.execute_reply.started": "2021-07-30T15:36:47.322424Z"
        },
        "papermill": {
          "duration": 0.086924,
          "end_time": "2021-07-30T16:14:31.513535",
          "exception": false,
          "start_time": "2021-07-30T16:14:31.426611",
          "status": "completed"
        },
        "tags": [],
        "id": "8e2ca85b",
        "outputId": "bd95948d-e9f1-4d85-8dc9-6e8d247edbf5",
        "colab": {
          "base_uri": "https://localhost:8080/"
        }
      },
      "outputs": [
        {
          "output_type": "execute_result",
          "data": {
            "text/plain": [
              "97"
            ]
          },
          "metadata": {},
          "execution_count": 27
        }
      ],
      "source": [
        "len(location_stats)"
      ]
    },
    {
      "cell_type": "code",
      "execution_count": 28,
      "id": "74032c1e",
      "metadata": {
        "execution": {
          "iopub.execute_input": "2021-07-30T16:14:31.678416Z",
          "iopub.status.busy": "2021-07-30T16:14:31.677457Z",
          "iopub.status.idle": "2021-07-30T16:14:31.681528Z",
          "shell.execute_reply": "2021-07-30T16:14:31.682018Z",
          "shell.execute_reply.started": "2021-07-30T15:36:47.333394Z"
        },
        "papermill": {
          "duration": 0.089589,
          "end_time": "2021-07-30T16:14:31.682196",
          "exception": false,
          "start_time": "2021-07-30T16:14:31.592607",
          "status": "completed"
        },
        "tags": [],
        "id": "74032c1e",
        "outputId": "75e162b9-694e-4d3b-bac0-9a6b04e1790c",
        "colab": {
          "base_uri": "https://localhost:8080/"
        }
      },
      "outputs": [
        {
          "output_type": "execute_result",
          "data": {
            "text/plain": [
              "1"
            ]
          },
          "metadata": {},
          "execution_count": 28
        }
      ],
      "source": [
        "len(location_stats[location_stats<=10])"
      ]
    },
    {
      "cell_type": "markdown",
      "id": "010fb61e",
      "metadata": {
        "papermill": {
          "duration": 0.079081,
          "end_time": "2021-07-30T16:14:31.840353",
          "exception": false,
          "start_time": "2021-07-30T16:14:31.761272",
          "status": "completed"
        },
        "tags": [],
        "id": "010fb61e"
      },
      "source": [
        "### DIMENSIONALITY REDUCTIONS"
      ]
    },
    {
      "cell_type": "markdown",
      "id": "6108ac6a",
      "metadata": {
        "papermill": {
          "duration": 0.0816,
          "end_time": "2021-07-30T16:14:32.002036",
          "exception": false,
          "start_time": "2021-07-30T16:14:31.920436",
          "status": "completed"
        },
        "tags": [],
        "id": "6108ac6a"
      },
      "source": [
        "**ANY LOCATION HAVING LESS THAN 10 DATA PINTS SHOULD BE TAGGED AS \"OTHER\" LOCATION. THIS WAY NUMBER OF CATEGORIES CAN BE REDUCED BY HUGE AMOUNT. LATER ON WHEN WE DO ONE HOT ENCODING, IT WILL HELP US WITH HAVING FEWER DUMMY COLUMNS.**"
      ]
    },
    {
      "cell_type": "code",
      "execution_count": 29,
      "id": "40a4f59e",
      "metadata": {
        "execution": {
          "iopub.execute_input": "2021-07-30T16:14:32.169974Z",
          "iopub.status.busy": "2021-07-30T16:14:32.169064Z",
          "iopub.status.idle": "2021-07-30T16:14:32.173547Z",
          "shell.execute_reply": "2021-07-30T16:14:32.172938Z",
          "shell.execute_reply.started": "2021-07-30T15:36:47.348777Z"
        },
        "papermill": {
          "duration": 0.091832,
          "end_time": "2021-07-30T16:14:32.173731",
          "exception": false,
          "start_time": "2021-07-30T16:14:32.081899",
          "status": "completed"
        },
        "tags": [],
        "id": "40a4f59e",
        "outputId": "1a6f15f4-f09f-4711-dfef-39c86d7593ce",
        "colab": {
          "base_uri": "https://localhost:8080/"
        }
      },
      "outputs": [
        {
          "output_type": "execute_result",
          "data": {
            "text/plain": [
              "other    1\n",
              "Name: location, dtype: int64"
            ]
          },
          "metadata": {},
          "execution_count": 29
        }
      ],
      "source": [
        "location_stats_less_than_10 = location_stats[location_stats<=10]\n",
        "location_stats_less_than_10"
      ]
    },
    {
      "cell_type": "code",
      "execution_count": 30,
      "id": "21f4f747",
      "metadata": {
        "execution": {
          "iopub.execute_input": "2021-07-30T16:14:32.393963Z",
          "iopub.status.busy": "2021-07-30T16:14:32.392979Z",
          "iopub.status.idle": "2021-07-30T16:14:32.398603Z",
          "shell.execute_reply": "2021-07-30T16:14:32.399075Z",
          "shell.execute_reply.started": "2021-07-30T15:36:47.363517Z"
        },
        "papermill": {
          "duration": 0.145289,
          "end_time": "2021-07-30T16:14:32.399255",
          "exception": false,
          "start_time": "2021-07-30T16:14:32.253966",
          "status": "completed"
        },
        "tags": [],
        "id": "21f4f747",
        "outputId": "6ee599e1-a80c-4e80-e809-c41323f6a826",
        "colab": {
          "base_uri": "https://localhost:8080/"
        }
      },
      "outputs": [
        {
          "output_type": "execute_result",
          "data": {
            "text/plain": [
              "97"
            ]
          },
          "metadata": {},
          "execution_count": 30
        }
      ],
      "source": [
        "len(df5.location.unique())"
      ]
    },
    {
      "cell_type": "code",
      "execution_count": 31,
      "id": "a2da00f5",
      "metadata": {
        "execution": {
          "iopub.execute_input": "2021-07-30T16:14:32.576270Z",
          "iopub.status.busy": "2021-07-30T16:14:32.571146Z",
          "iopub.status.idle": "2021-07-30T16:14:32.595906Z",
          "shell.execute_reply": "2021-07-30T16:14:32.595344Z",
          "shell.execute_reply.started": "2021-07-30T15:36:47.377014Z"
        },
        "papermill": {
          "duration": 0.115723,
          "end_time": "2021-07-30T16:14:32.596057",
          "exception": false,
          "start_time": "2021-07-30T16:14:32.480334",
          "status": "completed"
        },
        "tags": [],
        "id": "a2da00f5",
        "outputId": "69204fa0-595a-402e-d9b1-b9ad3568e4e0",
        "colab": {
          "base_uri": "https://localhost:8080/"
        }
      },
      "outputs": [
        {
          "output_type": "execute_result",
          "data": {
            "text/plain": [
              "97"
            ]
          },
          "metadata": {},
          "execution_count": 31
        }
      ],
      "source": [
        "df5.location = df5.location.apply(lambda x: 'other' if x in location_stats_less_than_10 else x)\n",
        "len(df5.location.unique())"
      ]
    },
    {
      "cell_type": "code",
      "execution_count": 32,
      "id": "10df7ba2",
      "metadata": {
        "execution": {
          "iopub.execute_input": "2021-07-30T16:14:32.774342Z",
          "iopub.status.busy": "2021-07-30T16:14:32.773654Z",
          "iopub.status.idle": "2021-07-30T16:14:32.778346Z",
          "shell.execute_reply": "2021-07-30T16:14:32.777822Z",
          "shell.execute_reply.started": "2021-07-30T15:36:47.416687Z"
        },
        "papermill": {
          "duration": 0.101879,
          "end_time": "2021-07-30T16:14:32.778494",
          "exception": false,
          "start_time": "2021-07-30T16:14:32.676615",
          "status": "completed"
        },
        "scrolled": true,
        "tags": [],
        "id": "10df7ba2",
        "outputId": "af872746-5926-4f4a-cad6-732641522aec",
        "colab": {
          "base_uri": "https://localhost:8080/",
          "height": 363
        }
      },
      "outputs": [
        {
          "output_type": "execute_result",
          "data": {
            "text/plain": [
              "          location       size  total_sqft  bath   price  bhk  price_per_sqft\n",
              "0      Alandi Road      2 BHK      1056.0   2.0   39.07    2     3699.810606\n",
              "1  Ambegaon Budruk  4 Bedroom      2600.0   5.0  120.00    4     4615.384615\n",
              "2       Anandnagar      3 BHK      1440.0   2.0   62.00    3     4305.555556\n",
              "3            Aundh      3 BHK      1521.0   3.0   95.00    3     6245.890861\n",
              "4       Aundh Road      2 BHK      1200.0   2.0   51.00    2     4250.000000\n",
              "5     Balaji Nagar      2 BHK      1170.0   2.0   38.00    2     3247.863248\n",
              "6            Baner      4 BHK      2732.0   4.0  204.00    4     7467.057101\n",
              "7       Baner road      4 BHK      3300.0   4.0  600.00    4    18181.818182\n",
              "8  Bhandarkar Road      3 BHK      1310.0   3.0   63.25    3     4828.244275\n",
              "9     Bhavani Peth  6 Bedroom      1020.0   6.0  370.00    6    36274.509804"
            ],
            "text/html": [
              "\n",
              "  <div id=\"df-d83c00f3-900f-4b95-9bd3-74fc79dad0ad\">\n",
              "    <div class=\"colab-df-container\">\n",
              "      <div>\n",
              "<style scoped>\n",
              "    .dataframe tbody tr th:only-of-type {\n",
              "        vertical-align: middle;\n",
              "    }\n",
              "\n",
              "    .dataframe tbody tr th {\n",
              "        vertical-align: top;\n",
              "    }\n",
              "\n",
              "    .dataframe thead th {\n",
              "        text-align: right;\n",
              "    }\n",
              "</style>\n",
              "<table border=\"1\" class=\"dataframe\">\n",
              "  <thead>\n",
              "    <tr style=\"text-align: right;\">\n",
              "      <th></th>\n",
              "      <th>location</th>\n",
              "      <th>size</th>\n",
              "      <th>total_sqft</th>\n",
              "      <th>bath</th>\n",
              "      <th>price</th>\n",
              "      <th>bhk</th>\n",
              "      <th>price_per_sqft</th>\n",
              "    </tr>\n",
              "  </thead>\n",
              "  <tbody>\n",
              "    <tr>\n",
              "      <th>0</th>\n",
              "      <td>Alandi Road</td>\n",
              "      <td>2 BHK</td>\n",
              "      <td>1056.0</td>\n",
              "      <td>2.0</td>\n",
              "      <td>39.07</td>\n",
              "      <td>2</td>\n",
              "      <td>3699.810606</td>\n",
              "    </tr>\n",
              "    <tr>\n",
              "      <th>1</th>\n",
              "      <td>Ambegaon Budruk</td>\n",
              "      <td>4 Bedroom</td>\n",
              "      <td>2600.0</td>\n",
              "      <td>5.0</td>\n",
              "      <td>120.00</td>\n",
              "      <td>4</td>\n",
              "      <td>4615.384615</td>\n",
              "    </tr>\n",
              "    <tr>\n",
              "      <th>2</th>\n",
              "      <td>Anandnagar</td>\n",
              "      <td>3 BHK</td>\n",
              "      <td>1440.0</td>\n",
              "      <td>2.0</td>\n",
              "      <td>62.00</td>\n",
              "      <td>3</td>\n",
              "      <td>4305.555556</td>\n",
              "    </tr>\n",
              "    <tr>\n",
              "      <th>3</th>\n",
              "      <td>Aundh</td>\n",
              "      <td>3 BHK</td>\n",
              "      <td>1521.0</td>\n",
              "      <td>3.0</td>\n",
              "      <td>95.00</td>\n",
              "      <td>3</td>\n",
              "      <td>6245.890861</td>\n",
              "    </tr>\n",
              "    <tr>\n",
              "      <th>4</th>\n",
              "      <td>Aundh Road</td>\n",
              "      <td>2 BHK</td>\n",
              "      <td>1200.0</td>\n",
              "      <td>2.0</td>\n",
              "      <td>51.00</td>\n",
              "      <td>2</td>\n",
              "      <td>4250.000000</td>\n",
              "    </tr>\n",
              "    <tr>\n",
              "      <th>5</th>\n",
              "      <td>Balaji Nagar</td>\n",
              "      <td>2 BHK</td>\n",
              "      <td>1170.0</td>\n",
              "      <td>2.0</td>\n",
              "      <td>38.00</td>\n",
              "      <td>2</td>\n",
              "      <td>3247.863248</td>\n",
              "    </tr>\n",
              "    <tr>\n",
              "      <th>6</th>\n",
              "      <td>Baner</td>\n",
              "      <td>4 BHK</td>\n",
              "      <td>2732.0</td>\n",
              "      <td>4.0</td>\n",
              "      <td>204.00</td>\n",
              "      <td>4</td>\n",
              "      <td>7467.057101</td>\n",
              "    </tr>\n",
              "    <tr>\n",
              "      <th>7</th>\n",
              "      <td>Baner road</td>\n",
              "      <td>4 BHK</td>\n",
              "      <td>3300.0</td>\n",
              "      <td>4.0</td>\n",
              "      <td>600.00</td>\n",
              "      <td>4</td>\n",
              "      <td>18181.818182</td>\n",
              "    </tr>\n",
              "    <tr>\n",
              "      <th>8</th>\n",
              "      <td>Bhandarkar Road</td>\n",
              "      <td>3 BHK</td>\n",
              "      <td>1310.0</td>\n",
              "      <td>3.0</td>\n",
              "      <td>63.25</td>\n",
              "      <td>3</td>\n",
              "      <td>4828.244275</td>\n",
              "    </tr>\n",
              "    <tr>\n",
              "      <th>9</th>\n",
              "      <td>Bhavani Peth</td>\n",
              "      <td>6 Bedroom</td>\n",
              "      <td>1020.0</td>\n",
              "      <td>6.0</td>\n",
              "      <td>370.00</td>\n",
              "      <td>6</td>\n",
              "      <td>36274.509804</td>\n",
              "    </tr>\n",
              "  </tbody>\n",
              "</table>\n",
              "</div>\n",
              "      <button class=\"colab-df-convert\" onclick=\"convertToInteractive('df-d83c00f3-900f-4b95-9bd3-74fc79dad0ad')\"\n",
              "              title=\"Convert this dataframe to an interactive table.\"\n",
              "              style=\"display:none;\">\n",
              "        \n",
              "  <svg xmlns=\"http://www.w3.org/2000/svg\" height=\"24px\"viewBox=\"0 0 24 24\"\n",
              "       width=\"24px\">\n",
              "    <path d=\"M0 0h24v24H0V0z\" fill=\"none\"/>\n",
              "    <path d=\"M18.56 5.44l.94 2.06.94-2.06 2.06-.94-2.06-.94-.94-2.06-.94 2.06-2.06.94zm-11 1L8.5 8.5l.94-2.06 2.06-.94-2.06-.94L8.5 2.5l-.94 2.06-2.06.94zm10 10l.94 2.06.94-2.06 2.06-.94-2.06-.94-.94-2.06-.94 2.06-2.06.94z\"/><path d=\"M17.41 7.96l-1.37-1.37c-.4-.4-.92-.59-1.43-.59-.52 0-1.04.2-1.43.59L10.3 9.45l-7.72 7.72c-.78.78-.78 2.05 0 2.83L4 21.41c.39.39.9.59 1.41.59.51 0 1.02-.2 1.41-.59l7.78-7.78 2.81-2.81c.8-.78.8-2.07 0-2.86zM5.41 20L4 18.59l7.72-7.72 1.47 1.35L5.41 20z\"/>\n",
              "  </svg>\n",
              "      </button>\n",
              "      \n",
              "  <style>\n",
              "    .colab-df-container {\n",
              "      display:flex;\n",
              "      flex-wrap:wrap;\n",
              "      gap: 12px;\n",
              "    }\n",
              "\n",
              "    .colab-df-convert {\n",
              "      background-color: #E8F0FE;\n",
              "      border: none;\n",
              "      border-radius: 50%;\n",
              "      cursor: pointer;\n",
              "      display: none;\n",
              "      fill: #1967D2;\n",
              "      height: 32px;\n",
              "      padding: 0 0 0 0;\n",
              "      width: 32px;\n",
              "    }\n",
              "\n",
              "    .colab-df-convert:hover {\n",
              "      background-color: #E2EBFA;\n",
              "      box-shadow: 0px 1px 2px rgba(60, 64, 67, 0.3), 0px 1px 3px 1px rgba(60, 64, 67, 0.15);\n",
              "      fill: #174EA6;\n",
              "    }\n",
              "\n",
              "    [theme=dark] .colab-df-convert {\n",
              "      background-color: #3B4455;\n",
              "      fill: #D2E3FC;\n",
              "    }\n",
              "\n",
              "    [theme=dark] .colab-df-convert:hover {\n",
              "      background-color: #434B5C;\n",
              "      box-shadow: 0px 1px 3px 1px rgba(0, 0, 0, 0.15);\n",
              "      filter: drop-shadow(0px 1px 2px rgba(0, 0, 0, 0.3));\n",
              "      fill: #FFFFFF;\n",
              "    }\n",
              "  </style>\n",
              "\n",
              "      <script>\n",
              "        const buttonEl =\n",
              "          document.querySelector('#df-d83c00f3-900f-4b95-9bd3-74fc79dad0ad button.colab-df-convert');\n",
              "        buttonEl.style.display =\n",
              "          google.colab.kernel.accessAllowed ? 'block' : 'none';\n",
              "\n",
              "        async function convertToInteractive(key) {\n",
              "          const element = document.querySelector('#df-d83c00f3-900f-4b95-9bd3-74fc79dad0ad');\n",
              "          const dataTable =\n",
              "            await google.colab.kernel.invokeFunction('convertToInteractive',\n",
              "                                                     [key], {});\n",
              "          if (!dataTable) return;\n",
              "\n",
              "          const docLinkHtml = 'Like what you see? Visit the ' +\n",
              "            '<a target=\"_blank\" href=https://colab.research.google.com/notebooks/data_table.ipynb>data table notebook</a>'\n",
              "            + ' to learn more about interactive tables.';\n",
              "          element.innerHTML = '';\n",
              "          dataTable['output_type'] = 'display_data';\n",
              "          await google.colab.output.renderOutput(dataTable, element);\n",
              "          const docLink = document.createElement('div');\n",
              "          docLink.innerHTML = docLinkHtml;\n",
              "          element.appendChild(docLink);\n",
              "        }\n",
              "      </script>\n",
              "    </div>\n",
              "  </div>\n",
              "  "
            ]
          },
          "metadata": {},
          "execution_count": 32
        }
      ],
      "source": [
        "df5.head(10)"
      ]
    },
    {
      "cell_type": "markdown",
      "id": "2e0e3501",
      "metadata": {
        "papermill": {
          "duration": 0.08072,
          "end_time": "2021-07-30T16:14:32.940699",
          "exception": false,
          "start_time": "2021-07-30T16:14:32.859979",
          "status": "completed"
        },
        "tags": [],
        "id": "2e0e3501"
      },
      "source": [
        "### OUTLIER REMOVAL USING BUSINESS LOGIC"
      ]
    },
    {
      "cell_type": "markdown",
      "id": "ca7569f7",
      "metadata": {
        "papermill": {
          "duration": 0.082062,
          "end_time": "2021-07-30T16:14:33.103947",
          "exception": false,
          "start_time": "2021-07-30T16:14:33.021885",
          "status": "completed"
        },
        "tags": [],
        "id": "ca7569f7"
      },
      "source": [
        "**AS A DATA SCIENTIST S A DATA SCIENTIST WHEN YOU HAVE A CONVERSATION WITH YOUR BUSINESS MANAGER (WHO HAS EXPERTISE IN REAL ESTATE), HE WILL TELL YOU THAT NORMALLY SQUARE FT PER BEDROOM IS 300 (I.E. 2 BHK APARTMENT IS MINIMUM 600 SQFT. IF YOU HAVE FOR EXAMPLE 400 SQFT APARTMENT WITH 2 BHK THAN THAT SEEMS SUSPICIOUS AND CAN BE REMOVED AS AN OUTLIER. WE WILL REMOVE SUCH OUTLIERS BY KEEPING OUR MINIMUM THRESOLD PER BHK TO BE 300 SQFT**"
      ]
    },
    {
      "cell_type": "code",
      "execution_count": 33,
      "id": "98c77b7a",
      "metadata": {
        "execution": {
          "iopub.execute_input": "2021-07-30T16:14:33.272810Z",
          "iopub.status.busy": "2021-07-30T16:14:33.271639Z",
          "iopub.status.idle": "2021-07-30T16:14:33.289388Z",
          "shell.execute_reply": "2021-07-30T16:14:33.288854Z",
          "shell.execute_reply.started": "2021-07-30T15:36:47.454281Z"
        },
        "papermill": {
          "duration": 0.104629,
          "end_time": "2021-07-30T16:14:33.289536",
          "exception": false,
          "start_time": "2021-07-30T16:14:33.184907",
          "status": "completed"
        },
        "scrolled": true,
        "tags": [],
        "id": "98c77b7a",
        "outputId": "890595dd-c68f-4986-efcc-c62bba1df2fd",
        "colab": {
          "base_uri": "https://localhost:8080/",
          "height": 206
        }
      },
      "outputs": [
        {
          "output_type": "execute_result",
          "data": {
            "text/plain": [
              "                location       size  total_sqft  bath  price  bhk  \\\n",
              "9           Bhavani Peth  6 Bedroom      1020.0   6.0  370.0    6   \n",
              "45        Kondhwa Budruk  8 Bedroom       600.0   9.0  200.0    8   \n",
              "58              Mundhawa  6 Bedroom      1407.0   4.0  150.0    6   \n",
              "68              Pirangut  8 Bedroom      1350.0   7.0   85.0    8   \n",
              "70  Pune Railway Station  3 Bedroom       500.0   3.0  100.0    3   \n",
              "\n",
              "    price_per_sqft  \n",
              "9     36274.509804  \n",
              "45    33333.333333  \n",
              "58    10660.980810  \n",
              "68     6296.296296  \n",
              "70    20000.000000  "
            ],
            "text/html": [
              "\n",
              "  <div id=\"df-4928977d-b991-4e71-b1f5-9de246826b05\">\n",
              "    <div class=\"colab-df-container\">\n",
              "      <div>\n",
              "<style scoped>\n",
              "    .dataframe tbody tr th:only-of-type {\n",
              "        vertical-align: middle;\n",
              "    }\n",
              "\n",
              "    .dataframe tbody tr th {\n",
              "        vertical-align: top;\n",
              "    }\n",
              "\n",
              "    .dataframe thead th {\n",
              "        text-align: right;\n",
              "    }\n",
              "</style>\n",
              "<table border=\"1\" class=\"dataframe\">\n",
              "  <thead>\n",
              "    <tr style=\"text-align: right;\">\n",
              "      <th></th>\n",
              "      <th>location</th>\n",
              "      <th>size</th>\n",
              "      <th>total_sqft</th>\n",
              "      <th>bath</th>\n",
              "      <th>price</th>\n",
              "      <th>bhk</th>\n",
              "      <th>price_per_sqft</th>\n",
              "    </tr>\n",
              "  </thead>\n",
              "  <tbody>\n",
              "    <tr>\n",
              "      <th>9</th>\n",
              "      <td>Bhavani Peth</td>\n",
              "      <td>6 Bedroom</td>\n",
              "      <td>1020.0</td>\n",
              "      <td>6.0</td>\n",
              "      <td>370.0</td>\n",
              "      <td>6</td>\n",
              "      <td>36274.509804</td>\n",
              "    </tr>\n",
              "    <tr>\n",
              "      <th>45</th>\n",
              "      <td>Kondhwa Budruk</td>\n",
              "      <td>8 Bedroom</td>\n",
              "      <td>600.0</td>\n",
              "      <td>9.0</td>\n",
              "      <td>200.0</td>\n",
              "      <td>8</td>\n",
              "      <td>33333.333333</td>\n",
              "    </tr>\n",
              "    <tr>\n",
              "      <th>58</th>\n",
              "      <td>Mundhawa</td>\n",
              "      <td>6 Bedroom</td>\n",
              "      <td>1407.0</td>\n",
              "      <td>4.0</td>\n",
              "      <td>150.0</td>\n",
              "      <td>6</td>\n",
              "      <td>10660.980810</td>\n",
              "    </tr>\n",
              "    <tr>\n",
              "      <th>68</th>\n",
              "      <td>Pirangut</td>\n",
              "      <td>8 Bedroom</td>\n",
              "      <td>1350.0</td>\n",
              "      <td>7.0</td>\n",
              "      <td>85.0</td>\n",
              "      <td>8</td>\n",
              "      <td>6296.296296</td>\n",
              "    </tr>\n",
              "    <tr>\n",
              "      <th>70</th>\n",
              "      <td>Pune Railway Station</td>\n",
              "      <td>3 Bedroom</td>\n",
              "      <td>500.0</td>\n",
              "      <td>3.0</td>\n",
              "      <td>100.0</td>\n",
              "      <td>3</td>\n",
              "      <td>20000.000000</td>\n",
              "    </tr>\n",
              "  </tbody>\n",
              "</table>\n",
              "</div>\n",
              "      <button class=\"colab-df-convert\" onclick=\"convertToInteractive('df-4928977d-b991-4e71-b1f5-9de246826b05')\"\n",
              "              title=\"Convert this dataframe to an interactive table.\"\n",
              "              style=\"display:none;\">\n",
              "        \n",
              "  <svg xmlns=\"http://www.w3.org/2000/svg\" height=\"24px\"viewBox=\"0 0 24 24\"\n",
              "       width=\"24px\">\n",
              "    <path d=\"M0 0h24v24H0V0z\" fill=\"none\"/>\n",
              "    <path d=\"M18.56 5.44l.94 2.06.94-2.06 2.06-.94-2.06-.94-.94-2.06-.94 2.06-2.06.94zm-11 1L8.5 8.5l.94-2.06 2.06-.94-2.06-.94L8.5 2.5l-.94 2.06-2.06.94zm10 10l.94 2.06.94-2.06 2.06-.94-2.06-.94-.94-2.06-.94 2.06-2.06.94z\"/><path d=\"M17.41 7.96l-1.37-1.37c-.4-.4-.92-.59-1.43-.59-.52 0-1.04.2-1.43.59L10.3 9.45l-7.72 7.72c-.78.78-.78 2.05 0 2.83L4 21.41c.39.39.9.59 1.41.59.51 0 1.02-.2 1.41-.59l7.78-7.78 2.81-2.81c.8-.78.8-2.07 0-2.86zM5.41 20L4 18.59l7.72-7.72 1.47 1.35L5.41 20z\"/>\n",
              "  </svg>\n",
              "      </button>\n",
              "      \n",
              "  <style>\n",
              "    .colab-df-container {\n",
              "      display:flex;\n",
              "      flex-wrap:wrap;\n",
              "      gap: 12px;\n",
              "    }\n",
              "\n",
              "    .colab-df-convert {\n",
              "      background-color: #E8F0FE;\n",
              "      border: none;\n",
              "      border-radius: 50%;\n",
              "      cursor: pointer;\n",
              "      display: none;\n",
              "      fill: #1967D2;\n",
              "      height: 32px;\n",
              "      padding: 0 0 0 0;\n",
              "      width: 32px;\n",
              "    }\n",
              "\n",
              "    .colab-df-convert:hover {\n",
              "      background-color: #E2EBFA;\n",
              "      box-shadow: 0px 1px 2px rgba(60, 64, 67, 0.3), 0px 1px 3px 1px rgba(60, 64, 67, 0.15);\n",
              "      fill: #174EA6;\n",
              "    }\n",
              "\n",
              "    [theme=dark] .colab-df-convert {\n",
              "      background-color: #3B4455;\n",
              "      fill: #D2E3FC;\n",
              "    }\n",
              "\n",
              "    [theme=dark] .colab-df-convert:hover {\n",
              "      background-color: #434B5C;\n",
              "      box-shadow: 0px 1px 3px 1px rgba(0, 0, 0, 0.15);\n",
              "      filter: drop-shadow(0px 1px 2px rgba(0, 0, 0, 0.3));\n",
              "      fill: #FFFFFF;\n",
              "    }\n",
              "  </style>\n",
              "\n",
              "      <script>\n",
              "        const buttonEl =\n",
              "          document.querySelector('#df-4928977d-b991-4e71-b1f5-9de246826b05 button.colab-df-convert');\n",
              "        buttonEl.style.display =\n",
              "          google.colab.kernel.accessAllowed ? 'block' : 'none';\n",
              "\n",
              "        async function convertToInteractive(key) {\n",
              "          const element = document.querySelector('#df-4928977d-b991-4e71-b1f5-9de246826b05');\n",
              "          const dataTable =\n",
              "            await google.colab.kernel.invokeFunction('convertToInteractive',\n",
              "                                                     [key], {});\n",
              "          if (!dataTable) return;\n",
              "\n",
              "          const docLinkHtml = 'Like what you see? Visit the ' +\n",
              "            '<a target=\"_blank\" href=https://colab.research.google.com/notebooks/data_table.ipynb>data table notebook</a>'\n",
              "            + ' to learn more about interactive tables.';\n",
              "          element.innerHTML = '';\n",
              "          dataTable['output_type'] = 'display_data';\n",
              "          await google.colab.output.renderOutput(dataTable, element);\n",
              "          const docLink = document.createElement('div');\n",
              "          docLink.innerHTML = docLinkHtml;\n",
              "          element.appendChild(docLink);\n",
              "        }\n",
              "      </script>\n",
              "    </div>\n",
              "  </div>\n",
              "  "
            ]
          },
          "metadata": {},
          "execution_count": 33
        }
      ],
      "source": [
        "df5[df5.total_sqft/df5.bhk<300].head()"
      ]
    },
    {
      "cell_type": "markdown",
      "id": "949b949f",
      "metadata": {
        "papermill": {
          "duration": 0.081543,
          "end_time": "2021-07-30T16:14:33.452902",
          "exception": false,
          "start_time": "2021-07-30T16:14:33.371359",
          "status": "completed"
        },
        "tags": [],
        "id": "949b949f"
      },
      "source": [
        "**CHECK THE ABOVE DATA POINTS. WE HAVE 6 BHK APARTMENTS WITH 1020 SQFT. ANOTHER ONE IS 8 BHK AND THE TOTAL SQFT IS 600. THESE ARE CLEAR DATA ERRORS THAT CAN BE REMOVED SAFELY**"
      ]
    },
    {
      "cell_type": "code",
      "execution_count": 34,
      "id": "998e2f70",
      "metadata": {
        "execution": {
          "iopub.execute_input": "2021-07-30T16:14:33.621912Z",
          "iopub.status.busy": "2021-07-30T16:14:33.621035Z",
          "iopub.status.idle": "2021-07-30T16:14:33.625346Z",
          "shell.execute_reply": "2021-07-30T16:14:33.624690Z",
          "shell.execute_reply.started": "2021-07-30T15:36:47.485643Z"
        },
        "papermill": {
          "duration": 0.091191,
          "end_time": "2021-07-30T16:14:33.625492",
          "exception": false,
          "start_time": "2021-07-30T16:14:33.534301",
          "status": "completed"
        },
        "tags": [],
        "id": "998e2f70",
        "outputId": "380dc903-666e-4ad0-900f-d980a05c00b3",
        "colab": {
          "base_uri": "https://localhost:8080/"
        }
      },
      "outputs": [
        {
          "output_type": "execute_result",
          "data": {
            "text/plain": [
              "(13200, 7)"
            ]
          },
          "metadata": {},
          "execution_count": 34
        }
      ],
      "source": [
        "df5.shape"
      ]
    },
    {
      "cell_type": "code",
      "execution_count": 35,
      "id": "a1ece3f8",
      "metadata": {
        "execution": {
          "iopub.execute_input": "2021-07-30T16:14:33.798591Z",
          "iopub.status.busy": "2021-07-30T16:14:33.797480Z",
          "iopub.status.idle": "2021-07-30T16:14:33.807045Z",
          "shell.execute_reply": "2021-07-30T16:14:33.806289Z",
          "shell.execute_reply.started": "2021-07-30T15:36:47.495758Z"
        },
        "papermill": {
          "duration": 0.097761,
          "end_time": "2021-07-30T16:14:33.807219",
          "exception": false,
          "start_time": "2021-07-30T16:14:33.709458",
          "status": "completed"
        },
        "scrolled": true,
        "tags": [],
        "id": "a1ece3f8",
        "outputId": "db45496d-e212-487c-cffa-b03d504878aa",
        "colab": {
          "base_uri": "https://localhost:8080/"
        }
      },
      "outputs": [
        {
          "output_type": "execute_result",
          "data": {
            "text/plain": [
              "(12456, 7)"
            ]
          },
          "metadata": {},
          "execution_count": 35
        }
      ],
      "source": [
        "df6 = df5[~(df5.total_sqft/df5.bhk<300)]\n",
        "df6.shape"
      ]
    },
    {
      "cell_type": "markdown",
      "id": "0aae13ab",
      "metadata": {
        "papermill": {
          "duration": 0.08229,
          "end_time": "2021-07-30T16:14:33.973226",
          "exception": false,
          "start_time": "2021-07-30T16:14:33.890936",
          "status": "completed"
        },
        "tags": [],
        "id": "0aae13ab"
      },
      "source": [
        "### OUTLIER REMOVAL USING STANDARD DEVIATION AND MEAN"
      ]
    },
    {
      "cell_type": "code",
      "execution_count": 36,
      "id": "598c5ccb",
      "metadata": {
        "execution": {
          "iopub.execute_input": "2021-07-30T16:14:34.149163Z",
          "iopub.status.busy": "2021-07-30T16:14:34.143935Z",
          "iopub.status.idle": "2021-07-30T16:14:34.154126Z",
          "shell.execute_reply": "2021-07-30T16:14:34.153597Z",
          "shell.execute_reply.started": "2021-07-30T15:36:47.510237Z"
        },
        "papermill": {
          "duration": 0.098831,
          "end_time": "2021-07-30T16:14:34.154273",
          "exception": false,
          "start_time": "2021-07-30T16:14:34.055442",
          "status": "completed"
        },
        "tags": [],
        "id": "598c5ccb",
        "outputId": "91b260c0-497b-4377-9e7f-f0626d73d077",
        "colab": {
          "base_uri": "https://localhost:8080/"
        }
      },
      "outputs": [
        {
          "output_type": "execute_result",
          "data": {
            "text/plain": [
              "count     12456.000000\n",
              "mean       6308.628922\n",
              "std        4168.075333\n",
              "min         267.829813\n",
              "25%        4210.526316\n",
              "50%        5294.117647\n",
              "75%        6916.666667\n",
              "max      176470.588235\n",
              "Name: price_per_sqft, dtype: float64"
            ]
          },
          "metadata": {},
          "execution_count": 36
        }
      ],
      "source": [
        "df6.price_per_sqft.describe()"
      ]
    },
    {
      "cell_type": "markdown",
      "id": "0e0730d4",
      "metadata": {
        "papermill": {
          "duration": 0.083595,
          "end_time": "2021-07-30T16:14:34.321735",
          "exception": false,
          "start_time": "2021-07-30T16:14:34.238140",
          "status": "completed"
        },
        "tags": [],
        "id": "0e0730d4"
      },
      "source": [
        "**HERE WE FIND THAT MIN PRICE PER SQFT IS 267 RS/SQFT WHEREAS MAX IS 12000000, THIS SHOWS A WIDE VARIATION IN PROPERTY PRICES. WE SHOULD REMOVE OUTLIERS PER LOCATION USING MEAN AND ONE STANDARD DEVIATION**"
      ]
    },
    {
      "cell_type": "code",
      "execution_count": 37,
      "id": "46006c6e",
      "metadata": {
        "execution": {
          "iopub.execute_input": "2021-07-30T16:14:34.497319Z",
          "iopub.status.busy": "2021-07-30T16:14:34.496486Z",
          "iopub.status.idle": "2021-07-30T16:14:35.220767Z",
          "shell.execute_reply": "2021-07-30T16:14:35.220067Z",
          "shell.execute_reply.started": "2021-07-30T15:36:47.526290Z"
        },
        "papermill": {
          "duration": 0.816651,
          "end_time": "2021-07-30T16:14:35.220914",
          "exception": false,
          "start_time": "2021-07-30T16:14:34.404263",
          "status": "completed"
        },
        "tags": [],
        "id": "46006c6e",
        "outputId": "0f85902f-9d8f-439c-a7bd-42cfe08be833",
        "colab": {
          "base_uri": "https://localhost:8080/"
        }
      },
      "outputs": [
        {
          "output_type": "execute_result",
          "data": {
            "text/plain": [
              "(10883, 7)"
            ]
          },
          "metadata": {},
          "execution_count": 37
        }
      ],
      "source": [
        "def remove_pps_outliers(df):\n",
        "    df_out = pd.DataFrame()\n",
        "    for key, subdf in df.groupby('location'):\n",
        "        m = np.mean(subdf.price_per_sqft)\n",
        "        st = np.std(subdf.price_per_sqft)\n",
        "        reduced_df = subdf[(subdf.price_per_sqft>(m-st)) & (subdf.price_per_sqft<=(m+st))]\n",
        "        df_out = pd.concat([df_out,reduced_df],ignore_index=True)\n",
        "    return df_out\n",
        "df7 = remove_pps_outliers(df6)\n",
        "df7.shape"
      ]
    },
    {
      "cell_type": "markdown",
      "id": "64571be5",
      "metadata": {
        "papermill": {
          "duration": 0.109,
          "end_time": "2021-07-30T16:14:35.412924",
          "exception": false,
          "start_time": "2021-07-30T16:14:35.303924",
          "status": "completed"
        },
        "tags": [],
        "id": "64571be5"
      },
      "source": [
        "**LET'S CHECK IF FOR A GIVEN LOCATION HOW DOES THE 2 BHK AND 3 BHK PROPERTY PRICES LOOK LIKE**"
      ]
    },
    {
      "cell_type": "code",
      "execution_count": 41,
      "id": "94c4823a",
      "metadata": {
        "execution": {
          "iopub.execute_input": "2021-07-30T16:14:35.592544Z",
          "iopub.status.busy": "2021-07-30T16:14:35.591879Z",
          "iopub.status.idle": "2021-07-30T16:14:35.901404Z",
          "shell.execute_reply": "2021-07-30T16:14:35.900837Z",
          "shell.execute_reply.started": "2021-07-30T15:36:48.189924Z"
        },
        "papermill": {
          "duration": 0.403134,
          "end_time": "2021-07-30T16:14:35.901564",
          "exception": false,
          "start_time": "2021-07-30T16:14:35.498430",
          "status": "completed"
        },
        "tags": [],
        "id": "94c4823a",
        "outputId": "652dd3e7-9526-4b73-e92f-c6a159124639",
        "colab": {
          "base_uri": "https://localhost:8080/",
          "height": 599
        }
      },
      "outputs": [
        {
          "output_type": "display_data",
          "data": {
            "text/plain": [
              "<Figure size 1080x720 with 1 Axes>"
            ],
            "image/png": "[encoded data removed]"
          },
          "metadata": {
            "needs_background": "light"
          }
        }
      ],
      "source": [
        "def plot_scatter_chart(df,location):\n",
        "    bhk2 = df[(df.location==location) & (df.bhk==2)]\n",
        "    bhk3 = df[(df.location==location) & (df.bhk==3)]\n",
        "    matplotlib.rcParams['figure.figsize'] = (15,10)\n",
        "    plt.scatter(bhk2.total_sqft,bhk2.price,color='blue',label='2 BHK', s=50)\n",
        "    plt.scatter(bhk3.total_sqft,bhk3.price,marker='+', color='green',label='3 BHK', s=50)\n",
        "    plt.xlabel(\"Total Square Feet Area\")\n",
        "    plt.ylabel(\"Price (Lakh Indian Rupees)\")\n",
        "    plt.title(location)\n",
        "    plt.legend()\n",
        "    \n",
        "plot_scatter_chart(df7,\"Alandi Road\")"
      ]
    },
    {
      "cell_type": "code",
      "execution_count": 42,
      "id": "29e535a3",
      "metadata": {
        "execution": {
          "iopub.execute_input": "2021-07-30T16:14:36.107510Z",
          "iopub.status.busy": "2021-07-30T16:14:36.106813Z",
          "iopub.status.idle": "2021-07-30T16:14:36.328018Z",
          "shell.execute_reply": "2021-07-30T16:14:36.327437Z",
          "shell.execute_reply.started": "2021-07-30T15:36:48.515033Z"
        },
        "papermill": {
          "duration": 0.340565,
          "end_time": "2021-07-30T16:14:36.328187",
          "exception": false,
          "start_time": "2021-07-30T16:14:35.987622",
          "status": "completed"
        },
        "tags": [],
        "id": "29e535a3",
        "outputId": "df518b11-066c-43cf-e85b-71a9116ef6c9",
        "colab": {
          "base_uri": "https://localhost:8080/",
          "height": 599
        }
      },
      "outputs": [
        {
          "output_type": "display_data",
          "data": {
            "text/plain": [
              "<Figure size 1080x720 with 1 Axes>"
            ],
            "image/png": "[encoded data removed]"
          },
          "metadata": {
            "needs_background": "light"
          }
        }
      ],
      "source": [
        "plot_scatter_chart(df7,\"Fergusson College Road\")"
      ]
    },
    {
      "cell_type": "markdown",
      "id": "f8d07ef1",
      "metadata": {
        "papermill": {
          "duration": 0.08748,
          "end_time": "2021-07-30T16:14:36.502823",
          "exception": false,
          "start_time": "2021-07-30T16:14:36.415343",
          "status": "completed"
        },
        "tags": [],
        "id": "f8d07ef1"
      },
      "source": [
        "**WE SHOULD ALSO REMOVE PROPERTIES WHERE FOR THE SAME LOCATION, THE PRICE OF (FOR EXAMPLE) A 3 BEDROOM APARTMENT IS LESS THAN A 2 BEDROOM APARTMENT (WITH THE SAME SQUARE FT AREA). WHAT WE WILL DO IS FOR A GIVEN LOCATION, WE WILL BUILD A DICTIONARY OF STATS PER BHK, I.E.**\n",
        "```\n",
        "{\n",
        "    '1' : {\n",
        "        'mean': 4000,\n",
        "        'std: 2000,\n",
        "        'count': 34\n",
        "    },\n",
        "    '2' : {\n",
        "        'mean': 4300,\n",
        "        'std: 2300,\n",
        "        'count': 22\n",
        "    },    \n",
        "}\n",
        "```\n",
        "**NOW WE CAN REMOVE THOSE 2 BHK APARTMENTS WHOSE PRICE_PER_SQFT IS LESS THAN THE MEAN PRICE_PER_SQFT OF 1 BHK APARTMENT**"
      ]
    },
    {
      "cell_type": "code",
      "execution_count": 43,
      "id": "aa0c9fa1",
      "metadata": {
        "execution": {
          "iopub.execute_input": "2021-07-30T16:14:36.684542Z",
          "iopub.status.busy": "2021-07-30T16:14:36.683865Z",
          "iopub.status.idle": "2021-07-30T16:14:37.512621Z",
          "shell.execute_reply": "2021-07-30T16:14:37.512068Z",
          "shell.execute_reply.started": "2021-07-30T15:36:48.768483Z"
        },
        "papermill": {
          "duration": 0.923406,
          "end_time": "2021-07-30T16:14:37.512767",
          "exception": false,
          "start_time": "2021-07-30T16:14:36.589361",
          "status": "completed"
        },
        "tags": [],
        "id": "aa0c9fa1",
        "outputId": "af873c74-448f-49fa-eea2-4feb3c6a55f5",
        "colab": {
          "base_uri": "https://localhost:8080/"
        }
      },
      "outputs": [
        {
          "output_type": "execute_result",
          "data": {
            "text/plain": [
              "(7543, 7)"
            ]
          },
          "metadata": {},
          "execution_count": 43
        }
      ],
      "source": [
        "def remove_bhk_outliers(df):\n",
        "    exclude_indices = np.array([])\n",
        "    for location, location_df in df.groupby('location'):\n",
        "        bhk_stats = {}\n",
        "        for bhk, bhk_df in location_df.groupby('bhk'):\n",
        "            bhk_stats[bhk] = {\n",
        "                'mean': np.mean(bhk_df.price_per_sqft),\n",
        "                'std': np.std(bhk_df.price_per_sqft),\n",
        "                'count': bhk_df.shape[0]\n",
        "            }\n",
        "        for bhk, bhk_df in location_df.groupby('bhk'):\n",
        "            stats = bhk_stats.get(bhk-1)\n",
        "            if stats and stats['count']>5:\n",
        "                exclude_indices = np.append(exclude_indices, bhk_df[bhk_df.price_per_sqft<(stats['mean'])].index.values)\n",
        "    return df.drop(exclude_indices,axis='index')\n",
        "df8 = remove_bhk_outliers(df7)\n",
        "# df8 = df7.copy()\n",
        "df8.shape"
      ]
    },
    {
      "cell_type": "markdown",
      "id": "f33ac0df",
      "metadata": {
        "papermill": {
          "duration": 0.085836,
          "end_time": "2021-07-30T16:14:37.684635",
          "exception": false,
          "start_time": "2021-07-30T16:14:37.598799",
          "status": "completed"
        },
        "tags": [],
        "id": "f33ac0df"
      },
      "source": [
        "**PLOT SAME SCATTER CHART AGAIN TO VISUALIZE PRICE_PER_SQFT FOR 2 BHK AND 3 BHK PROPERTIES**"
      ]
    },
    {
      "cell_type": "code",
      "execution_count": 44,
      "id": "5fdca181",
      "metadata": {
        "execution": {
          "iopub.execute_input": "2021-07-30T16:14:37.885712Z",
          "iopub.status.busy": "2021-07-30T16:14:37.885032Z",
          "iopub.status.idle": "2021-07-30T16:14:38.128019Z",
          "shell.execute_reply": "2021-07-30T16:14:38.128537Z",
          "shell.execute_reply.started": "2021-07-30T15:36:49.589363Z"
        },
        "papermill": {
          "duration": 0.358057,
          "end_time": "2021-07-30T16:14:38.128738",
          "exception": false,
          "start_time": "2021-07-30T16:14:37.770681",
          "status": "completed"
        },
        "tags": [],
        "id": "5fdca181",
        "outputId": "ab62a607-3b67-4e13-86f8-a9bf67b07348",
        "colab": {
          "base_uri": "https://localhost:8080/",
          "height": 599
        }
      },
      "outputs": [
        {
          "output_type": "display_data",
          "data": {
            "text/plain": [
              "<Figure size 1080x720 with 1 Axes>"
            ],
            "image/png": "[encoded data removed]"
          },
          "metadata": {
            "needs_background": "light"
          }
        }
      ],
      "source": [
        "plot_scatter_chart(df8,\"Alandi Road\")"
      ]
    },
    {
      "cell_type": "code",
      "execution_count": 45,
      "id": "20f72206",
      "metadata": {
        "execution": {
          "iopub.execute_input": "2021-07-30T16:14:38.328118Z",
          "iopub.status.busy": "2021-07-30T16:14:38.311953Z",
          "iopub.status.idle": "2021-07-30T16:14:38.563694Z",
          "shell.execute_reply": "2021-07-30T16:14:38.564237Z",
          "shell.execute_reply.started": "2021-07-30T15:36:49.865580Z"
        },
        "papermill": {
          "duration": 0.348903,
          "end_time": "2021-07-30T16:14:38.564410",
          "exception": false,
          "start_time": "2021-07-30T16:14:38.215507",
          "status": "completed"
        },
        "scrolled": true,
        "tags": [],
        "id": "20f72206",
        "outputId": "a74407b4-682e-4027-cbba-12b91574e11b",
        "colab": {
          "base_uri": "https://localhost:8080/",
          "height": 599
        }
      },
      "outputs": [
        {
          "output_type": "display_data",
          "data": {
            "text/plain": [
              "<Figure size 1080x720 with 1 Axes>"
            ],
            "image/png": "[encoded data removed]"
          },
          "metadata": {
            "needs_background": "light"
          }
        }
      ],
      "source": [
        "plot_scatter_chart(df8,\"Fergusson College Road\")"
      ]
    },
    {
      "cell_type": "markdown",
      "id": "ec7f5ccf",
      "metadata": {
        "papermill": {
          "duration": 0.086859,
          "end_time": "2021-07-30T16:14:38.738332",
          "exception": false,
          "start_time": "2021-07-30T16:14:38.651473",
          "status": "completed"
        },
        "tags": [],
        "id": "ec7f5ccf"
      },
      "source": [
        "**BASED ON ABOVE CHARTS WE CAN SEE THAT DATA POINTS HIGHLIGHTED IN RED BELOW ARE OUTLIERS AND THEY ARE BEING REMOVED DUE TO REMOVE_BHK_OUTLIERS FUNCTION**"
      ]
    },
    {
      "cell_type": "code",
      "execution_count": 46,
      "id": "449881ee",
      "metadata": {
        "execution": {
          "iopub.execute_input": "2021-07-30T16:14:39.613767Z",
          "iopub.status.busy": "2021-07-30T16:14:39.613102Z",
          "iopub.status.idle": "2021-07-30T16:14:39.823610Z",
          "shell.execute_reply": "2021-07-30T16:14:39.824197Z",
          "shell.execute_reply.started": "2021-07-30T15:36:50.127842Z"
        },
        "papermill": {
          "duration": 0.300558,
          "end_time": "2021-07-30T16:14:39.824383",
          "exception": false,
          "start_time": "2021-07-30T16:14:39.523825",
          "status": "completed"
        },
        "tags": [],
        "id": "449881ee",
        "outputId": "50386763-ec2d-4dd5-e05d-4d99922705a3",
        "colab": {
          "base_uri": "https://localhost:8080/",
          "height": 462
        }
      },
      "outputs": [
        {
          "output_type": "execute_result",
          "data": {
            "text/plain": [
              "Text(0, 0.5, 'Count')"
            ]
          },
          "metadata": {},
          "execution_count": 46
        },
        {
          "output_type": "display_data",
          "data": {
            "text/plain": [
              "<Figure size 1440x720 with 1 Axes>"
            ],
            "image/png": "[encoded data removed]"
          },
          "metadata": {
            "needs_background": "light"
          }
        }
      ],
      "source": [
        "import matplotlib\n",
        "matplotlib.rcParams[\"figure.figsize\"] = (20,10)\n",
        "plt.hist(df8.price_per_sqft,rwidth=0.8)\n",
        "plt.xlabel(\"Price Per Square Feet\")\n",
        "plt.ylabel(\"Count\")"
      ]
    },
    {
      "cell_type": "markdown",
      "id": "8b38eb25",
      "metadata": {
        "papermill": {
          "duration": 0.088398,
          "end_time": "2021-07-30T16:14:40.002283",
          "exception": false,
          "start_time": "2021-07-30T16:14:39.913885",
          "status": "completed"
        },
        "tags": [],
        "id": "8b38eb25"
      },
      "source": [
        "### OUTLIER REMOVAL USING BATHROOMS FEATURE"
      ]
    },
    {
      "cell_type": "code",
      "execution_count": 47,
      "id": "c7a9cae0",
      "metadata": {
        "execution": {
          "iopub.execute_input": "2021-07-30T16:14:40.186541Z",
          "iopub.status.busy": "2021-07-30T16:14:40.185908Z",
          "iopub.status.idle": "2021-07-30T16:14:40.188961Z",
          "shell.execute_reply": "2021-07-30T16:14:40.189537Z",
          "shell.execute_reply.started": "2021-07-30T15:36:50.343399Z"
        },
        "papermill": {
          "duration": 0.097699,
          "end_time": "2021-07-30T16:14:40.189733",
          "exception": false,
          "start_time": "2021-07-30T16:14:40.092034",
          "status": "completed"
        },
        "tags": [],
        "id": "c7a9cae0",
        "outputId": "4ec15933-24a5-48a1-d210-abbb6f38feac",
        "colab": {
          "base_uri": "https://localhost:8080/"
        }
      },
      "outputs": [
        {
          "output_type": "execute_result",
          "data": {
            "text/plain": [
              "array([ 2.,  4.,  3.,  5.,  9.,  1.,  6.,  7.,  8., 12., 13., 16.])"
            ]
          },
          "metadata": {},
          "execution_count": 47
        }
      ],
      "source": [
        "df8.bath.unique()"
      ]
    },
    {
      "cell_type": "code",
      "execution_count": 48,
      "id": "651be3be",
      "metadata": {
        "execution": {
          "iopub.execute_input": "2021-07-30T16:14:40.396718Z",
          "iopub.status.busy": "2021-07-30T16:14:40.396026Z",
          "iopub.status.idle": "2021-07-30T16:14:40.594164Z",
          "shell.execute_reply": "2021-07-30T16:14:40.593147Z",
          "shell.execute_reply.started": "2021-07-30T15:36:50.352074Z"
        },
        "papermill": {
          "duration": 0.316532,
          "end_time": "2021-07-30T16:14:40.594332",
          "exception": false,
          "start_time": "2021-07-30T16:14:40.277800",
          "status": "completed"
        },
        "tags": [],
        "id": "651be3be",
        "outputId": "4d0cdbef-1059-46bd-d24c-abfc7bf9af5d",
        "colab": {
          "base_uri": "https://localhost:8080/",
          "height": 464
        }
      },
      "outputs": [
        {
          "output_type": "execute_result",
          "data": {
            "text/plain": [
              "Text(0, 0.5, 'Count')"
            ]
          },
          "metadata": {},
          "execution_count": 48
        },
        {
          "output_type": "display_data",
          "data": {
            "text/plain": [
              "<Figure size 1440x720 with 1 Axes>"
            ],
            "image/png": "[encoded data removed]"
          },
          "metadata": {
            "needs_background": "light"
          }
        }
      ],
      "source": [
        "plt.hist(df8.bath,rwidth=0.8)\n",
        "plt.xlabel(\"Number of bathrooms\")\n",
        "plt.ylabel(\"Count\")"
      ]
    },
    {
      "cell_type": "code",
      "execution_count": 49,
      "id": "39ecd7da",
      "metadata": {
        "execution": {
          "iopub.execute_input": "2021-07-30T16:14:40.827227Z",
          "iopub.status.busy": "2021-07-30T16:14:40.826290Z",
          "iopub.status.idle": "2021-07-30T16:14:40.840083Z",
          "shell.execute_reply": "2021-07-30T16:14:40.838707Z",
          "shell.execute_reply.started": "2021-07-30T15:36:50.576506Z"
        },
        "papermill": {
          "duration": 0.133595,
          "end_time": "2021-07-30T16:14:40.840360",
          "exception": false,
          "start_time": "2021-07-30T16:14:40.706765",
          "status": "completed"
        },
        "tags": [],
        "id": "39ecd7da",
        "outputId": "66a1448d-19f6-414b-fcc0-a21f3cd35f48",
        "colab": {
          "base_uri": "https://localhost:8080/",
          "height": 206
        }
      },
      "outputs": [
        {
          "output_type": "execute_result",
          "data": {
            "text/plain": [
              "            location    size  total_sqft  bath  price  bhk  price_per_sqft\n",
              "1211       Bibvewadi  11 BHK      6000.0  12.0  150.0   11     2500.000000\n",
              "2637    Fatima Nagar  10 BHK     12000.0  12.0  525.0   10     4375.000000\n",
              "5265   Kondhwa Khurd  13 BHK      5425.0  13.0  275.0   13     5069.124424\n",
              "6350    Model colony  16 BHK     10000.0  16.0  550.0   16     5500.000000\n",
              "10389        Wagholi  10 BHK      4000.0  12.0  160.0   10     4000.000000"
            ],
            "text/html": [
              "\n",
              "  <div id=\"df-655d2a21-3430-4cb2-8049-d90d08944273\">\n",
              "    <div class=\"colab-df-container\">\n",
              "      <div>\n",
              "<style scoped>\n",
              "    .dataframe tbody tr th:only-of-type {\n",
              "        vertical-align: middle;\n",
              "    }\n",
              "\n",
              "    .dataframe tbody tr th {\n",
              "        vertical-align: top;\n",
              "    }\n",
              "\n",
              "    .dataframe thead th {\n",
              "        text-align: right;\n",
              "    }\n",
              "</style>\n",
              "<table border=\"1\" class=\"dataframe\">\n",
              "  <thead>\n",
              "    <tr style=\"text-align: right;\">\n",
              "      <th></th>\n",
              "      <th>location</th>\n",
              "      <th>size</th>\n",
              "      <th>total_sqft</th>\n",
              "      <th>bath</th>\n",
              "      <th>price</th>\n",
              "      <th>bhk</th>\n",
              "      <th>price_per_sqft</th>\n",
              "    </tr>\n",
              "  </thead>\n",
              "  <tbody>\n",
              "    <tr>\n",
              "      <th>1211</th>\n",
              "      <td>Bibvewadi</td>\n",
              "      <td>11 BHK</td>\n",
              "      <td>6000.0</td>\n",
              "      <td>12.0</td>\n",
              "      <td>150.0</td>\n",
              "      <td>11</td>\n",
              "      <td>2500.000000</td>\n",
              "    </tr>\n",
              "    <tr>\n",
              "      <th>2637</th>\n",
              "      <td>Fatima Nagar</td>\n",
              "      <td>10 BHK</td>\n",
              "      <td>12000.0</td>\n",
              "      <td>12.0</td>\n",
              "      <td>525.0</td>\n",
              "      <td>10</td>\n",
              "      <td>4375.000000</td>\n",
              "    </tr>\n",
              "    <tr>\n",
              "      <th>5265</th>\n",
              "      <td>Kondhwa Khurd</td>\n",
              "      <td>13 BHK</td>\n",
              "      <td>5425.0</td>\n",
              "      <td>13.0</td>\n",
              "      <td>275.0</td>\n",
              "      <td>13</td>\n",
              "      <td>5069.124424</td>\n",
              "    </tr>\n",
              "    <tr>\n",
              "      <th>6350</th>\n",
              "      <td>Model colony</td>\n",
              "      <td>16 BHK</td>\n",
              "      <td>10000.0</td>\n",
              "      <td>16.0</td>\n",
              "      <td>550.0</td>\n",
              "      <td>16</td>\n",
              "      <td>5500.000000</td>\n",
              "    </tr>\n",
              "    <tr>\n",
              "      <th>10389</th>\n",
              "      <td>Wagholi</td>\n",
              "      <td>10 BHK</td>\n",
              "      <td>4000.0</td>\n",
              "      <td>12.0</td>\n",
              "      <td>160.0</td>\n",
              "      <td>10</td>\n",
              "      <td>4000.000000</td>\n",
              "    </tr>\n",
              "  </tbody>\n",
              "</table>\n",
              "</div>\n",
              "      <button class=\"colab-df-convert\" onclick=\"convertToInteractive('df-655d2a21-3430-4cb2-8049-d90d08944273')\"\n",
              "              title=\"Convert this dataframe to an interactive table.\"\n",
              "              style=\"display:none;\">\n",
              "        \n",
              "  <svg xmlns=\"http://www.w3.org/2000/svg\" height=\"24px\"viewBox=\"0 0 24 24\"\n",
              "       width=\"24px\">\n",
              "    <path d=\"M0 0h24v24H0V0z\" fill=\"none\"/>\n",
              "    <path d=\"M18.56 5.44l.94 2.06.94-2.06 2.06-.94-2.06-.94-.94-2.06-.94 2.06-2.06.94zm-11 1L8.5 8.5l.94-2.06 2.06-.94-2.06-.94L8.5 2.5l-.94 2.06-2.06.94zm10 10l.94 2.06.94-2.06 2.06-.94-2.06-.94-.94-2.06-.94 2.06-2.06.94z\"/><path d=\"M17.41 7.96l-1.37-1.37c-.4-.4-.92-.59-1.43-.59-.52 0-1.04.2-1.43.59L10.3 9.45l-7.72 7.72c-.78.78-.78 2.05 0 2.83L4 21.41c.39.39.9.59 1.41.59.51 0 1.02-.2 1.41-.59l7.78-7.78 2.81-2.81c.8-.78.8-2.07 0-2.86zM5.41 20L4 18.59l7.72-7.72 1.47 1.35L5.41 20z\"/>\n",
              "  </svg>\n",
              "      </button>\n",
              "      \n",
              "  <style>\n",
              "    .colab-df-container {\n",
              "      display:flex;\n",
              "      flex-wrap:wrap;\n",
              "      gap: 12px;\n",
              "    }\n",
              "\n",
              "    .colab-df-convert {\n",
              "      background-color: #E8F0FE;\n",
              "      border: none;\n",
              "      border-radius: 50%;\n",
              "      cursor: pointer;\n",
              "      display: none;\n",
              "      fill: #1967D2;\n",
              "      height: 32px;\n",
              "      padding: 0 0 0 0;\n",
              "      width: 32px;\n",
              "    }\n",
              "\n",
              "    .colab-df-convert:hover {\n",
              "      background-color: #E2EBFA;\n",
              "      box-shadow: 0px 1px 2px rgba(60, 64, 67, 0.3), 0px 1px 3px 1px rgba(60, 64, 67, 0.15);\n",
              "      fill: #174EA6;\n",
              "    }\n",
              "\n",
              "    [theme=dark] .colab-df-convert {\n",
              "      background-color: #3B4455;\n",
              "      fill: #D2E3FC;\n",
              "    }\n",
              "\n",
              "    [theme=dark] .colab-df-convert:hover {\n",
              "      background-color: #434B5C;\n",
              "      box-shadow: 0px 1px 3px 1px rgba(0, 0, 0, 0.15);\n",
              "      filter: drop-shadow(0px 1px 2px rgba(0, 0, 0, 0.3));\n",
              "      fill: #FFFFFF;\n",
              "    }\n",
              "  </style>\n",
              "\n",
              "      <script>\n",
              "        const buttonEl =\n",
              "          document.querySelector('#df-655d2a21-3430-4cb2-8049-d90d08944273 button.colab-df-convert');\n",
              "        buttonEl.style.display =\n",
              "          google.colab.kernel.accessAllowed ? 'block' : 'none';\n",
              "\n",
              "        async function convertToInteractive(key) {\n",
              "          const element = document.querySelector('#df-655d2a21-3430-4cb2-8049-d90d08944273');\n",
              "          const dataTable =\n",
              "            await google.colab.kernel.invokeFunction('convertToInteractive',\n",
              "                                                     [key], {});\n",
              "          if (!dataTable) return;\n",
              "\n",
              "          const docLinkHtml = 'Like what you see? Visit the ' +\n",
              "            '<a target=\"_blank\" href=https://colab.research.google.com/notebooks/data_table.ipynb>data table notebook</a>'\n",
              "            + ' to learn more about interactive tables.';\n",
              "          element.innerHTML = '';\n",
              "          dataTable['output_type'] = 'display_data';\n",
              "          await google.colab.output.renderOutput(dataTable, element);\n",
              "          const docLink = document.createElement('div');\n",
              "          docLink.innerHTML = docLinkHtml;\n",
              "          element.appendChild(docLink);\n",
              "        }\n",
              "      </script>\n",
              "    </div>\n",
              "  </div>\n",
              "  "
            ]
          },
          "metadata": {},
          "execution_count": 49
        }
      ],
      "source": [
        "df8[df8.bath>10]"
      ]
    },
    {
      "cell_type": "markdown",
      "id": "7f8cc0e5",
      "metadata": {
        "papermill": {
          "duration": 0.092978,
          "end_time": "2021-07-30T16:14:41.041517",
          "exception": false,
          "start_time": "2021-07-30T16:14:40.948539",
          "status": "completed"
        },
        "tags": [],
        "id": "7f8cc0e5"
      },
      "source": [
        "**IT IS UNUSUAL TO HAVE 2 MORE BATHROOMS THAN NUMBER OF BEDROOMS IN A HOME**"
      ]
    },
    {
      "cell_type": "code",
      "execution_count": 50,
      "id": "b348cf1b",
      "metadata": {
        "execution": {
          "iopub.execute_input": "2021-07-30T16:14:41.242012Z",
          "iopub.status.busy": "2021-07-30T16:14:41.240963Z",
          "iopub.status.idle": "2021-07-30T16:14:41.246006Z",
          "shell.execute_reply": "2021-07-30T16:14:41.245399Z",
          "shell.execute_reply.started": "2021-07-30T15:36:50.596981Z"
        },
        "papermill": {
          "duration": 0.111991,
          "end_time": "2021-07-30T16:14:41.246163",
          "exception": false,
          "start_time": "2021-07-30T16:14:41.134172",
          "status": "completed"
        },
        "tags": [],
        "id": "b348cf1b",
        "outputId": "2af18102-832f-4c48-9d15-836e23977256",
        "colab": {
          "base_uri": "https://localhost:8080/",
          "height": 143
        }
      },
      "outputs": [
        {
          "output_type": "execute_result",
          "data": {
            "text/plain": [
              "           location       size  total_sqft  bath   price  bhk  price_per_sqft\n",
              "772           Baner      3 BHK      1806.0   6.0   116.0    3     6423.034330\n",
              "3067  Ghorpade Peth      6 BHK     11338.0   9.0  1000.0    6     8819.897689\n",
              "4231    Karve Nagar  4 Bedroom      7000.0   8.0   450.0    4     6428.571429"
            ],
            "text/html": [
              "\n",
              "  <div id=\"df-618c6fc3-44ca-48b1-b4df-c1d613ba76be\">\n",
              "    <div class=\"colab-df-container\">\n",
              "      <div>\n",
              "<style scoped>\n",
              "    .dataframe tbody tr th:only-of-type {\n",
              "        vertical-align: middle;\n",
              "    }\n",
              "\n",
              "    .dataframe tbody tr th {\n",
              "        vertical-align: top;\n",
              "    }\n",
              "\n",
              "    .dataframe thead th {\n",
              "        text-align: right;\n",
              "    }\n",
              "</style>\n",
              "<table border=\"1\" class=\"dataframe\">\n",
              "  <thead>\n",
              "    <tr style=\"text-align: right;\">\n",
              "      <th></th>\n",
              "      <th>location</th>\n",
              "      <th>size</th>\n",
              "      <th>total_sqft</th>\n",
              "      <th>bath</th>\n",
              "      <th>price</th>\n",
              "      <th>bhk</th>\n",
              "      <th>price_per_sqft</th>\n",
              "    </tr>\n",
              "  </thead>\n",
              "  <tbody>\n",
              "    <tr>\n",
              "      <th>772</th>\n",
              "      <td>Baner</td>\n",
              "      <td>3 BHK</td>\n",
              "      <td>1806.0</td>\n",
              "      <td>6.0</td>\n",
              "      <td>116.0</td>\n",
              "      <td>3</td>\n",
              "      <td>6423.034330</td>\n",
              "    </tr>\n",
              "    <tr>\n",
              "      <th>3067</th>\n",
              "      <td>Ghorpade Peth</td>\n",
              "      <td>6 BHK</td>\n",
              "      <td>11338.0</td>\n",
              "      <td>9.0</td>\n",
              "      <td>1000.0</td>\n",
              "      <td>6</td>\n",
              "      <td>8819.897689</td>\n",
              "    </tr>\n",
              "    <tr>\n",
              "      <th>4231</th>\n",
              "      <td>Karve Nagar</td>\n",
              "      <td>4 Bedroom</td>\n",
              "      <td>7000.0</td>\n",
              "      <td>8.0</td>\n",
              "      <td>450.0</td>\n",
              "      <td>4</td>\n",
              "      <td>6428.571429</td>\n",
              "    </tr>\n",
              "  </tbody>\n",
              "</table>\n",
              "</div>\n",
              "      <button class=\"colab-df-convert\" onclick=\"convertToInteractive('df-618c6fc3-44ca-48b1-b4df-c1d613ba76be')\"\n",
              "              title=\"Convert this dataframe to an interactive table.\"\n",
              "              style=\"display:none;\">\n",
              "        \n",
              "  <svg xmlns=\"http://www.w3.org/2000/svg\" height=\"24px\"viewBox=\"0 0 24 24\"\n",
              "       width=\"24px\">\n",
              "    <path d=\"M0 0h24v24H0V0z\" fill=\"none\"/>\n",
              "    <path d=\"M18.56 5.44l.94 2.06.94-2.06 2.06-.94-2.06-.94-.94-2.06-.94 2.06-2.06.94zm-11 1L8.5 8.5l.94-2.06 2.06-.94-2.06-.94L8.5 2.5l-.94 2.06-2.06.94zm10 10l.94 2.06.94-2.06 2.06-.94-2.06-.94-.94-2.06-.94 2.06-2.06.94z\"/><path d=\"M17.41 7.96l-1.37-1.37c-.4-.4-.92-.59-1.43-.59-.52 0-1.04.2-1.43.59L10.3 9.45l-7.72 7.72c-.78.78-.78 2.05 0 2.83L4 21.41c.39.39.9.59 1.41.59.51 0 1.02-.2 1.41-.59l7.78-7.78 2.81-2.81c.8-.78.8-2.07 0-2.86zM5.41 20L4 18.59l7.72-7.72 1.47 1.35L5.41 20z\"/>\n",
              "  </svg>\n",
              "      </button>\n",
              "      \n",
              "  <style>\n",
              "    .colab-df-container {\n",
              "      display:flex;\n",
              "      flex-wrap:wrap;\n",
              "      gap: 12px;\n",
              "    }\n",
              "\n",
              "    .colab-df-convert {\n",
              "      background-color: #E8F0FE;\n",
              "      border: none;\n",
              "      border-radius: 50%;\n",
              "      cursor: pointer;\n",
              "      display: none;\n",
              "      fill: #1967D2;\n",
              "      height: 32px;\n",
              "      padding: 0 0 0 0;\n",
              "      width: 32px;\n",
              "    }\n",
              "\n",
              "    .colab-df-convert:hover {\n",
              "      background-color: #E2EBFA;\n",
              "      box-shadow: 0px 1px 2px rgba(60, 64, 67, 0.3), 0px 1px 3px 1px rgba(60, 64, 67, 0.15);\n",
              "      fill: #174EA6;\n",
              "    }\n",
              "\n",
              "    [theme=dark] .colab-df-convert {\n",
              "      background-color: #3B4455;\n",
              "      fill: #D2E3FC;\n",
              "    }\n",
              "\n",
              "    [theme=dark] .colab-df-convert:hover {\n",
              "      background-color: #434B5C;\n",
              "      box-shadow: 0px 1px 3px 1px rgba(0, 0, 0, 0.15);\n",
              "      filter: drop-shadow(0px 1px 2px rgba(0, 0, 0, 0.3));\n",
              "      fill: #FFFFFF;\n",
              "    }\n",
              "  </style>\n",
              "\n",
              "      <script>\n",
              "        const buttonEl =\n",
              "          document.querySelector('#df-618c6fc3-44ca-48b1-b4df-c1d613ba76be button.colab-df-convert');\n",
              "        buttonEl.style.display =\n",
              "          google.colab.kernel.accessAllowed ? 'block' : 'none';\n",
              "\n",
              "        async function convertToInteractive(key) {\n",
              "          const element = document.querySelector('#df-618c6fc3-44ca-48b1-b4df-c1d613ba76be');\n",
              "          const dataTable =\n",
              "            await google.colab.kernel.invokeFunction('convertToInteractive',\n",
              "                                                     [key], {});\n",
              "          if (!dataTable) return;\n",
              "\n",
              "          const docLinkHtml = 'Like what you see? Visit the ' +\n",
              "            '<a target=\"_blank\" href=https://colab.research.google.com/notebooks/data_table.ipynb>data table notebook</a>'\n",
              "            + ' to learn more about interactive tables.';\n",
              "          element.innerHTML = '';\n",
              "          dataTable['output_type'] = 'display_data';\n",
              "          await google.colab.output.renderOutput(dataTable, element);\n",
              "          const docLink = document.createElement('div');\n",
              "          docLink.innerHTML = docLinkHtml;\n",
              "          element.appendChild(docLink);\n",
              "        }\n",
              "      </script>\n",
              "    </div>\n",
              "  </div>\n",
              "  "
            ]
          },
          "metadata": {},
          "execution_count": 50
        }
      ],
      "source": [
        "df8[df8.bath>df8.bhk+2]"
      ]
    },
    {
      "cell_type": "markdown",
      "id": "c27aeac3",
      "metadata": {
        "papermill": {
          "duration": 0.089809,
          "end_time": "2021-07-30T16:14:41.430324",
          "exception": false,
          "start_time": "2021-07-30T16:14:41.340515",
          "status": "completed"
        },
        "tags": [],
        "id": "c27aeac3"
      },
      "source": [
        "**AGAIN THE BUSINESS MANAGER HAS A CONVERSATION WITH YOU (I.E. A DATA SCIENTIST) THAT IF YOU HAVE A 4 BEDROOM HOME AND EVEN IF YOU HAVE A BATHROOM IN ALL 4 ROOMS PLUS ONE GUEST BATHROOM, YOU WILL HAVE A TOTAL BATH = TOTAL BED + 1 MAX. ANYTHING ABOVE THAT IS AN OUTLIER OR A DATA ERROR AND CAN BE REMOVED**"
      ]
    },
    {
      "cell_type": "code",
      "execution_count": 51,
      "id": "26de428e",
      "metadata": {
        "execution": {
          "iopub.execute_input": "2021-07-30T16:14:41.618335Z",
          "iopub.status.busy": "2021-07-30T16:14:41.616394Z",
          "iopub.status.idle": "2021-07-30T16:14:41.623315Z",
          "shell.execute_reply": "2021-07-30T16:14:41.622658Z",
          "shell.execute_reply.started": "2021-07-30T15:36:50.619714Z"
        },
        "papermill": {
          "duration": 0.102754,
          "end_time": "2021-07-30T16:14:41.623463",
          "exception": false,
          "start_time": "2021-07-30T16:14:41.520709",
          "status": "completed"
        },
        "tags": [],
        "id": "26de428e",
        "outputId": "289dc8a5-dee6-4e6c-8e2b-8ac8fd0fdd33",
        "colab": {
          "base_uri": "https://localhost:8080/"
        }
      },
      "outputs": [
        {
          "output_type": "execute_result",
          "data": {
            "text/plain": [
              "(7479, 7)"
            ]
          },
          "metadata": {},
          "execution_count": 51
        }
      ],
      "source": [
        "df9 = df8[df8.bath<df8.bhk+2]\n",
        "df9.shape"
      ]
    },
    {
      "cell_type": "code",
      "execution_count": 52,
      "id": "218a944c",
      "metadata": {
        "execution": {
          "iopub.execute_input": "2021-07-30T16:14:41.820818Z",
          "iopub.status.busy": "2021-07-30T16:14:41.815973Z",
          "iopub.status.idle": "2021-07-30T16:14:41.826077Z",
          "shell.execute_reply": "2021-07-30T16:14:41.825496Z",
          "shell.execute_reply.started": "2021-07-30T15:36:50.631965Z"
        },
        "papermill": {
          "duration": 0.111029,
          "end_time": "2021-07-30T16:14:41.826242",
          "exception": false,
          "start_time": "2021-07-30T16:14:41.715213",
          "status": "completed"
        },
        "tags": [],
        "id": "218a944c",
        "outputId": "85a397df-c832-4932-cfdd-c6c70ed12d46",
        "colab": {
          "base_uri": "https://localhost:8080/",
          "height": 112
        }
      },
      "outputs": [
        {
          "output_type": "execute_result",
          "data": {
            "text/plain": [
              "      location       size  total_sqft  bath   price  bhk  price_per_sqft\n",
              "0  Alandi Road      2 BHK      1056.0   2.0   39.07    2     3699.810606\n",
              "1  Alandi Road  4 Bedroom      2894.0   4.0  245.00    4     8465.791292"
            ],
            "text/html": [
              "\n",
              "  <div id=\"df-a7e367ef-11fc-4f77-a981-374abd6ff9e3\">\n",
              "    <div class=\"colab-df-container\">\n",
              "      <div>\n",
              "<style scoped>\n",
              "    .dataframe tbody tr th:only-of-type {\n",
              "        vertical-align: middle;\n",
              "    }\n",
              "\n",
              "    .dataframe tbody tr th {\n",
              "        vertical-align: top;\n",
              "    }\n",
              "\n",
              "    .dataframe thead th {\n",
              "        text-align: right;\n",
              "    }\n",
              "</style>\n",
              "<table border=\"1\" class=\"dataframe\">\n",
              "  <thead>\n",
              "    <tr style=\"text-align: right;\">\n",
              "      <th></th>\n",
              "      <th>location</th>\n",
              "      <th>size</th>\n",
              "      <th>total_sqft</th>\n",
              "      <th>bath</th>\n",
              "      <th>price</th>\n",
              "      <th>bhk</th>\n",
              "      <th>price_per_sqft</th>\n",
              "    </tr>\n",
              "  </thead>\n",
              "  <tbody>\n",
              "    <tr>\n",
              "      <th>0</th>\n",
              "      <td>Alandi Road</td>\n",
              "      <td>2 BHK</td>\n",
              "      <td>1056.0</td>\n",
              "      <td>2.0</td>\n",
              "      <td>39.07</td>\n",
              "      <td>2</td>\n",
              "      <td>3699.810606</td>\n",
              "    </tr>\n",
              "    <tr>\n",
              "      <th>1</th>\n",
              "      <td>Alandi Road</td>\n",
              "      <td>4 Bedroom</td>\n",
              "      <td>2894.0</td>\n",
              "      <td>4.0</td>\n",
              "      <td>245.00</td>\n",
              "      <td>4</td>\n",
              "      <td>8465.791292</td>\n",
              "    </tr>\n",
              "  </tbody>\n",
              "</table>\n",
              "</div>\n",
              "      <button class=\"colab-df-convert\" onclick=\"convertToInteractive('df-a7e367ef-11fc-4f77-a981-374abd6ff9e3')\"\n",
              "              title=\"Convert this dataframe to an interactive table.\"\n",
              "              style=\"display:none;\">\n",
              "        \n",
              "  <svg xmlns=\"http://www.w3.org/2000/svg\" height=\"24px\"viewBox=\"0 0 24 24\"\n",
              "       width=\"24px\">\n",
              "    <path d=\"M0 0h24v24H0V0z\" fill=\"none\"/>\n",
              "    <path d=\"M18.56 5.44l.94 2.06.94-2.06 2.06-.94-2.06-.94-.94-2.06-.94 2.06-2.06.94zm-11 1L8.5 8.5l.94-2.06 2.06-.94-2.06-.94L8.5 2.5l-.94 2.06-2.06.94zm10 10l.94 2.06.94-2.06 2.06-.94-2.06-.94-.94-2.06-.94 2.06-2.06.94z\"/><path d=\"M17.41 7.96l-1.37-1.37c-.4-.4-.92-.59-1.43-.59-.52 0-1.04.2-1.43.59L10.3 9.45l-7.72 7.72c-.78.78-.78 2.05 0 2.83L4 21.41c.39.39.9.59 1.41.59.51 0 1.02-.2 1.41-.59l7.78-7.78 2.81-2.81c.8-.78.8-2.07 0-2.86zM5.41 20L4 18.59l7.72-7.72 1.47 1.35L5.41 20z\"/>\n",
              "  </svg>\n",
              "      </button>\n",
              "      \n",
              "  <style>\n",
              "    .colab-df-container {\n",
              "      display:flex;\n",
              "      flex-wrap:wrap;\n",
              "      gap: 12px;\n",
              "    }\n",
              "\n",
              "    .colab-df-convert {\n",
              "      background-color: #E8F0FE;\n",
              "      border: none;\n",
              "      border-radius: 50%;\n",
              "      cursor: pointer;\n",
              "      display: none;\n",
              "      fill: #1967D2;\n",
              "      height: 32px;\n",
              "      padding: 0 0 0 0;\n",
              "      width: 32px;\n",
              "    }\n",
              "\n",
              "    .colab-df-convert:hover {\n",
              "      background-color: #E2EBFA;\n",
              "      box-shadow: 0px 1px 2px rgba(60, 64, 67, 0.3), 0px 1px 3px 1px rgba(60, 64, 67, 0.15);\n",
              "      fill: #174EA6;\n",
              "    }\n",
              "\n",
              "    [theme=dark] .colab-df-convert {\n",
              "      background-color: #3B4455;\n",
              "      fill: #D2E3FC;\n",
              "    }\n",
              "\n",
              "    [theme=dark] .colab-df-convert:hover {\n",
              "      background-color: #434B5C;\n",
              "      box-shadow: 0px 1px 3px 1px rgba(0, 0, 0, 0.15);\n",
              "      filter: drop-shadow(0px 1px 2px rgba(0, 0, 0, 0.3));\n",
              "      fill: #FFFFFF;\n",
              "    }\n",
              "  </style>\n",
              "\n",
              "      <script>\n",
              "        const buttonEl =\n",
              "          document.querySelector('#df-a7e367ef-11fc-4f77-a981-374abd6ff9e3 button.colab-df-convert');\n",
              "        buttonEl.style.display =\n",
              "          google.colab.kernel.accessAllowed ? 'block' : 'none';\n",
              "\n",
              "        async function convertToInteractive(key) {\n",
              "          const element = document.querySelector('#df-a7e367ef-11fc-4f77-a981-374abd6ff9e3');\n",
              "          const dataTable =\n",
              "            await google.colab.kernel.invokeFunction('convertToInteractive',\n",
              "                                                     [key], {});\n",
              "          if (!dataTable) return;\n",
              "\n",
              "          const docLinkHtml = 'Like what you see? Visit the ' +\n",
              "            '<a target=\"_blank\" href=https://colab.research.google.com/notebooks/data_table.ipynb>data table notebook</a>'\n",
              "            + ' to learn more about interactive tables.';\n",
              "          element.innerHTML = '';\n",
              "          dataTable['output_type'] = 'display_data';\n",
              "          await google.colab.output.renderOutput(dataTable, element);\n",
              "          const docLink = document.createElement('div');\n",
              "          docLink.innerHTML = docLinkHtml;\n",
              "          element.appendChild(docLink);\n",
              "        }\n",
              "      </script>\n",
              "    </div>\n",
              "  </div>\n",
              "  "
            ]
          },
          "metadata": {},
          "execution_count": 52
        }
      ],
      "source": [
        "df9.head(2)"
      ]
    },
    {
      "cell_type": "code",
      "execution_count": 53,
      "id": "b6409b2a",
      "metadata": {
        "execution": {
          "iopub.execute_input": "2021-07-30T16:14:42.027727Z",
          "iopub.status.busy": "2021-07-30T16:14:42.026950Z",
          "iopub.status.idle": "2021-07-30T16:14:42.031592Z",
          "shell.execute_reply": "2021-07-30T16:14:42.030944Z",
          "shell.execute_reply.started": "2021-07-30T15:36:50.653923Z"
        },
        "papermill": {
          "duration": 0.110889,
          "end_time": "2021-07-30T16:14:42.031741",
          "exception": false,
          "start_time": "2021-07-30T16:14:41.920852",
          "status": "completed"
        },
        "scrolled": true,
        "tags": [],
        "id": "b6409b2a",
        "outputId": "5ab633c8-6d06-4710-97d9-4cf025747319",
        "colab": {
          "base_uri": "https://localhost:8080/",
          "height": 143
        }
      },
      "outputs": [
        {
          "output_type": "execute_result",
          "data": {
            "text/plain": [
              "      location  total_sqft  bath   price  bhk\n",
              "0  Alandi Road      1056.0   2.0   39.07    2\n",
              "1  Alandi Road      2894.0   4.0  245.00    4\n",
              "2  Alandi Road      1084.0   2.0   50.00    2"
            ],
            "text/html": [
              "\n",
              "  <div id=\"df-e55f9dbf-7258-4c8a-ba49-e726fd5195a1\">\n",
              "    <div class=\"colab-df-container\">\n",
              "      <div>\n",
              "<style scoped>\n",
              "    .dataframe tbody tr th:only-of-type {\n",
              "        vertical-align: middle;\n",
              "    }\n",
              "\n",
              "    .dataframe tbody tr th {\n",
              "        vertical-align: top;\n",
              "    }\n",
              "\n",
              "    .dataframe thead th {\n",
              "        text-align: right;\n",
              "    }\n",
              "</style>\n",
              "<table border=\"1\" class=\"dataframe\">\n",
              "  <thead>\n",
              "    <tr style=\"text-align: right;\">\n",
              "      <th></th>\n",
              "      <th>location</th>\n",
              "      <th>total_sqft</th>\n",
              "      <th>bath</th>\n",
              "      <th>price</th>\n",
              "      <th>bhk</th>\n",
              "    </tr>\n",
              "  </thead>\n",
              "  <tbody>\n",
              "    <tr>\n",
              "      <th>0</th>\n",
              "      <td>Alandi Road</td>\n",
              "      <td>1056.0</td>\n",
              "      <td>2.0</td>\n",
              "      <td>39.07</td>\n",
              "      <td>2</td>\n",
              "    </tr>\n",
              "    <tr>\n",
              "      <th>1</th>\n",
              "      <td>Alandi Road</td>\n",
              "      <td>2894.0</td>\n",
              "      <td>4.0</td>\n",
              "      <td>245.00</td>\n",
              "      <td>4</td>\n",
              "    </tr>\n",
              "    <tr>\n",
              "      <th>2</th>\n",
              "      <td>Alandi Road</td>\n",
              "      <td>1084.0</td>\n",
              "      <td>2.0</td>\n",
              "      <td>50.00</td>\n",
              "      <td>2</td>\n",
              "    </tr>\n",
              "  </tbody>\n",
              "</table>\n",
              "</div>\n",
              "      <button class=\"colab-df-convert\" onclick=\"convertToInteractive('df-e55f9dbf-7258-4c8a-ba49-e726fd5195a1')\"\n",
              "              title=\"Convert this dataframe to an interactive table.\"\n",
              "              style=\"display:none;\">\n",
              "        \n",
              "  <svg xmlns=\"http://www.w3.org/2000/svg\" height=\"24px\"viewBox=\"0 0 24 24\"\n",
              "       width=\"24px\">\n",
              "    <path d=\"M0 0h24v24H0V0z\" fill=\"none\"/>\n",
              "    <path d=\"M18.56 5.44l.94 2.06.94-2.06 2.06-.94-2.06-.94-.94-2.06-.94 2.06-2.06.94zm-11 1L8.5 8.5l.94-2.06 2.06-.94-2.06-.94L8.5 2.5l-.94 2.06-2.06.94zm10 10l.94 2.06.94-2.06 2.06-.94-2.06-.94-.94-2.06-.94 2.06-2.06.94z\"/><path d=\"M17.41 7.96l-1.37-1.37c-.4-.4-.92-.59-1.43-.59-.52 0-1.04.2-1.43.59L10.3 9.45l-7.72 7.72c-.78.78-.78 2.05 0 2.83L4 21.41c.39.39.9.59 1.41.59.51 0 1.02-.2 1.41-.59l7.78-7.78 2.81-2.81c.8-.78.8-2.07 0-2.86zM5.41 20L4 18.59l7.72-7.72 1.47 1.35L5.41 20z\"/>\n",
              "  </svg>\n",
              "      </button>\n",
              "      \n",
              "  <style>\n",
              "    .colab-df-container {\n",
              "      display:flex;\n",
              "      flex-wrap:wrap;\n",
              "      gap: 12px;\n",
              "    }\n",
              "\n",
              "    .colab-df-convert {\n",
              "      background-color: #E8F0FE;\n",
              "      border: none;\n",
              "      border-radius: 50%;\n",
              "      cursor: pointer;\n",
              "      display: none;\n",
              "      fill: #1967D2;\n",
              "      height: 32px;\n",
              "      padding: 0 0 0 0;\n",
              "      width: 32px;\n",
              "    }\n",
              "\n",
              "    .colab-df-convert:hover {\n",
              "      background-color: #E2EBFA;\n",
              "      box-shadow: 0px 1px 2px rgba(60, 64, 67, 0.3), 0px 1px 3px 1px rgba(60, 64, 67, 0.15);\n",
              "      fill: #174EA6;\n",
              "    }\n",
              "\n",
              "    [theme=dark] .colab-df-convert {\n",
              "      background-color: #3B4455;\n",
              "      fill: #D2E3FC;\n",
              "    }\n",
              "\n",
              "    [theme=dark] .colab-df-convert:hover {\n",
              "      background-color: #434B5C;\n",
              "      box-shadow: 0px 1px 3px 1px rgba(0, 0, 0, 0.15);\n",
              "      filter: drop-shadow(0px 1px 2px rgba(0, 0, 0, 0.3));\n",
              "      fill: #FFFFFF;\n",
              "    }\n",
              "  </style>\n",
              "\n",
              "      <script>\n",
              "        const buttonEl =\n",
              "          document.querySelector('#df-e55f9dbf-7258-4c8a-ba49-e726fd5195a1 button.colab-df-convert');\n",
              "        buttonEl.style.display =\n",
              "          google.colab.kernel.accessAllowed ? 'block' : 'none';\n",
              "\n",
              "        async function convertToInteractive(key) {\n",
              "          const element = document.querySelector('#df-e55f9dbf-7258-4c8a-ba49-e726fd5195a1');\n",
              "          const dataTable =\n",
              "            await google.colab.kernel.invokeFunction('convertToInteractive',\n",
              "                                                     [key], {});\n",
              "          if (!dataTable) return;\n",
              "\n",
              "          const docLinkHtml = 'Like what you see? Visit the ' +\n",
              "            '<a target=\"_blank\" href=https://colab.research.google.com/notebooks/data_table.ipynb>data table notebook</a>'\n",
              "            + ' to learn more about interactive tables.';\n",
              "          element.innerHTML = '';\n",
              "          dataTable['output_type'] = 'display_data';\n",
              "          await google.colab.output.renderOutput(dataTable, element);\n",
              "          const docLink = document.createElement('div');\n",
              "          docLink.innerHTML = docLinkHtml;\n",
              "          element.appendChild(docLink);\n",
              "        }\n",
              "      </script>\n",
              "    </div>\n",
              "  </div>\n",
              "  "
            ]
          },
          "metadata": {},
          "execution_count": 53
        }
      ],
      "source": [
        "df10 = df9.drop(['size','price_per_sqft'],axis='columns')\n",
        "df10.head(3)"
      ]
    },
    {
      "cell_type": "markdown",
      "id": "50cc58f1",
      "metadata": {
        "papermill": {
          "duration": 0.091509,
          "end_time": "2021-07-30T16:14:42.216770",
          "exception": false,
          "start_time": "2021-07-30T16:14:42.125261",
          "status": "completed"
        },
        "tags": [],
        "id": "50cc58f1"
      },
      "source": [
        "### USE ONE HOT ENCODING FOR LOCATION"
      ]
    },
    {
      "cell_type": "code",
      "execution_count": 54,
      "id": "36065128",
      "metadata": {
        "execution": {
          "iopub.execute_input": "2021-07-30T16:14:42.411784Z",
          "iopub.status.busy": "2021-07-30T16:14:42.411116Z",
          "iopub.status.idle": "2021-07-30T16:14:42.431178Z",
          "shell.execute_reply": "2021-07-30T16:14:42.430649Z",
          "shell.execute_reply.started": "2021-07-30T15:36:50.674628Z"
        },
        "papermill": {
          "duration": 0.120823,
          "end_time": "2021-07-30T16:14:42.431316",
          "exception": false,
          "start_time": "2021-07-30T16:14:42.310493",
          "status": "completed"
        },
        "tags": [],
        "id": "36065128",
        "outputId": "f62ec3d2-dbe7-4f7d-fc0c-3df5ebc12bcc",
        "colab": {
          "base_uri": "https://localhost:8080/",
          "height": 254
        }
      },
      "outputs": [
        {
          "output_type": "execute_result",
          "data": {
            "text/plain": [
              "   Alandi Road  Ambegaon Budruk  Anandnagar  Aundh  Aundh Road  Balaji Nagar  \\\n",
              "0            1                0           0      0           0             0   \n",
              "1            1                0           0      0           0             0   \n",
              "2            1                0           0      0           0             0   \n",
              "\n",
              "   Baner  Baner road  Bhandarkar Road  Bhavani Peth  ...  Uruli Devachi  \\\n",
              "0      0           0                0             0  ...              0   \n",
              "1      0           0                0             0  ...              0   \n",
              "2      0           0                0             0  ...              0   \n",
              "\n",
              "   Vadgaon Budruk  Viman Nagar  Vishrant Wadi  Wadgaon Sheri  Wagholi  \\\n",
              "0               0            0              0              0        0   \n",
              "1               0            0              0              0        0   \n",
              "2               0            0              0              0        0   \n",
              "\n",
              "   Wakadewadi  Wanowrie  Warje  Yerawada  \n",
              "0           0         0      0         0  \n",
              "1           0         0      0         0  \n",
              "2           0         0      0         0  \n",
              "\n",
              "[3 rows x 96 columns]"
            ],
            "text/html": [
              "\n",
              "  <div id=\"df-0ffd758c-32e9-4bb9-aed6-b9507b6314e4\">\n",
              "    <div class=\"colab-df-container\">\n",
              "      <div>\n",
              "<style scoped>\n",
              "    .dataframe tbody tr th:only-of-type {\n",
              "        vertical-align: middle;\n",
              "    }\n",
              "\n",
              "    .dataframe tbody tr th {\n",
              "        vertical-align: top;\n",
              "    }\n",
              "\n",
              "    .dataframe thead th {\n",
              "        text-align: right;\n",
              "    }\n",
              "</style>\n",
              "<table border=\"1\" class=\"dataframe\">\n",
              "  <thead>\n",
              "    <tr style=\"text-align: right;\">\n",
              "      <th></th>\n",
              "      <th>Alandi Road</th>\n",
              "      <th>Ambegaon Budruk</th>\n",
              "      <th>Anandnagar</th>\n",
              "      <th>Aundh</th>\n",
              "      <th>Aundh Road</th>\n",
              "      <th>Balaji Nagar</th>\n",
              "      <th>Baner</th>\n",
              "      <th>Baner road</th>\n",
              "      <th>Bhandarkar Road</th>\n",
              "      <th>Bhavani Peth</th>\n",
              "      <th>...</th>\n",
              "      <th>Uruli Devachi</th>\n",
              "      <th>Vadgaon Budruk</th>\n",
              "      <th>Viman Nagar</th>\n",
              "      <th>Vishrant Wadi</th>\n",
              "      <th>Wadgaon Sheri</th>\n",
              "      <th>Wagholi</th>\n",
              "      <th>Wakadewadi</th>\n",
              "      <th>Wanowrie</th>\n",
              "      <th>Warje</th>\n",
              "      <th>Yerawada</th>\n",
              "    </tr>\n",
              "  </thead>\n",
              "  <tbody>\n",
              "    <tr>\n",
              "      <th>0</th>\n",
              "      <td>1</td>\n",
              "      <td>0</td>\n",
              "      <td>0</td>\n",
              "      <td>0</td>\n",
              "      <td>0</td>\n",
              "      <td>0</td>\n",
              "      <td>0</td>\n",
              "      <td>0</td>\n",
              "      <td>0</td>\n",
              "      <td>0</td>\n",
              "      <td>...</td>\n",
              "      <td>0</td>\n",
              "      <td>0</td>\n",
              "      <td>0</td>\n",
              "      <td>0</td>\n",
              "      <td>0</td>\n",
              "      <td>0</td>\n",
              "      <td>0</td>\n",
              "      <td>0</td>\n",
              "      <td>0</td>\n",
              "      <td>0</td>\n",
              "    </tr>\n",
              "    <tr>\n",
              "      <th>1</th>\n",
              "      <td>1</td>\n",
              "      <td>0</td>\n",
              "      <td>0</td>\n",
              "      <td>0</td>\n",
              "      <td>0</td>\n",
              "      <td>0</td>\n",
              "      <td>0</td>\n",
              "      <td>0</td>\n",
              "      <td>0</td>\n",
              "      <td>0</td>\n",
              "      <td>...</td>\n",
              "      <td>0</td>\n",
              "      <td>0</td>\n",
              "      <td>0</td>\n",
              "      <td>0</td>\n",
              "      <td>0</td>\n",
              "      <td>0</td>\n",
              "      <td>0</td>\n",
              "      <td>0</td>\n",
              "      <td>0</td>\n",
              "      <td>0</td>\n",
              "    </tr>\n",
              "    <tr>\n",
              "      <th>2</th>\n",
              "      <td>1</td>\n",
              "      <td>0</td>\n",
              "      <td>0</td>\n",
              "      <td>0</td>\n",
              "      <td>0</td>\n",
              "      <td>0</td>\n",
              "      <td>0</td>\n",
              "      <td>0</td>\n",
              "      <td>0</td>\n",
              "      <td>0</td>\n",
              "      <td>...</td>\n",
              "      <td>0</td>\n",
              "      <td>0</td>\n",
              "      <td>0</td>\n",
              "      <td>0</td>\n",
              "      <td>0</td>\n",
              "      <td>0</td>\n",
              "      <td>0</td>\n",
              "      <td>0</td>\n",
              "      <td>0</td>\n",
              "      <td>0</td>\n",
              "    </tr>\n",
              "  </tbody>\n",
              "</table>\n",
              "<p>3 rows × 96 columns</p>\n",
              "</div>\n",
              "      <button class=\"colab-df-convert\" onclick=\"convertToInteractive('df-0ffd758c-32e9-4bb9-aed6-b9507b6314e4')\"\n",
              "              title=\"Convert this dataframe to an interactive table.\"\n",
              "              style=\"display:none;\">\n",
              "        \n",
              "  <svg xmlns=\"http://www.w3.org/2000/svg\" height=\"24px\"viewBox=\"0 0 24 24\"\n",
              "       width=\"24px\">\n",
              "    <path d=\"M0 0h24v24H0V0z\" fill=\"none\"/>\n",
              "    <path d=\"M18.56 5.44l.94 2.06.94-2.06 2.06-.94-2.06-.94-.94-2.06-.94 2.06-2.06.94zm-11 1L8.5 8.5l.94-2.06 2.06-.94-2.06-.94L8.5 2.5l-.94 2.06-2.06.94zm10 10l.94 2.06.94-2.06 2.06-.94-2.06-.94-.94-2.06-.94 2.06-2.06.94z\"/><path d=\"M17.41 7.96l-1.37-1.37c-.4-.4-.92-.59-1.43-.59-.52 0-1.04.2-1.43.59L10.3 9.45l-7.72 7.72c-.78.78-.78 2.05 0 2.83L4 21.41c.39.39.9.59 1.41.59.51 0 1.02-.2 1.41-.59l7.78-7.78 2.81-2.81c.8-.78.8-2.07 0-2.86zM5.41 20L4 18.59l7.72-7.72 1.47 1.35L5.41 20z\"/>\n",
              "  </svg>\n",
              "      </button>\n",
              "      \n",
              "  <style>\n",
              "    .colab-df-container {\n",
              "      display:flex;\n",
              "      flex-wrap:wrap;\n",
              "      gap: 12px;\n",
              "    }\n",
              "\n",
              "    .colab-df-convert {\n",
              "      background-color: #E8F0FE;\n",
              "      border: none;\n",
              "      border-radius: 50%;\n",
              "      cursor: pointer;\n",
              "      display: none;\n",
              "      fill: #1967D2;\n",
              "      height: 32px;\n",
              "      padding: 0 0 0 0;\n",
              "      width: 32px;\n",
              "    }\n",
              "\n",
              "    .colab-df-convert:hover {\n",
              "      background-color: #E2EBFA;\n",
              "      box-shadow: 0px 1px 2px rgba(60, 64, 67, 0.3), 0px 1px 3px 1px rgba(60, 64, 67, 0.15);\n",
              "      fill: #174EA6;\n",
              "    }\n",
              "\n",
              "    [theme=dark] .colab-df-convert {\n",
              "      background-color: #3B4455;\n",
              "      fill: #D2E3FC;\n",
              "    }\n",
              "\n",
              "    [theme=dark] .colab-df-convert:hover {\n",
              "      background-color: #434B5C;\n",
              "      box-shadow: 0px 1px 3px 1px rgba(0, 0, 0, 0.15);\n",
              "      filter: drop-shadow(0px 1px 2px rgba(0, 0, 0, 0.3));\n",
              "      fill: #FFFFFF;\n",
              "    }\n",
              "  </style>\n",
              "\n",
              "      <script>\n",
              "        const buttonEl =\n",
              "          document.querySelector('#df-0ffd758c-32e9-4bb9-aed6-b9507b6314e4 button.colab-df-convert');\n",
              "        buttonEl.style.display =\n",
              "          google.colab.kernel.accessAllowed ? 'block' : 'none';\n",
              "\n",
              "        async function convertToInteractive(key) {\n",
              "          const element = document.querySelector('#df-0ffd758c-32e9-4bb9-aed6-b9507b6314e4');\n",
              "          const dataTable =\n",
              "            await google.colab.kernel.invokeFunction('convertToInteractive',\n",
              "                                                     [key], {});\n",
              "          if (!dataTable) return;\n",
              "\n",
              "          const docLinkHtml = 'Like what you see? Visit the ' +\n",
              "            '<a target=\"_blank\" href=https://colab.research.google.com/notebooks/data_table.ipynb>data table notebook</a>'\n",
              "            + ' to learn more about interactive tables.';\n",
              "          element.innerHTML = '';\n",
              "          dataTable['output_type'] = 'display_data';\n",
              "          await google.colab.output.renderOutput(dataTable, element);\n",
              "          const docLink = document.createElement('div');\n",
              "          docLink.innerHTML = docLinkHtml;\n",
              "          element.appendChild(docLink);\n",
              "        }\n",
              "      </script>\n",
              "    </div>\n",
              "  </div>\n",
              "  "
            ]
          },
          "metadata": {},
          "execution_count": 54
        }
      ],
      "source": [
        "dummies = pd.get_dummies(df10.location)\n",
        "dummies.head(3)"
      ]
    },
    {
      "cell_type": "code",
      "execution_count": 57,
      "id": "f9685adb",
      "metadata": {
        "execution": {
          "iopub.execute_input": "2021-07-30T16:14:42.623747Z",
          "iopub.status.busy": "2021-07-30T16:14:42.622818Z",
          "iopub.status.idle": "2021-07-30T16:14:42.658526Z",
          "shell.execute_reply": "2021-07-30T16:14:42.657987Z",
          "shell.execute_reply.started": "2021-07-30T15:36:50.703833Z"
        },
        "papermill": {
          "duration": 0.134954,
          "end_time": "2021-07-30T16:14:42.658681",
          "exception": false,
          "start_time": "2021-07-30T16:14:42.523727",
          "status": "completed"
        },
        "tags": [],
        "id": "f9685adb",
        "outputId": "30a132f6-3800-4491-b29c-1c2a23c58bb4",
        "colab": {
          "base_uri": "https://localhost:8080/",
          "height": 403
        }
      },
      "outputs": [
        {
          "output_type": "execute_result",
          "data": {
            "text/plain": [
              "      location  total_sqft  bath   price  bhk  Alandi Road  Ambegaon Budruk  \\\n",
              "0  Alandi Road      1056.0   2.0   39.07    2            1                0   \n",
              "1  Alandi Road      2894.0   4.0  245.00    4            1                0   \n",
              "2  Alandi Road      1084.0   2.0   50.00    2            1                0   \n",
              "3  Alandi Road      1230.0   2.0   80.00    2            1                0   \n",
              "4  Alandi Road      1750.0   3.0  130.00    3            1                0   \n",
              "\n",
              "   Anandnagar  Aundh  Aundh Road  ...  Uruli Devachi  Vadgaon Budruk  \\\n",
              "0           0      0           0  ...              0               0   \n",
              "1           0      0           0  ...              0               0   \n",
              "2           0      0           0  ...              0               0   \n",
              "3           0      0           0  ...              0               0   \n",
              "4           0      0           0  ...              0               0   \n",
              "\n",
              "   Viman Nagar  Vishrant Wadi  Wadgaon Sheri  Wagholi  Wakadewadi  Wanowrie  \\\n",
              "0            0              0              0        0           0         0   \n",
              "1            0              0              0        0           0         0   \n",
              "2            0              0              0        0           0         0   \n",
              "3            0              0              0        0           0         0   \n",
              "4            0              0              0        0           0         0   \n",
              "\n",
              "   Warje  Yerawada  \n",
              "0      0         0  \n",
              "1      0         0  \n",
              "2      0         0  \n",
              "3      0         0  \n",
              "4      0         0  \n",
              "\n",
              "[5 rows x 100 columns]"
            ],
            "text/html": [
              "\n",
              "  <div id=\"df-d41ad877-0f19-4f25-a173-3de3f2fb99a5\">\n",
              "    <div class=\"colab-df-container\">\n",
              "      <div>\n",
              "<style scoped>\n",
              "    .dataframe tbody tr th:only-of-type {\n",
              "        vertical-align: middle;\n",
              "    }\n",
              "\n",
              "    .dataframe tbody tr th {\n",
              "        vertical-align: top;\n",
              "    }\n",
              "\n",
              "    .dataframe thead th {\n",
              "        text-align: right;\n",
              "    }\n",
              "</style>\n",
              "<table border=\"1\" class=\"dataframe\">\n",
              "  <thead>\n",
              "    <tr style=\"text-align: right;\">\n",
              "      <th></th>\n",
              "      <th>location</th>\n",
              "      <th>total_sqft</th>\n",
              "      <th>bath</th>\n",
              "      <th>price</th>\n",
              "      <th>bhk</th>\n",
              "      <th>Alandi Road</th>\n",
              "      <th>Ambegaon Budruk</th>\n",
              "      <th>Anandnagar</th>\n",
              "      <th>Aundh</th>\n",
              "      <th>Aundh Road</th>\n",
              "      <th>...</th>\n",
              "      <th>Uruli Devachi</th>\n",
              "      <th>Vadgaon Budruk</th>\n",
              "      <th>Viman Nagar</th>\n",
              "      <th>Vishrant Wadi</th>\n",
              "      <th>Wadgaon Sheri</th>\n",
              "      <th>Wagholi</th>\n",
              "      <th>Wakadewadi</th>\n",
              "      <th>Wanowrie</th>\n",
              "      <th>Warje</th>\n",
              "      <th>Yerawada</th>\n",
              "    </tr>\n",
              "  </thead>\n",
              "  <tbody>\n",
              "    <tr>\n",
              "      <th>0</th>\n",
              "      <td>Alandi Road</td>\n",
              "      <td>1056.0</td>\n",
              "      <td>2.0</td>\n",
              "      <td>39.07</td>\n",
              "      <td>2</td>\n",
              "      <td>1</td>\n",
              "      <td>0</td>\n",
              "      <td>0</td>\n",
              "      <td>0</td>\n",
              "      <td>0</td>\n",
              "      <td>...</td>\n",
              "      <td>0</td>\n",
              "      <td>0</td>\n",
              "      <td>0</td>\n",
              "      <td>0</td>\n",
              "      <td>0</td>\n",
              "      <td>0</td>\n",
              "      <td>0</td>\n",
              "      <td>0</td>\n",
              "      <td>0</td>\n",
              "      <td>0</td>\n",
              "    </tr>\n",
              "    <tr>\n",
              "      <th>1</th>\n",
              "      <td>Alandi Road</td>\n",
              "      <td>2894.0</td>\n",
              "      <td>4.0</td>\n",
              "      <td>245.00</td>\n",
              "      <td>4</td>\n",
              "      <td>1</td>\n",
              "      <td>0</td>\n",
              "      <td>0</td>\n",
              "      <td>0</td>\n",
              "      <td>0</td>\n",
              "      <td>...</td>\n",
              "      <td>0</td>\n",
              "      <td>0</td>\n",
              "      <td>0</td>\n",
              "      <td>0</td>\n",
              "      <td>0</td>\n",
              "      <td>0</td>\n",
              "      <td>0</td>\n",
              "      <td>0</td>\n",
              "      <td>0</td>\n",
              "      <td>0</td>\n",
              "    </tr>\n",
              "    <tr>\n",
              "      <th>2</th>\n",
              "      <td>Alandi Road</td>\n",
              "      <td>1084.0</td>\n",
              "      <td>2.0</td>\n",
              "      <td>50.00</td>\n",
              "      <td>2</td>\n",
              "      <td>1</td>\n",
              "      <td>0</td>\n",
              "      <td>0</td>\n",
              "      <td>0</td>\n",
              "      <td>0</td>\n",
              "      <td>...</td>\n",
              "      <td>0</td>\n",
              "      <td>0</td>\n",
              "      <td>0</td>\n",
              "      <td>0</td>\n",
              "      <td>0</td>\n",
              "      <td>0</td>\n",
              "      <td>0</td>\n",
              "      <td>0</td>\n",
              "      <td>0</td>\n",
              "      <td>0</td>\n",
              "    </tr>\n",
              "    <tr>\n",
              "      <th>3</th>\n",
              "      <td>Alandi Road</td>\n",
              "      <td>1230.0</td>\n",
              "      <td>2.0</td>\n",
              "      <td>80.00</td>\n",
              "      <td>2</td>\n",
              "      <td>1</td>\n",
              "      <td>0</td>\n",
              "      <td>0</td>\n",
              "      <td>0</td>\n",
              "      <td>0</td>\n",
              "      <td>...</td>\n",
              "      <td>0</td>\n",
              "      <td>0</td>\n",
              "      <td>0</td>\n",
              "      <td>0</td>\n",
              "      <td>0</td>\n",
              "      <td>0</td>\n",
              "      <td>0</td>\n",
              "      <td>0</td>\n",
              "      <td>0</td>\n",
              "      <td>0</td>\n",
              "    </tr>\n",
              "    <tr>\n",
              "      <th>4</th>\n",
              "      <td>Alandi Road</td>\n",
              "      <td>1750.0</td>\n",
              "      <td>3.0</td>\n",
              "      <td>130.00</td>\n",
              "      <td>3</td>\n",
              "      <td>1</td>\n",
              "      <td>0</td>\n",
              "      <td>0</td>\n",
              "      <td>0</td>\n",
              "      <td>0</td>\n",
              "      <td>...</td>\n",
              "      <td>0</td>\n",
              "      <td>0</td>\n",
              "      <td>0</td>\n",
              "      <td>0</td>\n",
              "      <td>0</td>\n",
              "      <td>0</td>\n",
              "      <td>0</td>\n",
              "      <td>0</td>\n",
              "      <td>0</td>\n",
              "      <td>0</td>\n",
              "    </tr>\n",
              "  </tbody>\n",
              "</table>\n",
              "<p>5 rows × 100 columns</p>\n",
              "</div>\n",
              "      <button class=\"colab-df-convert\" onclick=\"convertToInteractive('df-d41ad877-0f19-4f25-a173-3de3f2fb99a5')\"\n",
              "              title=\"Convert this dataframe to an interactive table.\"\n",
              "              style=\"display:none;\">\n",
              "        \n",
              "  <svg xmlns=\"http://www.w3.org/2000/svg\" height=\"24px\"viewBox=\"0 0 24 24\"\n",
              "       width=\"24px\">\n",
              "    <path d=\"M0 0h24v24H0V0z\" fill=\"none\"/>\n",
              "    <path d=\"M18.56 5.44l.94 2.06.94-2.06 2.06-.94-2.06-.94-.94-2.06-.94 2.06-2.06.94zm-11 1L8.5 8.5l.94-2.06 2.06-.94-2.06-.94L8.5 2.5l-.94 2.06-2.06.94zm10 10l.94 2.06.94-2.06 2.06-.94-2.06-.94-.94-2.06-.94 2.06-2.06.94z\"/><path d=\"M17.41 7.96l-1.37-1.37c-.4-.4-.92-.59-1.43-.59-.52 0-1.04.2-1.43.59L10.3 9.45l-7.72 7.72c-.78.78-.78 2.05 0 2.83L4 21.41c.39.39.9.59 1.41.59.51 0 1.02-.2 1.41-.59l7.78-7.78 2.81-2.81c.8-.78.8-2.07 0-2.86zM5.41 20L4 18.59l7.72-7.72 1.47 1.35L5.41 20z\"/>\n",
              "  </svg>\n",
              "      </button>\n",
              "      \n",
              "  <style>\n",
              "    .colab-df-container {\n",
              "      display:flex;\n",
              "      flex-wrap:wrap;\n",
              "      gap: 12px;\n",
              "    }\n",
              "\n",
              "    .colab-df-convert {\n",
              "      background-color: #E8F0FE;\n",
              "      border: none;\n",
              "      border-radius: 50%;\n",
              "      cursor: pointer;\n",
              "      display: none;\n",
              "      fill: #1967D2;\n",
              "      height: 32px;\n",
              "      padding: 0 0 0 0;\n",
              "      width: 32px;\n",
              "    }\n",
              "\n",
              "    .colab-df-convert:hover {\n",
              "      background-color: #E2EBFA;\n",
              "      box-shadow: 0px 1px 2px rgba(60, 64, 67, 0.3), 0px 1px 3px 1px rgba(60, 64, 67, 0.15);\n",
              "      fill: #174EA6;\n",
              "    }\n",
              "\n",
              "    [theme=dark] .colab-df-convert {\n",
              "      background-color: #3B4455;\n",
              "      fill: #D2E3FC;\n",
              "    }\n",
              "\n",
              "    [theme=dark] .colab-df-convert:hover {\n",
              "      background-color: #434B5C;\n",
              "      box-shadow: 0px 1px 3px 1px rgba(0, 0, 0, 0.15);\n",
              "      filter: drop-shadow(0px 1px 2px rgba(0, 0, 0, 0.3));\n",
              "      fill: #FFFFFF;\n",
              "    }\n",
              "  </style>\n",
              "\n",
              "      <script>\n",
              "        const buttonEl =\n",
              "          document.querySelector('#df-d41ad877-0f19-4f25-a173-3de3f2fb99a5 button.colab-df-convert');\n",
              "        buttonEl.style.display =\n",
              "          google.colab.kernel.accessAllowed ? 'block' : 'none';\n",
              "\n",
              "        async function convertToInteractive(key) {\n",
              "          const element = document.querySelector('#df-d41ad877-0f19-4f25-a173-3de3f2fb99a5');\n",
              "          const dataTable =\n",
              "            await google.colab.kernel.invokeFunction('convertToInteractive',\n",
              "                                                     [key], {});\n",
              "          if (!dataTable) return;\n",
              "\n",
              "          const docLinkHtml = 'Like what you see? Visit the ' +\n",
              "            '<a target=\"_blank\" href=https://colab.research.google.com/notebooks/data_table.ipynb>data table notebook</a>'\n",
              "            + ' to learn more about interactive tables.';\n",
              "          element.innerHTML = '';\n",
              "          dataTable['output_type'] = 'display_data';\n",
              "          await google.colab.output.renderOutput(dataTable, element);\n",
              "          const docLink = document.createElement('div');\n",
              "          docLink.innerHTML = docLinkHtml;\n",
              "          element.appendChild(docLink);\n",
              "        }\n",
              "      </script>\n",
              "    </div>\n",
              "  </div>\n",
              "  "
            ]
          },
          "metadata": {},
          "execution_count": 57
        }
      ],
      "source": [
        "df11 = pd.concat([df10,dummies.drop('Mukund Nagar',axis='columns')],axis='columns')\n",
        "df11.head()"
      ]
    },
    {
      "cell_type": "code",
      "execution_count": 58,
      "id": "60188e0b",
      "metadata": {
        "execution": {
          "iopub.execute_input": "2021-07-30T16:14:42.853653Z",
          "iopub.status.busy": "2021-07-30T16:14:42.852955Z",
          "iopub.status.idle": "2021-07-30T16:14:42.874015Z",
          "shell.execute_reply": "2021-07-30T16:14:42.873333Z",
          "shell.execute_reply.started": "2021-07-30T15:36:50.746836Z"
        },
        "papermill": {
          "duration": 0.121654,
          "end_time": "2021-07-30T16:14:42.874157",
          "exception": false,
          "start_time": "2021-07-30T16:14:42.752503",
          "status": "completed"
        },
        "tags": [],
        "id": "60188e0b",
        "outputId": "f32e2010-2d34-4590-fd8e-c93bf4433ac5",
        "colab": {
          "base_uri": "https://localhost:8080/",
          "height": 222
        }
      },
      "outputs": [
        {
          "output_type": "execute_result",
          "data": {
            "text/plain": [
              "   total_sqft  bath   price  bhk  Alandi Road  Ambegaon Budruk  Anandnagar  \\\n",
              "0      1056.0   2.0   39.07    2            1                0           0   \n",
              "1      2894.0   4.0  245.00    4            1                0           0   \n",
              "\n",
              "   Aundh  Aundh Road  Balaji Nagar  ...  Uruli Devachi  Vadgaon Budruk  \\\n",
              "0      0           0             0  ...              0               0   \n",
              "1      0           0             0  ...              0               0   \n",
              "\n",
              "   Viman Nagar  Vishrant Wadi  Wadgaon Sheri  Wagholi  Wakadewadi  Wanowrie  \\\n",
              "0            0              0              0        0           0         0   \n",
              "1            0              0              0        0           0         0   \n",
              "\n",
              "   Warje  Yerawada  \n",
              "0      0         0  \n",
              "1      0         0  \n",
              "\n",
              "[2 rows x 99 columns]"
            ],
            "text/html": [
              "\n",
              "  <div id=\"df-50f1487e-38fd-408b-8ebf-875f137fc53a\">\n",
              "    <div class=\"colab-df-container\">\n",
              "      <div>\n",
              "<style scoped>\n",
              "    .dataframe tbody tr th:only-of-type {\n",
              "        vertical-align: middle;\n",
              "    }\n",
              "\n",
              "    .dataframe tbody tr th {\n",
              "        vertical-align: top;\n",
              "    }\n",
              "\n",
              "    .dataframe thead th {\n",
              "        text-align: right;\n",
              "    }\n",
              "</style>\n",
              "<table border=\"1\" class=\"dataframe\">\n",
              "  <thead>\n",
              "    <tr style=\"text-align: right;\">\n",
              "      <th></th>\n",
              "      <th>total_sqft</th>\n",
              "      <th>bath</th>\n",
              "      <th>price</th>\n",
              "      <th>bhk</th>\n",
              "      <th>Alandi Road</th>\n",
              "      <th>Ambegaon Budruk</th>\n",
              "      <th>Anandnagar</th>\n",
              "      <th>Aundh</th>\n",
              "      <th>Aundh Road</th>\n",
              "      <th>Balaji Nagar</th>\n",
              "      <th>...</th>\n",
              "      <th>Uruli Devachi</th>\n",
              "      <th>Vadgaon Budruk</th>\n",
              "      <th>Viman Nagar</th>\n",
              "      <th>Vishrant Wadi</th>\n",
              "      <th>Wadgaon Sheri</th>\n",
              "      <th>Wagholi</th>\n",
              "      <th>Wakadewadi</th>\n",
              "      <th>Wanowrie</th>\n",
              "      <th>Warje</th>\n",
              "      <th>Yerawada</th>\n",
              "    </tr>\n",
              "  </thead>\n",
              "  <tbody>\n",
              "    <tr>\n",
              "      <th>0</th>\n",
              "      <td>1056.0</td>\n",
              "      <td>2.0</td>\n",
              "      <td>39.07</td>\n",
              "      <td>2</td>\n",
              "      <td>1</td>\n",
              "      <td>0</td>\n",
              "      <td>0</td>\n",
              "      <td>0</td>\n",
              "      <td>0</td>\n",
              "      <td>0</td>\n",
              "      <td>...</td>\n",
              "      <td>0</td>\n",
              "      <td>0</td>\n",
              "      <td>0</td>\n",
              "      <td>0</td>\n",
              "      <td>0</td>\n",
              "      <td>0</td>\n",
              "      <td>0</td>\n",
              "      <td>0</td>\n",
              "      <td>0</td>\n",
              "      <td>0</td>\n",
              "    </tr>\n",
              "    <tr>\n",
              "      <th>1</th>\n",
              "      <td>2894.0</td>\n",
              "      <td>4.0</td>\n",
              "      <td>245.00</td>\n",
              "      <td>4</td>\n",
              "      <td>1</td>\n",
              "      <td>0</td>\n",
              "      <td>0</td>\n",
              "      <td>0</td>\n",
              "      <td>0</td>\n",
              "      <td>0</td>\n",
              "      <td>...</td>\n",
              "      <td>0</td>\n",
              "      <td>0</td>\n",
              "      <td>0</td>\n",
              "      <td>0</td>\n",
              "      <td>0</td>\n",
              "      <td>0</td>\n",
              "      <td>0</td>\n",
              "      <td>0</td>\n",
              "      <td>0</td>\n",
              "      <td>0</td>\n",
              "    </tr>\n",
              "  </tbody>\n",
              "</table>\n",
              "<p>2 rows × 99 columns</p>\n",
              "</div>\n",
              "      <button class=\"colab-df-convert\" onclick=\"convertToInteractive('df-50f1487e-38fd-408b-8ebf-875f137fc53a')\"\n",
              "              title=\"Convert this dataframe to an interactive table.\"\n",
              "              style=\"display:none;\">\n",
              "        \n",
              "  <svg xmlns=\"http://www.w3.org/2000/svg\" height=\"24px\"viewBox=\"0 0 24 24\"\n",
              "       width=\"24px\">\n",
              "    <path d=\"M0 0h24v24H0V0z\" fill=\"none\"/>\n",
              "    <path d=\"M18.56 5.44l.94 2.06.94-2.06 2.06-.94-2.06-.94-.94-2.06-.94 2.06-2.06.94zm-11 1L8.5 8.5l.94-2.06 2.06-.94-2.06-.94L8.5 2.5l-.94 2.06-2.06.94zm10 10l.94 2.06.94-2.06 2.06-.94-2.06-.94-.94-2.06-.94 2.06-2.06.94z\"/><path d=\"M17.41 7.96l-1.37-1.37c-.4-.4-.92-.59-1.43-.59-.52 0-1.04.2-1.43.59L10.3 9.45l-7.72 7.72c-.78.78-.78 2.05 0 2.83L4 21.41c.39.39.9.59 1.41.59.51 0 1.02-.2 1.41-.59l7.78-7.78 2.81-2.81c.8-.78.8-2.07 0-2.86zM5.41 20L4 18.59l7.72-7.72 1.47 1.35L5.41 20z\"/>\n",
              "  </svg>\n",
              "      </button>\n",
              "      \n",
              "  <style>\n",
              "    .colab-df-container {\n",
              "      display:flex;\n",
              "      flex-wrap:wrap;\n",
              "      gap: 12px;\n",
              "    }\n",
              "\n",
              "    .colab-df-convert {\n",
              "      background-color: #E8F0FE;\n",
              "      border: none;\n",
              "      border-radius: 50%;\n",
              "      cursor: pointer;\n",
              "      display: none;\n",
              "      fill: #1967D2;\n",
              "      height: 32px;\n",
              "      padding: 0 0 0 0;\n",
              "      width: 32px;\n",
              "    }\n",
              "\n",
              "    .colab-df-convert:hover {\n",
              "      background-color: #E2EBFA;\n",
              "      box-shadow: 0px 1px 2px rgba(60, 64, 67, 0.3), 0px 1px 3px 1px rgba(60, 64, 67, 0.15);\n",
              "      fill: #174EA6;\n",
              "    }\n",
              "\n",
              "    [theme=dark] .colab-df-convert {\n",
              "      background-color: #3B4455;\n",
              "      fill: #D2E3FC;\n",
              "    }\n",
              "\n",
              "    [theme=dark] .colab-df-convert:hover {\n",
              "      background-color: #434B5C;\n",
              "      box-shadow: 0px 1px 3px 1px rgba(0, 0, 0, 0.15);\n",
              "      filter: drop-shadow(0px 1px 2px rgba(0, 0, 0, 0.3));\n",
              "      fill: #FFFFFF;\n",
              "    }\n",
              "  </style>\n",
              "\n",
              "      <script>\n",
              "        const buttonEl =\n",
              "          document.querySelector('#df-50f1487e-38fd-408b-8ebf-875f137fc53a button.colab-df-convert');\n",
              "        buttonEl.style.display =\n",
              "          google.colab.kernel.accessAllowed ? 'block' : 'none';\n",
              "\n",
              "        async function convertToInteractive(key) {\n",
              "          const element = document.querySelector('#df-50f1487e-38fd-408b-8ebf-875f137fc53a');\n",
              "          const dataTable =\n",
              "            await google.colab.kernel.invokeFunction('convertToInteractive',\n",
              "                                                     [key], {});\n",
              "          if (!dataTable) return;\n",
              "\n",
              "          const docLinkHtml = 'Like what you see? Visit the ' +\n",
              "            '<a target=\"_blank\" href=https://colab.research.google.com/notebooks/data_table.ipynb>data table notebook</a>'\n",
              "            + ' to learn more about interactive tables.';\n",
              "          element.innerHTML = '';\n",
              "          dataTable['output_type'] = 'display_data';\n",
              "          await google.colab.output.renderOutput(dataTable, element);\n",
              "          const docLink = document.createElement('div');\n",
              "          docLink.innerHTML = docLinkHtml;\n",
              "          element.appendChild(docLink);\n",
              "        }\n",
              "      </script>\n",
              "    </div>\n",
              "  </div>\n",
              "  "
            ]
          },
          "metadata": {},
          "execution_count": 58
        }
      ],
      "source": [
        "df12 = df11.drop('location',axis='columns')\n",
        "df12.head(2)"
      ]
    },
    {
      "cell_type": "markdown",
      "id": "e6a1f67a",
      "metadata": {
        "papermill": {
          "duration": 0.094048,
          "end_time": "2021-07-30T16:14:43.063127",
          "exception": false,
          "start_time": "2021-07-30T16:14:42.969079",
          "status": "completed"
        },
        "tags": [],
        "id": "e6a1f67a"
      },
      "source": [
        "### BUILDING A MODEL"
      ]
    },
    {
      "cell_type": "code",
      "execution_count": 59,
      "id": "3265c421",
      "metadata": {
        "execution": {
          "iopub.execute_input": "2021-07-30T16:14:43.258519Z",
          "iopub.status.busy": "2021-07-30T16:14:43.257600Z",
          "iopub.status.idle": "2021-07-30T16:14:43.262126Z",
          "shell.execute_reply": "2021-07-30T16:14:43.261497Z",
          "shell.execute_reply.started": "2021-07-30T15:36:50.772397Z"
        },
        "papermill": {
          "duration": 0.104332,
          "end_time": "2021-07-30T16:14:43.262277",
          "exception": false,
          "start_time": "2021-07-30T16:14:43.157945",
          "status": "completed"
        },
        "tags": [],
        "id": "3265c421",
        "outputId": "46c62183-5831-4096-f5e1-513afd491ff2",
        "colab": {
          "base_uri": "https://localhost:8080/"
        }
      },
      "outputs": [
        {
          "output_type": "execute_result",
          "data": {
            "text/plain": [
              "(7479, 99)"
            ]
          },
          "metadata": {},
          "execution_count": 59
        }
      ],
      "source": [
        "df12.shape"
      ]
    },
    {
      "cell_type": "code",
      "execution_count": 60,
      "id": "3fedfc0f",
      "metadata": {
        "execution": {
          "iopub.execute_input": "2021-07-30T16:14:43.459110Z",
          "iopub.status.busy": "2021-07-30T16:14:43.458005Z",
          "iopub.status.idle": "2021-07-30T16:14:43.480595Z",
          "shell.execute_reply": "2021-07-30T16:14:43.479880Z",
          "shell.execute_reply.started": "2021-07-30T15:36:50.780892Z"
        },
        "papermill": {
          "duration": 0.123911,
          "end_time": "2021-07-30T16:14:43.480752",
          "exception": false,
          "start_time": "2021-07-30T16:14:43.356841",
          "status": "completed"
        },
        "scrolled": true,
        "tags": [],
        "id": "3fedfc0f",
        "outputId": "df304f75-905d-49bb-e133-8d6377adc381",
        "colab": {
          "base_uri": "https://localhost:8080/",
          "height": 254
        }
      },
      "outputs": [
        {
          "output_type": "execute_result",
          "data": {
            "text/plain": [
              "   total_sqft  bath  bhk  Alandi Road  Ambegaon Budruk  Anandnagar  Aundh  \\\n",
              "0      1056.0   2.0    2            1                0           0      0   \n",
              "1      2894.0   4.0    4            1                0           0      0   \n",
              "2      1084.0   2.0    2            1                0           0      0   \n",
              "\n",
              "   Aundh Road  Balaji Nagar  Baner  ...  Uruli Devachi  Vadgaon Budruk  \\\n",
              "0           0             0      0  ...              0               0   \n",
              "1           0             0      0  ...              0               0   \n",
              "2           0             0      0  ...              0               0   \n",
              "\n",
              "   Viman Nagar  Vishrant Wadi  Wadgaon Sheri  Wagholi  Wakadewadi  Wanowrie  \\\n",
              "0            0              0              0        0           0         0   \n",
              "1            0              0              0        0           0         0   \n",
              "2            0              0              0        0           0         0   \n",
              "\n",
              "   Warje  Yerawada  \n",
              "0      0         0  \n",
              "1      0         0  \n",
              "2      0         0  \n",
              "\n",
              "[3 rows x 98 columns]"
            ],
            "text/html": [
              "\n",
              "  <div id=\"df-26a2c7e5-4b9b-4e8a-9a40-5ff25b32cd03\">\n",
              "    <div class=\"colab-df-container\">\n",
              "      <div>\n",
              "<style scoped>\n",
              "    .dataframe tbody tr th:only-of-type {\n",
              "        vertical-align: middle;\n",
              "    }\n",
              "\n",
              "    .dataframe tbody tr th {\n",
              "        vertical-align: top;\n",
              "    }\n",
              "\n",
              "    .dataframe thead th {\n",
              "        text-align: right;\n",
              "    }\n",
              "</style>\n",
              "<table border=\"1\" class=\"dataframe\">\n",
              "  <thead>\n",
              "    <tr style=\"text-align: right;\">\n",
              "      <th></th>\n",
              "      <th>total_sqft</th>\n",
              "      <th>bath</th>\n",
              "      <th>bhk</th>\n",
              "      <th>Alandi Road</th>\n",
              "      <th>Ambegaon Budruk</th>\n",
              "      <th>Anandnagar</th>\n",
              "      <th>Aundh</th>\n",
              "      <th>Aundh Road</th>\n",
              "      <th>Balaji Nagar</th>\n",
              "      <th>Baner</th>\n",
              "      <th>...</th>\n",
              "      <th>Uruli Devachi</th>\n",
              "      <th>Vadgaon Budruk</th>\n",
              "      <th>Viman Nagar</th>\n",
              "      <th>Vishrant Wadi</th>\n",
              "      <th>Wadgaon Sheri</th>\n",
              "      <th>Wagholi</th>\n",
              "      <th>Wakadewadi</th>\n",
              "      <th>Wanowrie</th>\n",
              "      <th>Warje</th>\n",
              "      <th>Yerawada</th>\n",
              "    </tr>\n",
              "  </thead>\n",
              "  <tbody>\n",
              "    <tr>\n",
              "      <th>0</th>\n",
              "      <td>1056.0</td>\n",
              "      <td>2.0</td>\n",
              "      <td>2</td>\n",
              "      <td>1</td>\n",
              "      <td>0</td>\n",
              "      <td>0</td>\n",
              "      <td>0</td>\n",
              "      <td>0</td>\n",
              "      <td>0</td>\n",
              "      <td>0</td>\n",
              "      <td>...</td>\n",
              "      <td>0</td>\n",
              "      <td>0</td>\n",
              "      <td>0</td>\n",
              "      <td>0</td>\n",
              "      <td>0</td>\n",
              "      <td>0</td>\n",
              "      <td>0</td>\n",
              "      <td>0</td>\n",
              "      <td>0</td>\n",
              "      <td>0</td>\n",
              "    </tr>\n",
              "    <tr>\n",
              "      <th>1</th>\n",
              "      <td>2894.0</td>\n",
              "      <td>4.0</td>\n",
              "      <td>4</td>\n",
              "      <td>1</td>\n",
              "      <td>0</td>\n",
              "      <td>0</td>\n",
              "      <td>0</td>\n",
              "      <td>0</td>\n",
              "      <td>0</td>\n",
              "      <td>0</td>\n",
              "      <td>...</td>\n",
              "      <td>0</td>\n",
              "      <td>0</td>\n",
              "      <td>0</td>\n",
              "      <td>0</td>\n",
              "      <td>0</td>\n",
              "      <td>0</td>\n",
              "      <td>0</td>\n",
              "      <td>0</td>\n",
              "      <td>0</td>\n",
              "      <td>0</td>\n",
              "    </tr>\n",
              "    <tr>\n",
              "      <th>2</th>\n",
              "      <td>1084.0</td>\n",
              "      <td>2.0</td>\n",
              "      <td>2</td>\n",
              "      <td>1</td>\n",
              "      <td>0</td>\n",
              "      <td>0</td>\n",
              "      <td>0</td>\n",
              "      <td>0</td>\n",
              "      <td>0</td>\n",
              "      <td>0</td>\n",
              "      <td>...</td>\n",
              "      <td>0</td>\n",
              "      <td>0</td>\n",
              "      <td>0</td>\n",
              "      <td>0</td>\n",
              "      <td>0</td>\n",
              "      <td>0</td>\n",
              "      <td>0</td>\n",
              "      <td>0</td>\n",
              "      <td>0</td>\n",
              "      <td>0</td>\n",
              "    </tr>\n",
              "  </tbody>\n",
              "</table>\n",
              "<p>3 rows × 98 columns</p>\n",
              "</div>\n",
              "      <button class=\"colab-df-convert\" onclick=\"convertToInteractive('df-26a2c7e5-4b9b-4e8a-9a40-5ff25b32cd03')\"\n",
              "              title=\"Convert this dataframe to an interactive table.\"\n",
              "              style=\"display:none;\">\n",
              "        \n",
              "  <svg xmlns=\"http://www.w3.org/2000/svg\" height=\"24px\"viewBox=\"0 0 24 24\"\n",
              "       width=\"24px\">\n",
              "    <path d=\"M0 0h24v24H0V0z\" fill=\"none\"/>\n",
              "    <path d=\"M18.56 5.44l.94 2.06.94-2.06 2.06-.94-2.06-.94-.94-2.06-.94 2.06-2.06.94zm-11 1L8.5 8.5l.94-2.06 2.06-.94-2.06-.94L8.5 2.5l-.94 2.06-2.06.94zm10 10l.94 2.06.94-2.06 2.06-.94-2.06-.94-.94-2.06-.94 2.06-2.06.94z\"/><path d=\"M17.41 7.96l-1.37-1.37c-.4-.4-.92-.59-1.43-.59-.52 0-1.04.2-1.43.59L10.3 9.45l-7.72 7.72c-.78.78-.78 2.05 0 2.83L4 21.41c.39.39.9.59 1.41.59.51 0 1.02-.2 1.41-.59l7.78-7.78 2.81-2.81c.8-.78.8-2.07 0-2.86zM5.41 20L4 18.59l7.72-7.72 1.47 1.35L5.41 20z\"/>\n",
              "  </svg>\n",
              "      </button>\n",
              "      \n",
              "  <style>\n",
              "    .colab-df-container {\n",
              "      display:flex;\n",
              "      flex-wrap:wrap;\n",
              "      gap: 12px;\n",
              "    }\n",
              "\n",
              "    .colab-df-convert {\n",
              "      background-color: #E8F0FE;\n",
              "      border: none;\n",
              "      border-radius: 50%;\n",
              "      cursor: pointer;\n",
              "      display: none;\n",
              "      fill: #1967D2;\n",
              "      height: 32px;\n",
              "      padding: 0 0 0 0;\n",
              "      width: 32px;\n",
              "    }\n",
              "\n",
              "    .colab-df-convert:hover {\n",
              "      background-color: #E2EBFA;\n",
              "      box-shadow: 0px 1px 2px rgba(60, 64, 67, 0.3), 0px 1px 3px 1px rgba(60, 64, 67, 0.15);\n",
              "      fill: #174EA6;\n",
              "    }\n",
              "\n",
              "    [theme=dark] .colab-df-convert {\n",
              "      background-color: #3B4455;\n",
              "      fill: #D2E3FC;\n",
              "    }\n",
              "\n",
              "    [theme=dark] .colab-df-convert:hover {\n",
              "      background-color: #434B5C;\n",
              "      box-shadow: 0px 1px 3px 1px rgba(0, 0, 0, 0.15);\n",
              "      filter: drop-shadow(0px 1px 2px rgba(0, 0, 0, 0.3));\n",
              "      fill: #FFFFFF;\n",
              "    }\n",
              "  </style>\n",
              "\n",
              "      <script>\n",
              "        const buttonEl =\n",
              "          document.querySelector('#df-26a2c7e5-4b9b-4e8a-9a40-5ff25b32cd03 button.colab-df-convert');\n",
              "        buttonEl.style.display =\n",
              "          google.colab.kernel.accessAllowed ? 'block' : 'none';\n",
              "\n",
              "        async function convertToInteractive(key) {\n",
              "          const element = document.querySelector('#df-26a2c7e5-4b9b-4e8a-9a40-5ff25b32cd03');\n",
              "          const dataTable =\n",
              "            await google.colab.kernel.invokeFunction('convertToInteractive',\n",
              "                                                     [key], {});\n",
              "          if (!dataTable) return;\n",
              "\n",
              "          const docLinkHtml = 'Like what you see? Visit the ' +\n",
              "            '<a target=\"_blank\" href=https://colab.research.google.com/notebooks/data_table.ipynb>data table notebook</a>'\n",
              "            + ' to learn more about interactive tables.';\n",
              "          element.innerHTML = '';\n",
              "          dataTable['output_type'] = 'display_data';\n",
              "          await google.colab.output.renderOutput(dataTable, element);\n",
              "          const docLink = document.createElement('div');\n",
              "          docLink.innerHTML = docLinkHtml;\n",
              "          element.appendChild(docLink);\n",
              "        }\n",
              "      </script>\n",
              "    </div>\n",
              "  </div>\n",
              "  "
            ]
          },
          "metadata": {},
          "execution_count": 60
        }
      ],
      "source": [
        "X = df12.drop(['price'],axis='columns')\n",
        "X.head(3)"
      ]
    },
    {
      "cell_type": "code",
      "execution_count": 61,
      "id": "3478efaf",
      "metadata": {
        "execution": {
          "iopub.execute_input": "2021-07-30T16:14:43.677532Z",
          "iopub.status.busy": "2021-07-30T16:14:43.676312Z",
          "iopub.status.idle": "2021-07-30T16:14:43.681685Z",
          "shell.execute_reply": "2021-07-30T16:14:43.681110Z",
          "shell.execute_reply.started": "2021-07-30T15:36:50.810046Z"
        },
        "papermill": {
          "duration": 0.105873,
          "end_time": "2021-07-30T16:14:43.681872",
          "exception": false,
          "start_time": "2021-07-30T16:14:43.575999",
          "status": "completed"
        },
        "tags": [],
        "id": "3478efaf",
        "outputId": "cface99f-515d-4624-914c-423e2a028a94",
        "colab": {
          "base_uri": "https://localhost:8080/"
        }
      },
      "outputs": [
        {
          "output_type": "execute_result",
          "data": {
            "text/plain": [
              "(7479, 98)"
            ]
          },
          "metadata": {},
          "execution_count": 61
        }
      ],
      "source": [
        "X.shape"
      ]
    },
    {
      "cell_type": "code",
      "execution_count": 62,
      "id": "efc81282",
      "metadata": {
        "execution": {
          "iopub.execute_input": "2021-07-30T16:14:43.883495Z",
          "iopub.status.busy": "2021-07-30T16:14:43.882521Z",
          "iopub.status.idle": "2021-07-30T16:14:43.887019Z",
          "shell.execute_reply": "2021-07-30T16:14:43.886463Z",
          "shell.execute_reply.started": "2021-07-30T15:36:50.818382Z"
        },
        "papermill": {
          "duration": 0.109355,
          "end_time": "2021-07-30T16:14:43.887161",
          "exception": false,
          "start_time": "2021-07-30T16:14:43.777806",
          "status": "completed"
        },
        "scrolled": true,
        "tags": [],
        "id": "efc81282",
        "outputId": "a14e29bd-9b71-4695-fa44-40d830fee13f",
        "colab": {
          "base_uri": "https://localhost:8080/"
        }
      },
      "outputs": [
        {
          "output_type": "execute_result",
          "data": {
            "text/plain": [
              "0     39.07\n",
              "1    245.00\n",
              "2     50.00\n",
              "Name: price, dtype: float64"
            ]
          },
          "metadata": {},
          "execution_count": 62
        }
      ],
      "source": [
        "y = df12.price\n",
        "y.head(3)"
      ]
    },
    {
      "cell_type": "code",
      "execution_count": 63,
      "id": "d13dd161",
      "metadata": {
        "execution": {
          "iopub.execute_input": "2021-07-30T16:14:44.085052Z",
          "iopub.status.busy": "2021-07-30T16:14:44.084304Z",
          "iopub.status.idle": "2021-07-30T16:14:44.088532Z",
          "shell.execute_reply": "2021-07-30T16:14:44.087996Z",
          "shell.execute_reply.started": "2021-07-30T15:36:50.835127Z"
        },
        "papermill": {
          "duration": 0.104674,
          "end_time": "2021-07-30T16:14:44.088787",
          "exception": false,
          "start_time": "2021-07-30T16:14:43.984113",
          "status": "completed"
        },
        "tags": [],
        "id": "d13dd161",
        "outputId": "5f02fca5-b7c6-4fd2-fbc8-084ecd8886fb",
        "colab": {
          "base_uri": "https://localhost:8080/"
        }
      },
      "outputs": [
        {
          "output_type": "execute_result",
          "data": {
            "text/plain": [
              "7479"
            ]
          },
          "metadata": {},
          "execution_count": 63
        }
      ],
      "source": [
        "len(y)"
      ]
    },
    {
      "cell_type": "code",
      "execution_count": 64,
      "id": "1158c45b",
      "metadata": {
        "execution": {
          "iopub.execute_input": "2021-07-30T16:14:44.285368Z",
          "iopub.status.busy": "2021-07-30T16:14:44.284749Z",
          "iopub.status.idle": "2021-07-30T16:14:45.397329Z",
          "shell.execute_reply": "2021-07-30T16:14:45.396606Z",
          "shell.execute_reply.started": "2021-07-30T15:36:50.848296Z"
        },
        "papermill": {
          "duration": 1.211597,
          "end_time": "2021-07-30T16:14:45.397485",
          "exception": false,
          "start_time": "2021-07-30T16:14:44.185888",
          "status": "completed"
        },
        "tags": [],
        "id": "1158c45b"
      },
      "outputs": [],
      "source": [
        "from sklearn.model_selection import train_test_split\n",
        "X_train, X_test, y_train, y_test = train_test_split(X,y,test_size=0.2,random_state=10)"
      ]
    },
    {
      "cell_type": "code",
      "execution_count": 65,
      "id": "c26d4838",
      "metadata": {
        "execution": {
          "iopub.execute_input": "2021-07-30T16:14:45.594935Z",
          "iopub.status.busy": "2021-07-30T16:14:45.594231Z",
          "iopub.status.idle": "2021-07-30T16:14:46.114947Z",
          "shell.execute_reply": "2021-07-30T16:14:46.115896Z",
          "shell.execute_reply.started": "2021-07-30T15:36:52.217463Z"
        },
        "papermill": {
          "duration": 0.622414,
          "end_time": "2021-07-30T16:14:46.116177",
          "exception": false,
          "start_time": "2021-07-30T16:14:45.493763",
          "status": "completed"
        },
        "tags": [],
        "id": "c26d4838",
        "outputId": "11a0bcb4-58b7-4c75-ddfe-8e581615e175",
        "colab": {
          "base_uri": "https://localhost:8080/"
        }
      },
      "outputs": [
        {
          "output_type": "execute_result",
          "data": {
            "text/plain": [
              "0.8234642712561866"
            ]
          },
          "metadata": {},
          "execution_count": 65
        }
      ],
      "source": [
        "from sklearn.linear_model import LinearRegression\n",
        "lr_clf = LinearRegression()\n",
        "lr_clf.fit(X_train,y_train)\n",
        "lr_clf.score(X_test,y_test)"
      ]
    },
    {
      "cell_type": "markdown",
      "id": "49f1b184",
      "metadata": {
        "papermill": {
          "duration": 0.112165,
          "end_time": "2021-07-30T16:14:46.370731",
          "exception": false,
          "start_time": "2021-07-30T16:14:46.258566",
          "status": "completed"
        },
        "tags": [],
        "id": "49f1b184"
      },
      "source": [
        "### USE K FOLD CROSS VALIDATION TO MEASURE ACCURACY OF OUR LINEAR REGRESSION MODEL"
      ]
    },
    {
      "cell_type": "code",
      "execution_count": 66,
      "id": "4af4e05b",
      "metadata": {
        "execution": {
          "iopub.execute_input": "2021-07-30T16:14:46.585616Z",
          "iopub.status.busy": "2021-07-30T16:14:46.584884Z",
          "iopub.status.idle": "2021-07-30T16:14:47.271589Z",
          "shell.execute_reply": "2021-07-30T16:14:47.272854Z",
          "shell.execute_reply.started": "2021-07-30T15:36:52.619531Z"
        },
        "papermill": {
          "duration": 0.791726,
          "end_time": "2021-07-30T16:14:47.273127",
          "exception": false,
          "start_time": "2021-07-30T16:14:46.481401",
          "status": "completed"
        },
        "tags": [],
        "id": "4af4e05b",
        "outputId": "75c3c231-9166-450a-dbd2-2dcd84ba4efd",
        "colab": {
          "base_uri": "https://localhost:8080/"
        }
      },
      "outputs": [
        {
          "output_type": "execute_result",
          "data": {
            "text/plain": [
              "array([0.87729294, 0.87158074, 0.82825079, 0.89763339, 0.81068616])"
            ]
          },
          "metadata": {},
          "execution_count": 66
        }
      ],
      "source": [
        "from sklearn.model_selection import ShuffleSplit\n",
        "from sklearn.model_selection import cross_val_score\n",
        "\n",
        "cv = ShuffleSplit(n_splits=5, test_size=0.2, random_state=0)\n",
        "\n",
        "cross_val_score(LinearRegression(), X, y, cv=cv)"
      ]
    },
    {
      "cell_type": "markdown",
      "id": "6be2495a",
      "metadata": {
        "papermill": {
          "duration": 0.09607,
          "end_time": "2021-07-30T16:14:47.513206",
          "exception": false,
          "start_time": "2021-07-30T16:14:47.417136",
          "status": "completed"
        },
        "tags": [],
        "id": "6be2495a"
      },
      "source": [
        "**WE CAN SEE THAT IN 5 ITERATIONS WE GET A SCORE ABOVE 80% ALL THE TIME. THIS IS PRETTY GOOD BUT WE WANT TO TEST FEW OTHER ALGORITHMS FOR REGRESSION TO SEE IF WE CAN GET AN EVEN BETTER SCORE. WE WILL USE GRIDSEARCHCV FOR THIS PURPOSE**"
      ]
    },
    {
      "cell_type": "markdown",
      "id": "c69b70ea",
      "metadata": {
        "papermill": {
          "duration": 0.096094,
          "end_time": "2021-07-30T16:14:47.706907",
          "exception": false,
          "start_time": "2021-07-30T16:14:47.610813",
          "status": "completed"
        },
        "tags": [],
        "id": "c69b70ea"
      },
      "source": [
        "### FIND BEST MODEL USING GRIDSEARCHCV"
      ]
    },
    {
      "cell_type": "code",
      "execution_count": 67,
      "id": "9369e6e7",
      "metadata": {
        "execution": {
          "iopub.execute_input": "2021-07-30T16:14:47.915782Z",
          "iopub.status.busy": "2021-07-30T16:14:47.915026Z",
          "iopub.status.idle": "2021-07-30T16:14:54.803932Z",
          "shell.execute_reply": "2021-07-30T16:14:54.803364Z",
          "shell.execute_reply.started": "2021-07-30T15:36:53.425037Z"
        },
        "papermill": {
          "duration": 6.997262,
          "end_time": "2021-07-30T16:14:54.804089",
          "exception": false,
          "start_time": "2021-07-30T16:14:47.806827",
          "status": "completed"
        },
        "tags": [],
        "id": "9369e6e7",
        "outputId": "313f1f89-74a6-497a-c9ae-2159a18944bb",
        "colab": {
          "base_uri": "https://localhost:8080/",
          "height": 1000
        }
      },
      "outputs": [
        {
          "output_type": "stream",
          "name": "stderr",
          "text": [
            "/usr/local/lib/python3.8/dist-packages/sklearn/linear_model/_base.py:141: FutureWarning: 'normalize' was deprecated in version 1.0 and will be removed in 1.2.\n",
            "If you wish to scale the data, use Pipeline with a StandardScaler in a preprocessing stage. To reproduce the previous behavior:\n",
            "\n",
            "from sklearn.pipeline import make_pipeline\n",
            "\n",
            "model = make_pipeline(StandardScaler(with_mean=False), LinearRegression())\n",
            "\n",
            "If you wish to pass a sample_weight parameter, you need to pass it as a fit parameter to each step of the pipeline as follows:\n",
            "\n",
            "kwargs = {s[0] + '__sample_weight': sample_weight for s in model.steps}\n",
            "model.fit(X, y, **kwargs)\n",
            "\n",
            "\n",
            "  warnings.warn(\n",
            "/usr/local/lib/python3.8/dist-packages/sklearn/linear_model/_base.py:141: FutureWarning: 'normalize' was deprecated in version 1.0 and will be removed in 1.2.\n",
            "If you wish to scale the data, use Pipeline with a StandardScaler in a preprocessing stage. To reproduce the previous behavior:\n",
            "\n",
            "from sklearn.pipeline import make_pipeline\n",
            "\n",
            "model = make_pipeline(StandardScaler(with_mean=False), LinearRegression())\n",
            "\n",
            "If you wish to pass a sample_weight parameter, you need to pass it as a fit parameter to each step of the pipeline as follows:\n",
            "\n",
            "kwargs = {s[0] + '__sample_weight': sample_weight for s in model.steps}\n",
            "model.fit(X, y, **kwargs)\n",
            "\n",
            "\n",
            "  warnings.warn(\n",
            "/usr/local/lib/python3.8/dist-packages/sklearn/linear_model/_base.py:141: FutureWarning: 'normalize' was deprecated in version 1.0 and will be removed in 1.2.\n",
            "If you wish to scale the data, use Pipeline with a StandardScaler in a preprocessing stage. To reproduce the previous behavior:\n",
            "\n",
            "from sklearn.pipeline import make_pipeline\n",
            "\n",
            "model = make_pipeline(StandardScaler(with_mean=False), LinearRegression())\n",
            "\n",
            "If you wish to pass a sample_weight parameter, you need to pass it as a fit parameter to each step of the pipeline as follows:\n",
            "\n",
            "kwargs = {s[0] + '__sample_weight': sample_weight for s in model.steps}\n",
            "model.fit(X, y, **kwargs)\n",
            "\n",
            "\n",
            "  warnings.warn(\n",
            "/usr/local/lib/python3.8/dist-packages/sklearn/linear_model/_base.py:141: FutureWarning: 'normalize' was deprecated in version 1.0 and will be removed in 1.2.\n",
            "If you wish to scale the data, use Pipeline with a StandardScaler in a preprocessing stage. To reproduce the previous behavior:\n",
            "\n",
            "from sklearn.pipeline import make_pipeline\n",
            "\n",
            "model = make_pipeline(StandardScaler(with_mean=False), LinearRegression())\n",
            "\n",
            "If you wish to pass a sample_weight parameter, you need to pass it as a fit parameter to each step of the pipeline as follows:\n",
            "\n",
            "kwargs = {s[0] + '__sample_weight': sample_weight for s in model.steps}\n",
            "model.fit(X, y, **kwargs)\n",
            "\n",
            "\n",
            "  warnings.warn(\n",
            "/usr/local/lib/python3.8/dist-packages/sklearn/linear_model/_base.py:141: FutureWarning: 'normalize' was deprecated in version 1.0 and will be removed in 1.2.\n",
            "If you wish to scale the data, use Pipeline with a StandardScaler in a preprocessing stage. To reproduce the previous behavior:\n",
            "\n",
            "from sklearn.pipeline import make_pipeline\n",
            "\n",
            "model = make_pipeline(StandardScaler(with_mean=False), LinearRegression())\n",
            "\n",
            "If you wish to pass a sample_weight parameter, you need to pass it as a fit parameter to each step of the pipeline as follows:\n",
            "\n",
            "kwargs = {s[0] + '__sample_weight': sample_weight for s in model.steps}\n",
            "model.fit(X, y, **kwargs)\n",
            "\n",
            "\n",
            "  warnings.warn(\n",
            "/usr/local/lib/python3.8/dist-packages/sklearn/linear_model/_base.py:148: FutureWarning: 'normalize' was deprecated in version 1.0 and will be removed in 1.2. Please leave the normalize parameter to its default value to silence this warning. The default behavior of this estimator is to not do any normalization. If normalization is needed please use sklearn.preprocessing.StandardScaler instead.\n",
            "  warnings.warn(\n",
            "/usr/local/lib/python3.8/dist-packages/sklearn/linear_model/_base.py:148: FutureWarning: 'normalize' was deprecated in version 1.0 and will be removed in 1.2. Please leave the normalize parameter to its default value to silence this warning. The default behavior of this estimator is to not do any normalization. If normalization is needed please use sklearn.preprocessing.StandardScaler instead.\n",
            "  warnings.warn(\n",
            "/usr/local/lib/python3.8/dist-packages/sklearn/linear_model/_base.py:148: FutureWarning: 'normalize' was deprecated in version 1.0 and will be removed in 1.2. Please leave the normalize parameter to its default value to silence this warning. The default behavior of this estimator is to not do any normalization. If normalization is needed please use sklearn.preprocessing.StandardScaler instead.\n",
            "  warnings.warn(\n",
            "/usr/local/lib/python3.8/dist-packages/sklearn/linear_model/_base.py:148: FutureWarning: 'normalize' was deprecated in version 1.0 and will be removed in 1.2. Please leave the normalize parameter to its default value to silence this warning. The default behavior of this estimator is to not do any normalization. If normalization is needed please use sklearn.preprocessing.StandardScaler instead.\n",
            "  warnings.warn(\n",
            "/usr/local/lib/python3.8/dist-packages/sklearn/linear_model/_base.py:148: FutureWarning: 'normalize' was deprecated in version 1.0 and will be removed in 1.2. Please leave the normalize parameter to its default value to silence this warning. The default behavior of this estimator is to not do any normalization. If normalization is needed please use sklearn.preprocessing.StandardScaler instead.\n",
            "  warnings.warn(\n",
            "/usr/local/lib/python3.8/dist-packages/sklearn/linear_model/_base.py:148: FutureWarning: 'normalize' was deprecated in version 1.0 and will be removed in 1.2. Please leave the normalize parameter to its default value to silence this warning. The default behavior of this estimator is to not do any normalization. If normalization is needed please use sklearn.preprocessing.StandardScaler instead.\n",
            "  warnings.warn(\n",
            "/usr/local/lib/python3.8/dist-packages/sklearn/tree/_classes.py:359: FutureWarning: Criterion 'mse' was deprecated in v1.0 and will be removed in version 1.2. Use `criterion='squared_error'` which is equivalent.\n",
            "  warnings.warn(\n",
            "/usr/local/lib/python3.8/dist-packages/sklearn/tree/_classes.py:359: FutureWarning: Criterion 'mse' was deprecated in v1.0 and will be removed in version 1.2. Use `criterion='squared_error'` which is equivalent.\n",
            "  warnings.warn(\n",
            "/usr/local/lib/python3.8/dist-packages/sklearn/tree/_classes.py:359: FutureWarning: Criterion 'mse' was deprecated in v1.0 and will be removed in version 1.2. Use `criterion='squared_error'` which is equivalent.\n",
            "  warnings.warn(\n",
            "/usr/local/lib/python3.8/dist-packages/sklearn/tree/_classes.py:359: FutureWarning: Criterion 'mse' was deprecated in v1.0 and will be removed in version 1.2. Use `criterion='squared_error'` which is equivalent.\n",
            "  warnings.warn(\n",
            "/usr/local/lib/python3.8/dist-packages/sklearn/tree/_classes.py:359: FutureWarning: Criterion 'mse' was deprecated in v1.0 and will be removed in version 1.2. Use `criterion='squared_error'` which is equivalent.\n",
            "  warnings.warn(\n",
            "/usr/local/lib/python3.8/dist-packages/sklearn/tree/_classes.py:359: FutureWarning: Criterion 'mse' was deprecated in v1.0 and will be removed in version 1.2. Use `criterion='squared_error'` which is equivalent.\n",
            "  warnings.warn(\n",
            "/usr/local/lib/python3.8/dist-packages/sklearn/tree/_classes.py:359: FutureWarning: Criterion 'mse' was deprecated in v1.0 and will be removed in version 1.2. Use `criterion='squared_error'` which is equivalent.\n",
            "  warnings.warn(\n",
            "/usr/local/lib/python3.8/dist-packages/sklearn/tree/_classes.py:359: FutureWarning: Criterion 'mse' was deprecated in v1.0 and will be removed in version 1.2. Use `criterion='squared_error'` which is equivalent.\n",
            "  warnings.warn(\n",
            "/usr/local/lib/python3.8/dist-packages/sklearn/tree/_classes.py:359: FutureWarning: Criterion 'mse' was deprecated in v1.0 and will be removed in version 1.2. Use `criterion='squared_error'` which is equivalent.\n",
            "  warnings.warn(\n",
            "/usr/local/lib/python3.8/dist-packages/sklearn/tree/_classes.py:359: FutureWarning: Criterion 'mse' was deprecated in v1.0 and will be removed in version 1.2. Use `criterion='squared_error'` which is equivalent.\n",
            "  warnings.warn(\n"
          ]
        },
        {
          "output_type": "execute_result",
          "data": {
            "text/plain": [
              "               model  best_score  \\\n",
              "0  linear_regression    0.857089   \n",
              "1              lasso    0.857851   \n",
              "2      decision_tree    0.763385   \n",
              "\n",
              "                                         best_params  \n",
              "0                               {'normalize': False}  \n",
              "1                {'alpha': 2, 'selection': 'cyclic'}  \n",
              "2  {'criterion': 'friedman_mse', 'splitter': 'ran...  "
            ],
            "text/html": [
              "\n",
              "  <div id=\"df-493c3278-a1df-44a7-b10e-7b3bd189fb68\">\n",
              "    <div class=\"colab-df-container\">\n",
              "      <div>\n",
              "<style scoped>\n",
              "    .dataframe tbody tr th:only-of-type {\n",
              "        vertical-align: middle;\n",
              "    }\n",
              "\n",
              "    .dataframe tbody tr th {\n",
              "        vertical-align: top;\n",
              "    }\n",
              "\n",
              "    .dataframe thead th {\n",
              "        text-align: right;\n",
              "    }\n",
              "</style>\n",
              "<table border=\"1\" class=\"dataframe\">\n",
              "  <thead>\n",
              "    <tr style=\"text-align: right;\">\n",
              "      <th></th>\n",
              "      <th>model</th>\n",
              "      <th>best_score</th>\n",
              "      <th>best_params</th>\n",
              "    </tr>\n",
              "  </thead>\n",
              "  <tbody>\n",
              "    <tr>\n",
              "      <th>0</th>\n",
              "      <td>linear_regression</td>\n",
              "      <td>0.857089</td>\n",
              "      <td>{'normalize': False}</td>\n",
              "    </tr>\n",
              "    <tr>\n",
              "      <th>1</th>\n",
              "      <td>lasso</td>\n",
              "      <td>0.857851</td>\n",
              "      <td>{'alpha': 2, 'selection': 'cyclic'}</td>\n",
              "    </tr>\n",
              "    <tr>\n",
              "      <th>2</th>\n",
              "      <td>decision_tree</td>\n",
              "      <td>0.763385</td>\n",
              "      <td>{'criterion': 'friedman_mse', 'splitter': 'ran...</td>\n",
              "    </tr>\n",
              "  </tbody>\n",
              "</table>\n",
              "</div>\n",
              "      <button class=\"colab-df-convert\" onclick=\"convertToInteractive('df-493c3278-a1df-44a7-b10e-7b3bd189fb68')\"\n",
              "              title=\"Convert this dataframe to an interactive table.\"\n",
              "              style=\"display:none;\">\n",
              "        \n",
              "  <svg xmlns=\"http://www.w3.org/2000/svg\" height=\"24px\"viewBox=\"0 0 24 24\"\n",
              "       width=\"24px\">\n",
              "    <path d=\"M0 0h24v24H0V0z\" fill=\"none\"/>\n",
              "    <path d=\"M18.56 5.44l.94 2.06.94-2.06 2.06-.94-2.06-.94-.94-2.06-.94 2.06-2.06.94zm-11 1L8.5 8.5l.94-2.06 2.06-.94-2.06-.94L8.5 2.5l-.94 2.06-2.06.94zm10 10l.94 2.06.94-2.06 2.06-.94-2.06-.94-.94-2.06-.94 2.06-2.06.94z\"/><path d=\"M17.41 7.96l-1.37-1.37c-.4-.4-.92-.59-1.43-.59-.52 0-1.04.2-1.43.59L10.3 9.45l-7.72 7.72c-.78.78-.78 2.05 0 2.83L4 21.41c.39.39.9.59 1.41.59.51 0 1.02-.2 1.41-.59l7.78-7.78 2.81-2.81c.8-.78.8-2.07 0-2.86zM5.41 20L4 18.59l7.72-7.72 1.47 1.35L5.41 20z\"/>\n",
              "  </svg>\n",
              "      </button>\n",
              "      \n",
              "  <style>\n",
              "    .colab-df-container {\n",
              "      display:flex;\n",
              "      flex-wrap:wrap;\n",
              "      gap: 12px;\n",
              "    }\n",
              "\n",
              "    .colab-df-convert {\n",
              "      background-color: #E8F0FE;\n",
              "      border: none;\n",
              "      border-radius: 50%;\n",
              "      cursor: pointer;\n",
              "      display: none;\n",
              "      fill: #1967D2;\n",
              "      height: 32px;\n",
              "      padding: 0 0 0 0;\n",
              "      width: 32px;\n",
              "    }\n",
              "\n",
              "    .colab-df-convert:hover {\n",
              "      background-color: #E2EBFA;\n",
              "      box-shadow: 0px 1px 2px rgba(60, 64, 67, 0.3), 0px 1px 3px 1px rgba(60, 64, 67, 0.15);\n",
              "      fill: #174EA6;\n",
              "    }\n",
              "\n",
              "    [theme=dark] .colab-df-convert {\n",
              "      background-color: #3B4455;\n",
              "      fill: #D2E3FC;\n",
              "    }\n",
              "\n",
              "    [theme=dark] .colab-df-convert:hover {\n",
              "      background-color: #434B5C;\n",
              "      box-shadow: 0px 1px 3px 1px rgba(0, 0, 0, 0.15);\n",
              "      filter: drop-shadow(0px 1px 2px rgba(0, 0, 0, 0.3));\n",
              "      fill: #FFFFFF;\n",
              "    }\n",
              "  </style>\n",
              "\n",
              "      <script>\n",
              "        const buttonEl =\n",
              "          document.querySelector('#df-493c3278-a1df-44a7-b10e-7b3bd189fb68 button.colab-df-convert');\n",
              "        buttonEl.style.display =\n",
              "          google.colab.kernel.accessAllowed ? 'block' : 'none';\n",
              "\n",
              "        async function convertToInteractive(key) {\n",
              "          const element = document.querySelector('#df-493c3278-a1df-44a7-b10e-7b3bd189fb68');\n",
              "          const dataTable =\n",
              "            await google.colab.kernel.invokeFunction('convertToInteractive',\n",
              "                                                     [key], {});\n",
              "          if (!dataTable) return;\n",
              "\n",
              "          const docLinkHtml = 'Like what you see? Visit the ' +\n",
              "            '<a target=\"_blank\" href=https://colab.research.google.com/notebooks/data_table.ipynb>data table notebook</a>'\n",
              "            + ' to learn more about interactive tables.';\n",
              "          element.innerHTML = '';\n",
              "          dataTable['output_type'] = 'display_data';\n",
              "          await google.colab.output.renderOutput(dataTable, element);\n",
              "          const docLink = document.createElement('div');\n",
              "          docLink.innerHTML = docLinkHtml;\n",
              "          element.appendChild(docLink);\n",
              "        }\n",
              "      </script>\n",
              "    </div>\n",
              "  </div>\n",
              "  "
            ]
          },
          "metadata": {},
          "execution_count": 67
        }
      ],
      "source": [
        "from sklearn.model_selection import GridSearchCV\n",
        "\n",
        "from sklearn.linear_model import Lasso\n",
        "from sklearn.tree import DecisionTreeRegressor\n",
        "\n",
        "def find_best_model_using_gridsearchcv(X,y):\n",
        "    algos = {\n",
        "        'linear_regression' : {\n",
        "            'model': LinearRegression(),\n",
        "            'params': {\n",
        "                'normalize': [True, False]\n",
        "            }\n",
        "        },\n",
        "        'lasso': {\n",
        "            'model': Lasso(),\n",
        "            'params': {\n",
        "                'alpha': [1,2],\n",
        "                'selection': ['random', 'cyclic']\n",
        "            }\n",
        "        },\n",
        "        'decision_tree': {\n",
        "            'model': DecisionTreeRegressor(),\n",
        "            'params': {\n",
        "                'criterion' : ['mse','friedman_mse'],\n",
        "                'splitter': ['best','random']\n",
        "            }\n",
        "        }\n",
        "    }\n",
        "    scores = []\n",
        "    cv = ShuffleSplit(n_splits=5, test_size=0.2, random_state=0)\n",
        "    for algo_name, config in algos.items():\n",
        "        gs =  GridSearchCV(config['model'], config['params'], cv=cv, return_train_score=False)\n",
        "        gs.fit(X,y)\n",
        "        scores.append({\n",
        "            'model': algo_name,\n",
        "            'best_score': gs.best_score_,\n",
        "            'best_params': gs.best_params_\n",
        "        })\n",
        "\n",
        "    return pd.DataFrame(scores,columns=['model','best_score','best_params'])\n",
        "\n",
        "find_best_model_using_gridsearchcv(X,y)"
      ]
    },
    {
      "cell_type": "markdown",
      "id": "ad1ab485",
      "metadata": {
        "papermill": {
          "duration": 0.099266,
          "end_time": "2021-07-30T16:14:55.003284",
          "exception": false,
          "start_time": "2021-07-30T16:14:54.904018",
          "status": "completed"
        },
        "tags": [],
        "id": "ad1ab485"
      },
      "source": [
        "**BASED ON THE ABOVE RESULTS WE CAN SAY THAT LINEAR REGRESSION GIVES THE BEST SCORE. HENCE WE WILL USE THAT.**"
      ]
    },
    {
      "cell_type": "markdown",
      "id": "f973b46d",
      "metadata": {
        "papermill": {
          "duration": 0.09724,
          "end_time": "2021-07-30T16:14:55.200130",
          "exception": false,
          "start_time": "2021-07-30T16:14:55.102890",
          "status": "completed"
        },
        "tags": [],
        "id": "f973b46d"
      },
      "source": [
        "### TEST THE MODEL FOR FEW PROPERTIES"
      ]
    },
    {
      "cell_type": "code",
      "execution_count": 68,
      "id": "b87f0cd9",
      "metadata": {
        "execution": {
          "iopub.execute_input": "2021-07-30T16:14:55.401917Z",
          "iopub.status.busy": "2021-07-30T16:14:55.401214Z",
          "iopub.status.idle": "2021-07-30T16:14:55.404029Z",
          "shell.execute_reply": "2021-07-30T16:14:55.404528Z",
          "shell.execute_reply.started": "2021-07-30T15:37:00.926023Z"
        },
        "papermill": {
          "duration": 0.107678,
          "end_time": "2021-07-30T16:14:55.404746",
          "exception": false,
          "start_time": "2021-07-30T16:14:55.297068",
          "status": "completed"
        },
        "tags": [],
        "id": "b87f0cd9"
      },
      "outputs": [],
      "source": [
        "def predict_price(location,sqft,bath,bhk):    \n",
        "    loc_index = np.where(X.columns==location)[0][0]\n",
        "\n",
        "    x = np.zeros(len(X.columns))\n",
        "    x[0] = sqft\n",
        "    x[1] = bath\n",
        "    x[2] = bhk\n",
        "    if loc_index >= 0:\n",
        "        x[loc_index] = 1\n",
        "\n",
        "    return lr_clf.predict([x])[0]"
      ]
    },
    {
      "cell_type": "code",
      "execution_count": 70,
      "id": "12a5c4c1",
      "metadata": {
        "execution": {
          "iopub.execute_input": "2021-07-30T16:14:55.602491Z",
          "iopub.status.busy": "2021-07-30T16:14:55.601852Z",
          "iopub.status.idle": "2021-07-30T16:14:55.607878Z",
          "shell.execute_reply": "2021-07-30T16:14:55.608366Z",
          "shell.execute_reply.started": "2021-07-30T15:37:00.935408Z"
        },
        "papermill": {
          "duration": 0.106277,
          "end_time": "2021-07-30T16:14:55.608533",
          "exception": false,
          "start_time": "2021-07-30T16:14:55.502256",
          "status": "completed"
        },
        "tags": [],
        "id": "12a5c4c1",
        "outputId": "410743aa-39a4-44bc-8b62-e761bbb4c4a2",
        "colab": {
          "base_uri": "https://localhost:8080/"
        }
      },
      "outputs": [
        {
          "output_type": "stream",
          "name": "stderr",
          "text": [
            "/usr/local/lib/python3.8/dist-packages/sklearn/base.py:450: UserWarning: X does not have valid feature names, but LinearRegression was fitted with feature names\n",
            "  warnings.warn(\n"
          ]
        },
        {
          "output_type": "execute_result",
          "data": {
            "text/plain": [
              "65.92437013734961"
            ]
          },
          "metadata": {},
          "execution_count": 70
        }
      ],
      "source": [
        "predict_price('Aundh',1000, 2, 2)"
      ]
    },
    {
      "cell_type": "code",
      "execution_count": 71,
      "id": "0f78f456",
      "metadata": {
        "execution": {
          "iopub.execute_input": "2021-07-30T16:14:55.806248Z",
          "iopub.status.busy": "2021-07-30T16:14:55.805608Z",
          "iopub.status.idle": "2021-07-30T16:14:55.812933Z",
          "shell.execute_reply": "2021-07-30T16:14:55.812289Z",
          "shell.execute_reply.started": "2021-07-30T15:37:00.950938Z"
        },
        "papermill": {
          "duration": 0.107086,
          "end_time": "2021-07-30T16:14:55.813076",
          "exception": false,
          "start_time": "2021-07-30T16:14:55.705990",
          "status": "completed"
        },
        "tags": [],
        "id": "0f78f456",
        "outputId": "fb9f8954-7c55-48ff-a364-1ea8ee26e935",
        "colab": {
          "base_uri": "https://localhost:8080/"
        }
      },
      "outputs": [
        {
          "output_type": "stream",
          "name": "stderr",
          "text": [
            "/usr/local/lib/python3.8/dist-packages/sklearn/base.py:450: UserWarning: X does not have valid feature names, but LinearRegression was fitted with feature names\n",
            "  warnings.warn(\n"
          ]
        },
        {
          "output_type": "execute_result",
          "data": {
            "text/plain": [
              "64.19679444966215"
            ]
          },
          "metadata": {},
          "execution_count": 71
        }
      ],
      "source": [
        "predict_price('Aundh Road',1000, 3, 3)"
      ]
    },
    {
      "cell_type": "code",
      "execution_count": 72,
      "id": "ff5abca1",
      "metadata": {
        "execution": {
          "iopub.execute_input": "2021-07-30T16:14:56.023740Z",
          "iopub.status.busy": "2021-07-30T16:14:56.023010Z",
          "iopub.status.idle": "2021-07-30T16:14:56.026890Z",
          "shell.execute_reply": "2021-07-30T16:14:56.027340Z",
          "shell.execute_reply.started": "2021-07-30T15:37:00.965006Z"
        },
        "papermill": {
          "duration": 0.112324,
          "end_time": "2021-07-30T16:14:56.027516",
          "exception": false,
          "start_time": "2021-07-30T16:14:55.915192",
          "status": "completed"
        },
        "tags": [],
        "id": "ff5abca1",
        "outputId": "8db0edb2-2ce1-435d-c988-bf0168d276a3",
        "colab": {
          "base_uri": "https://localhost:8080/"
        }
      },
      "outputs": [
        {
          "output_type": "stream",
          "name": "stderr",
          "text": [
            "/usr/local/lib/python3.8/dist-packages/sklearn/base.py:450: UserWarning: X does not have valid feature names, but LinearRegression was fitted with feature names\n",
            "  warnings.warn(\n"
          ]
        },
        {
          "output_type": "execute_result",
          "data": {
            "text/plain": [
              "54.19142841401754"
            ]
          },
          "metadata": {},
          "execution_count": 72
        }
      ],
      "source": [
        "predict_price('Navi Peth',1000, 2, 2)"
      ]
    },
    {
      "cell_type": "code",
      "execution_count": 74,
      "id": "1f3dbc47",
      "metadata": {
        "execution": {
          "iopub.execute_input": "2021-07-30T16:14:56.230278Z",
          "iopub.status.busy": "2021-07-30T16:14:56.229544Z",
          "iopub.status.idle": "2021-07-30T16:14:56.233473Z",
          "shell.execute_reply": "2021-07-30T16:14:56.232844Z",
          "shell.execute_reply.started": "2021-07-30T15:37:00.979090Z"
        },
        "papermill": {
          "duration": 0.108128,
          "end_time": "2021-07-30T16:14:56.233636",
          "exception": false,
          "start_time": "2021-07-30T16:14:56.125508",
          "status": "completed"
        },
        "scrolled": true,
        "tags": [],
        "id": "1f3dbc47",
        "outputId": "05d26909-49a3-4667-9385-3db1faac16a5",
        "colab": {
          "base_uri": "https://localhost:8080/"
        }
      },
      "outputs": [
        {
          "output_type": "stream",
          "name": "stderr",
          "text": [
            "/usr/local/lib/python3.8/dist-packages/sklearn/base.py:450: UserWarning: X does not have valid feature names, but LinearRegression was fitted with feature names\n",
            "  warnings.warn(\n"
          ]
        },
        {
          "output_type": "execute_result",
          "data": {
            "text/plain": [
              "57.14515132506483"
            ]
          },
          "metadata": {},
          "execution_count": 74
        }
      ],
      "source": [
        "predict_price('Shivaji Nagar',1000, 3, 3)"
      ]
    },
    {
      "cell_type": "markdown",
      "id": "35a3d282",
      "metadata": {
        "papermill": {
          "duration": 0.098357,
          "end_time": "2021-07-30T16:14:56.431378",
          "exception": false,
          "start_time": "2021-07-30T16:14:56.333021",
          "status": "completed"
        },
        "tags": [],
        "id": "35a3d282"
      },
      "source": [
        "### EXPORT THE TESTED MODEL TO A PICKLE FILE"
      ]
    },
    {
      "cell_type": "code",
      "execution_count": 76,
      "id": "d0ebb742",
      "metadata": {
        "execution": {
          "iopub.execute_input": "2021-07-30T16:14:56.634461Z",
          "iopub.status.busy": "2021-07-30T16:14:56.633818Z",
          "iopub.status.idle": "2021-07-30T16:14:56.635925Z",
          "shell.execute_reply": "2021-07-30T16:14:56.636394Z",
          "shell.execute_reply.started": "2021-07-30T15:37:00.993167Z"
        },
        "papermill": {
          "duration": 0.106586,
          "end_time": "2021-07-30T16:14:56.636618",
          "exception": false,
          "start_time": "2021-07-30T16:14:56.530032",
          "status": "completed"
        },
        "tags": [],
        "id": "d0ebb742"
      },
      "outputs": [],
      "source": [
        "import pickle\n",
        "with open('pune_home_prices_model.pickle','wb') as f:\n",
        "    pickle.dump(lr_clf,f)"
      ]
    },
    {
      "cell_type": "markdown",
      "id": "b0c76190",
      "metadata": {
        "papermill": {
          "duration": 0.099529,
          "end_time": "2021-07-30T16:14:56.835183",
          "exception": false,
          "start_time": "2021-07-30T16:14:56.735654",
          "status": "completed"
        },
        "tags": [],
        "id": "b0c76190"
      },
      "source": [
        "### EXPORT LOCATION AND COLUMN INFORMATION TO A FILE THAT WILL BE USEFUL LATER ON IN OUR PREDICTION APPLICATION"
      ]
    },
    {
      "cell_type": "code",
      "execution_count": 77,
      "id": "ef1d5731",
      "metadata": {
        "execution": {
          "iopub.execute_input": "2021-07-30T16:14:57.039134Z",
          "iopub.status.busy": "2021-07-30T16:14:57.038419Z",
          "iopub.status.idle": "2021-07-30T16:14:57.044755Z",
          "shell.execute_reply": "2021-07-30T16:14:57.044119Z",
          "shell.execute_reply.started": "2021-07-30T15:37:01.007715Z"
        },
        "papermill": {
          "duration": 0.109599,
          "end_time": "2021-07-30T16:14:57.044947",
          "exception": false,
          "start_time": "2021-07-30T16:14:56.935348",
          "status": "completed"
        },
        "tags": [],
        "id": "ef1d5731"
      },
      "outputs": [],
      "source": [
        "import json\n",
        "columns = {\n",
        "    'data_columns' : [col.lower() for col in X.columns]\n",
        "}\n",
        "with open(\"columns.json\",\"w\") as f:\n",
        "    f.write(json.dumps(columns))"
      ]
    }
  ],
  "metadata": {
    "kernelspec": {
      "display_name": "Python 3",
      "language": "python",
      "name": "python3"
    },
    "language_info": {
      "codemirror_mode": {
        "name": "ipython",
        "version": 3
      },
      "file_extension": ".py",
      "mimetype": "text/x-python",
      "name": "python",
      "nbconvert_exporter": "python",
      "pygments_lexer": "ipython3",
      "version": "3.7.10"
    },
    "papermill": {
      "default_parameters": {},
      "duration": 43.145995,
      "end_time": "2021-07-30T16:14:58.949762",
      "environment_variables": {},
      "exception": null,
      "input_path": "__notebook__.ipynb",
      "output_path": "__notebook__.ipynb",
      "parameters": {},
      "start_time": "2021-07-30T16:14:15.803767",
      "version": "2.3.3"
    },
    "colab": {
      "provenance": []
    }
  },
  "nbformat": 4,
  "nbformat_minor": 5
}